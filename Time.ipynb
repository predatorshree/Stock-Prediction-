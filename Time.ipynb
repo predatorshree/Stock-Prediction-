{
 "cells": [
  {
   "cell_type": "raw",
   "id": "6fd72fe8",
   "metadata": {},
   "source": [
    "name = input('what is your name?')\n",
    "print('hello '+name)"
   ]
  },
  {
   "cell_type": "code",
   "execution_count": 1,
   "id": "2060c281",
   "metadata": {},
   "outputs": [],
   "source": [
    "#fundamental data type\n",
    "int\n",
    "float\n",
    "bool\n",
    "str\n",
    "list\n",
    "tuple\n",
    "set\n",
    "dict\n",
    "#classes-> custom types\n",
    "#specialized data types\n",
    "None "
   ]
  },
  {
   "cell_type": "code",
   "execution_count": 9,
   "id": "232b33fe",
   "metadata": {},
   "outputs": [
    {
     "name": "stdout",
     "output_type": "stream",
     "text": [
      "<class 'int'>\n"
     ]
    }
   ],
   "source": [
    "print(type(0))"
   ]
  },
  {
   "cell_type": "code",
   "execution_count": 10,
   "id": "65e74c47",
   "metadata": {
    "scrolled": true
   },
   "outputs": [
    {
     "name": "stdout",
     "output_type": "stream",
     "text": [
      "2\n",
      "40\n"
     ]
    }
   ],
   "source": [
    "print(round(2.0))\n",
    "print(abs(-40))"
   ]
  },
  {
   "cell_type": "code",
   "execution_count": 11,
   "id": "aa783170",
   "metadata": {},
   "outputs": [],
   "source": [
    "# operator precedence\n",
    "#()\n",
    "#**\n",
    "#* /\n",
    "#+ - "
   ]
  },
  {
   "cell_type": "code",
   "execution_count": 12,
   "id": "f7bbd19d",
   "metadata": {},
   "outputs": [
    {
     "name": "stdout",
     "output_type": "stream",
     "text": [
      "0b101\n"
     ]
    }
   ],
   "source": [
    "print(bin(5))"
   ]
  },
  {
   "cell_type": "code",
   "execution_count": 13,
   "id": "8b4b7f3d",
   "metadata": {},
   "outputs": [
    {
     "name": "stdout",
     "output_type": "stream",
     "text": [
      "5\n"
     ]
    }
   ],
   "source": [
    "print(int('0b101',2))"
   ]
  },
  {
   "cell_type": "code",
   "execution_count": 14,
   "id": "74eb9466",
   "metadata": {},
   "outputs": [
    {
     "ename": "NameError",
     "evalue": "name 'iq' is not defined",
     "output_type": "error",
     "traceback": [
      "\u001b[1;31m---------------------------------------------------------------------------\u001b[0m",
      "\u001b[1;31mNameError\u001b[0m                                 Traceback (most recent call last)",
      "Cell \u001b[1;32mIn[14], line 2\u001b[0m\n\u001b[0;32m      1\u001b[0m user_iq \u001b[38;5;241m=\u001b[39m\u001b[38;5;241m210\u001b[39m\n\u001b[1;32m----> 2\u001b[0m \u001b[38;5;28mprint\u001b[39m(\u001b[38;5;28mbin\u001b[39m(\u001b[43miq\u001b[49m))\n\u001b[0;32m      3\u001b[0m \u001b[38;5;28mprint\u001b[39m(\u001b[38;5;28mint\u001b[39m(\u001b[38;5;124m'\u001b[39m\u001b[38;5;124m0b11010010\u001b[39m\u001b[38;5;124m'\u001b[39m,\u001b[38;5;241m2\u001b[39m)) \n",
      "\u001b[1;31mNameError\u001b[0m: name 'iq' is not defined"
     ]
    }
   ],
   "source": [
    "user_iq =210\n",
    "print(bin(iq))\n",
    "print(int('0b11010010',2)) "
   ]
  },
  {
   "cell_type": "code",
   "execution_count": 15,
   "id": "3b04b51d",
   "metadata": {},
   "outputs": [
    {
     "name": "stdout",
     "output_type": "stream",
     "text": [
      "1 2 4\n"
     ]
    }
   ],
   "source": [
    "a,b,c = 1,2,4\n",
    "print(a,b,c)"
   ]
  },
  {
   "cell_type": "code",
   "execution_count": 16,
   "id": "799aa9da",
   "metadata": {},
   "outputs": [
    {
     "name": "stdout",
     "output_type": "stream",
     "text": [
      "10\n",
      "6\n"
     ]
    }
   ],
   "source": [
    "# augmented assignment operator\n",
    "some_value = 6\n",
    "some_value += 4\n",
    " \n",
    "print(some_value)\n",
    "\n",
    "some_value = 10\n",
    "some_value -= 4\n",
    "print(some_value)\n"
   ]
  },
  {
   "cell_type": "code",
   "execution_count": 17,
   "id": "ede4c3f7",
   "metadata": {},
   "outputs": [
    {
     "name": "stdout",
     "output_type": "stream",
     "text": [
      "<class 'str'>\n",
      "\n",
      "WWW\n",
      "O O\n",
      "_-_\n",
      "\n"
     ]
    }
   ],
   "source": [
    "print(type('hello shree'))\n",
    "username = 'predator'\n",
    "password = \"kill_prey\"\n",
    "\n",
    "long_string = '''\n",
    "WWW\n",
    "O O\n",
    "_-_\n",
    "'''\n",
    "print(long_string)"
   ]
  },
  {
   "cell_type": "code",
   "execution_count": 18,
   "id": "ba95b959",
   "metadata": {},
   "outputs": [
    {
     "name": "stdout",
     "output_type": "stream",
     "text": [
      "Shree Kapote\n"
     ]
    }
   ],
   "source": [
    "first_name = 'Shree'\n",
    "last_name = 'Kapote'\n",
    "full_name = first_name + ' ' + last_name\n",
    "print(full_name)"
   ]
  },
  {
   "cell_type": "code",
   "execution_count": 19,
   "id": "bff9d6f3",
   "metadata": {},
   "outputs": [
    {
     "name": "stdout",
     "output_type": "stream",
     "text": [
      "shree kapote\n"
     ]
    },
    {
     "ename": "TypeError",
     "evalue": "can only concatenate str (not \"int\") to str",
     "output_type": "error",
     "traceback": [
      "\u001b[1;31m---------------------------------------------------------------------------\u001b[0m",
      "\u001b[1;31mTypeError\u001b[0m                                 Traceback (most recent call last)",
      "Cell \u001b[1;32mIn[19], line 3\u001b[0m\n\u001b[0;32m      1\u001b[0m \u001b[38;5;66;03m# sting concatenation\u001b[39;00m\n\u001b[0;32m      2\u001b[0m \u001b[38;5;28mprint\u001b[39m(\u001b[38;5;124m'\u001b[39m\u001b[38;5;124mshree\u001b[39m\u001b[38;5;124m'\u001b[39m\u001b[38;5;241m+\u001b[39m\u001b[38;5;124m'\u001b[39m\u001b[38;5;124m \u001b[39m\u001b[38;5;124m'\u001b[39m\u001b[38;5;241m+\u001b[39m\u001b[38;5;124m'\u001b[39m\u001b[38;5;124mkapote\u001b[39m\u001b[38;5;124m'\u001b[39m)\n\u001b[1;32m----> 3\u001b[0m \u001b[38;5;28mprint\u001b[39m(\u001b[38;5;124;43m'\u001b[39;49m\u001b[38;5;124;43mshree\u001b[39;49m\u001b[38;5;124;43m'\u001b[39;49m\u001b[43m \u001b[49m\u001b[38;5;241;43m+\u001b[39;49m\u001b[43m \u001b[49m\u001b[38;5;241;43m5\u001b[39;49m)\n",
      "\u001b[1;31mTypeError\u001b[0m: can only concatenate str (not \"int\") to str"
     ]
    }
   ],
   "source": [
    "# sting concatenation\n",
    "print('shree'+' '+'kapote')\n",
    "print('shree' + 5)"
   ]
  },
  {
   "cell_type": "code",
   "execution_count": 20,
   "id": "cbbb794c",
   "metadata": {},
   "outputs": [
    {
     "name": "stdout",
     "output_type": "stream",
     "text": [
      "<class 'int'>\n"
     ]
    }
   ],
   "source": [
    "#type conversion\n",
    "print(type(int((str(10)))))"
   ]
  },
  {
   "cell_type": "code",
   "execution_count": 21,
   "id": "fe9d5f32",
   "metadata": {},
   "outputs": [
    {
     "name": "stdout",
     "output_type": "stream",
     "text": [
      "5\n"
     ]
    }
   ],
   "source": [
    "print(int(float(5.0)))"
   ]
  },
  {
   "cell_type": "code",
   "execution_count": 22,
   "id": "4244ec34",
   "metadata": {},
   "outputs": [
    {
     "name": "stdout",
     "output_type": "stream",
     "text": [
      "'It's \"kind of\" sunny'\n",
      "'\tIt's \"kind of\" sunny'\n",
      "'\tIt's \"kind of\" \n",
      "sunny'\n"
     ]
    }
   ],
   "source": [
    "# escape sequence     back lash - \\\n",
    "weather = \"'It\\'s \\\"kind of\\\" sunny'\"\n",
    "new = \"'\\tIt\\'s \\\"kind of\\\" sunny'\"\n",
    "\n",
    "new_line =  \"'\\tIt\\'s \\\"kind of\\\" \\nsunny'\"\n",
    "print(weather)\n",
    "print(new)\n",
    "print(new_line)"
   ]
  },
  {
   "cell_type": "code",
   "execution_count": 23,
   "id": "ce7ffa4c",
   "metadata": {},
   "outputs": [
    {
     "name": "stdout",
     "output_type": "stream",
     "text": [
      "hi shree. you are 21 years old\n",
      "hishree. you are 21 years old\n",
      "\n",
      "www\n",
      "O O\n",
      "_-_\n",
      "\n",
      "hi how are you?,whats your nameshree. and whats your 21\n",
      "hi shree how are you?, your age is 21\n",
      "hi shree.,your age is 21\n",
      "hi shree.,your age is 21\n",
      "hi Raja,your age is 51\n"
     ]
    }
   ],
   "source": [
    "#formatted string\n",
    "name = 'shree.'\n",
    "age = 21\n",
    "print('hi '+name +' you are '+str(age) +' years old')\n",
    "#formatted string \n",
    "print(f'hi{name} you are {age} years old')\n",
    "long_string ='''\n",
    "www\n",
    "O O\n",
    "_-_\n",
    "'''\n",
    "print(long_string)\n",
    "\n",
    "\n",
    "print(f'hi how are you?,whats your name{name} and whats your {age}')\n",
    "print('hi {} how are you?, your age is {}'.format('shree','21'))\n",
    "print('hi {},your age is {}'.format(name,age))\n",
    "print('hi {0},your age is {1}'.format(name,age))\n",
    "print('hi {new_name},your age is {new_age}'.format(new_name = 'Raja',new_age = 51))"
   ]
  },
  {
   "cell_type": "code",
   "execution_count": 24,
   "id": "302dfc80",
   "metadata": {},
   "outputs": [
    {
     "name": "stdout",
     "output_type": "stream",
     "text": [
      "hello my parent name is Rajendra and age is 58.\n",
      "Rajendra and 58\n"
     ]
    }
   ],
   "source": [
    "parent_name = 'Rajendra'\n",
    "age = 58\n",
    "print(f'hello my parent name is {parent_name} and age is {age}.')\n",
    "print(f'{parent_name} and {age}')"
   ]
  },
  {
   "cell_type": "code",
   "execution_count": 25,
   "id": "71994824",
   "metadata": {},
   "outputs": [
    {
     "name": "stdout",
     "output_type": "stream",
     "text": [
      "051\n",
      "1\n",
      "019876543210\n"
     ]
    }
   ],
   "source": [
    "#string index    #[start:stop:stepover]\n",
    "cocoa = '012345678910'\n",
    "        #012345678910\n",
    "print(cocoa[0:12:5])\n",
    "print(cocoa[-2])\n",
    "print(cocoa[::-1])\n",
    "#print(cocoa)"
   ]
  },
  {
   "cell_type": "code",
   "execution_count": 26,
   "id": "f49a7fd5",
   "metadata": {},
   "outputs": [
    {
     "name": "stdout",
     "output_type": "stream",
     "text": [
      "shree\n",
      "101\n"
     ]
    }
   ],
   "source": [
    "# immutability\n",
    "name = 'shree'\n",
    "#name[0] = 100\n",
    "print(name)\n",
    "n = 'shree'\n",
    "n = 100\n",
    "print(n+ 1)\n",
    "\n",
    "\n",
    "\n"
   ]
  },
  {
   "cell_type": "markdown",
   "id": "7c3a6f5a",
   "metadata": {},
   "source": [
    "# built in function\n"
   ]
  },
  {
   "cell_type": "code",
   "execution_count": 21,
   "id": "3a0e8ffd",
   "metadata": {},
   "outputs": [
    {
     "name": "stdout",
     "output_type": "stream",
     "text": [
      "11\n",
      "shreekapote\n"
     ]
    }
   ],
   "source": [
    "#built in function  \n",
    "print(len('shreekapote'))\n",
    "name = 'shreekapote'\n",
    "print(name[:len(name)])\n",
    "\n"
   ]
  },
  {
   "cell_type": "code",
   "execution_count": 22,
   "id": "66f665af",
   "metadata": {},
   "outputs": [
    {
     "name": "stdout",
     "output_type": "stream",
     "text": [
      "THERE IS NO TOMORROW\n",
      "There is no tomorrow\n",
      "there is no tomorrow\n",
      "6\n",
      "there is  tomorrow\n",
      "there is no tomorrow\n",
      "there is  tomorrow\n"
     ]
    }
   ],
   "source": [
    "quote = 'there is no tomorrow'\n",
    "print(quote.upper())\n",
    "print(quote.capitalize())\n",
    "print(quote.lower())\n",
    "print(quote.find('is'))\n",
    "print(quote.replace('no',\"\"))\n",
    "print(quote)\n",
    "quote2 = quote.replace('no',\"\")\n",
    "print(quote2)"
   ]
  },
  {
   "cell_type": "markdown",
   "id": "780c4051",
   "metadata": {},
   "source": [
    "# booleans"
   ]
  },
  {
   "cell_type": "code",
   "execution_count": 23,
   "id": "079b64be",
   "metadata": {},
   "outputs": [
    {
     "name": "stdout",
     "output_type": "stream",
     "text": [
      "True\n"
     ]
    }
   ],
   "source": [
    "name = 'shree'\n",
    "is_good = True\n",
    "is_good  = False\n",
    "\n",
    "print(bool(1))"
   ]
  },
  {
   "cell_type": "markdown",
   "id": "ad709809",
   "metadata": {},
   "source": [
    "# exercise Type Converion"
   ]
  },
  {
   "cell_type": "code",
   "execution_count": 24,
   "id": "6cedbc24",
   "metadata": {},
   "outputs": [
    {
     "name": "stdout",
     "output_type": "stream",
     "text": [
      "whats your name?\n",
      "what year were you born?\n"
     ]
    },
    {
     "ename": "ValueError",
     "evalue": "invalid literal for int() with base 10: ''",
     "output_type": "error",
     "traceback": [
      "\u001b[1;31m---------------------------------------------------------------------------\u001b[0m",
      "\u001b[1;31mValueError\u001b[0m                                Traceback (most recent call last)",
      "Cell \u001b[1;32mIn[24], line 3\u001b[0m\n\u001b[0;32m      1\u001b[0m name \u001b[38;5;241m=\u001b[39m \u001b[38;5;28minput\u001b[39m(\u001b[38;5;124m'\u001b[39m\u001b[38;5;124mwhats your name?\u001b[39m\u001b[38;5;124m'\u001b[39m)\n\u001b[0;32m      2\u001b[0m                                             \u001b[38;5;66;03m#age = input('whats your age?')\u001b[39;00m\n\u001b[1;32m----> 3\u001b[0m birth_year \u001b[38;5;241m=\u001b[39m \u001b[38;5;28;43mint\u001b[39;49m\u001b[43m(\u001b[49m\u001b[38;5;28;43minput\u001b[39;49m\u001b[43m(\u001b[49m\u001b[38;5;124;43m'\u001b[39;49m\u001b[38;5;124;43mwhat year were you born?\u001b[39;49m\u001b[38;5;124;43m'\u001b[39;49m\u001b[43m)\u001b[49m\u001b[43m)\u001b[49m\n\u001b[0;32m      4\u001b[0m age \u001b[38;5;241m=\u001b[39m \u001b[38;5;241m2023\u001b[39m \u001b[38;5;241m-\u001b[39m birth_year\n\u001b[0;32m      5\u001b[0m \u001b[38;5;28mprint\u001b[39m(\u001b[38;5;124mf\u001b[39m\u001b[38;5;124m'\u001b[39m\u001b[38;5;124myour age is \u001b[39m\u001b[38;5;132;01m{\u001b[39;00mage\u001b[38;5;132;01m}\u001b[39;00m\u001b[38;5;124m'\u001b[39m)\n",
      "\u001b[1;31mValueError\u001b[0m: invalid literal for int() with base 10: ''"
     ]
    }
   ],
   "source": [
    "name = input('whats your name?')\n",
    "                                            #age = input('whats your age?')\n",
    "birth_year = int(input('what year were you born?'))\n",
    "age = 2023 - birth_year\n",
    "print(f'your age is {age}')\n",
    "\n"
   ]
  },
  {
   "cell_type": "code",
   "execution_count": null,
   "id": "e250bf85",
   "metadata": {},
   "outputs": [],
   "source": [
    "name = input('what is your name ?')\n",
    "birth_year = int(input('what year were you born ?'))\n",
    "age = 2023 - birth_year\n",
    "print(f'your age is {age}')"
   ]
  },
  {
   "cell_type": "markdown",
   "id": "43128492",
   "metadata": {},
   "source": [
    "# password checker"
   ]
  },
  {
   "cell_type": "code",
   "execution_count": 5,
   "id": "53d9b4bd",
   "metadata": {},
   "outputs": [
    {
     "name": "stdout",
     "output_type": "stream",
     "text": [
      "give usernameshree\n",
      "give password1212\n",
      "hello,your username is shree,your password**** and length of password is 4 \n"
     ]
    }
   ],
   "source": [
    "username = input('give username')\n",
    "password = input('give password')\n",
    "\n",
    "length_password =(len(password))\n",
    "hidden_password = length_password * '*'\n",
    "\n",
    "print(f'hello,your username is {username},your password{hidden_password} and length of password is {length_password} ')\n"
   ]
  },
  {
   "cell_type": "markdown",
   "id": "8a9ac9e2",
   "metadata": {},
   "source": [
    "# lists"
   ]
  },
  {
   "cell_type": "code",
   "execution_count": 8,
   "id": "d38ee488",
   "metadata": {},
   "outputs": [
    {
     "name": "stdout",
     "output_type": "stream",
     "text": [
      "1\n"
     ]
    }
   ],
   "source": [
    "walmart_cart = [\n",
    "    'pencil',\n",
    "    'cologne spray',\n",
    "    'boat',\n",
    "    1,\n",
    "    2,\n",
    "    3,\n",
    "    True\n",
    "]\n",
    "walmart_cart[0] = 'nax gel '\n",
    "print(walmart_cart[3])"
   ]
  },
  {
   "cell_type": "markdown",
   "id": "874a273b",
   "metadata": {},
   "source": [
    "# list slicing   # list are muttable"
   ]
  },
  {
   "cell_type": "code",
   "execution_count": 9,
   "id": "0e425da7",
   "metadata": {},
   "outputs": [
    {
     "name": "stdout",
     "output_type": "stream",
     "text": [
      "['nax gel ', 'cologne spray', 'boat']\n"
     ]
    }
   ],
   "source": [
    "print(walmart_cart[0:3])"
   ]
  },
  {
   "cell_type": "code",
   "execution_count": 16,
   "id": "673a27b9",
   "metadata": {},
   "outputs": [
    {
     "name": "stdout",
     "output_type": "stream",
     "text": [
      "[1, 2, 3, True]\n",
      "[1, 2, 3, False]\n",
      "['nax gel ', 'cologne spray', 'boat', 1, 2, 3, True]\n"
     ]
    }
   ],
   "source": [
    "new_walmart_cart = walmart_cart[3:7]\n",
    "print(new_walmart_cart)\n",
    "new_walmart_cart[3]  = False\n",
    "print(new_walmart_cart)\n",
    "print(walmart_cart)"
   ]
  },
  {
   "cell_type": "markdown",
   "id": "6dc82656",
   "metadata": {},
   "source": [
    "# matrix"
   ]
  },
  {
   "cell_type": "code",
   "execution_count": 23,
   "id": "f0531f53",
   "metadata": {},
   "outputs": [
    {
     "name": "stdout",
     "output_type": "stream",
     "text": [
      "45\n"
     ]
    }
   ],
   "source": [
    "matrix = [\n",
    "    [1,2,3,True,[45,67,56]],\n",
    "    [4,5,6],\n",
    "    [7,8,9]\n",
    "]\n",
    "\n",
    "print(matrix[0][4][0])"
   ]
  },
  {
   "cell_type": "markdown",
   "id": "fe026617",
   "metadata": {},
   "source": [
    "# action on list"
   ]
  },
  {
   "cell_type": "code",
   "execution_count": 59,
   "id": "c6f54a69",
   "metadata": {},
   "outputs": [
    {
     "name": "stdout",
     "output_type": "stream",
     "text": [
      "[1, 2, 3, 4, 5, 6, 7]\n",
      "[1, 2, 3, 4, 200, 5, 6, 7]\n",
      "[1, 2, 3, 4, 200, 5, 6, 7, 11, 12, 34]\n",
      "[3, 5, 6, 7, 11, 12]\n",
      "2\n",
      "[3, 5, 6, 7, 11, 12]\n",
      "1\n",
      "4\n",
      "True\n",
      "False\n",
      "True\n",
      "1\n"
     ]
    }
   ],
   "source": [
    "cart = [1,2,3,4,5,6]\n",
    "\n",
    "# adding  \n",
    "cart.append(7)\n",
    "print(cart)\n",
    "\n",
    "#insert\n",
    "cart.insert(4,200)\n",
    "print(cart)\n",
    "\n",
    "#extend\n",
    "cart.extend([11,12,34])\n",
    "print(cart)\n",
    "\n",
    "\n",
    "#removing\n",
    "cart.pop()\n",
    "cart.pop(0)\n",
    "cart.remove(200)\n",
    "new_cart = cart.remove(4)\n",
    "new_cart = cart.pop(0)\n",
    "print(cart)\n",
    "print(new_cart) # it will return what ever you have removed.\n",
    "\n",
    "\n",
    "#clear\n",
    "#cart.clear()\n",
    "print(cart)\n",
    "\n",
    "# index of item\n",
    "print(cart.index(5))\n",
    "print(cart.index(11,0,))\n",
    "#print(cart.index(11,0,3))\n",
    "\n",
    "#keyword\n",
    "print(11 in cart)\n",
    "print(100 in cart)\n",
    "print('s' in 'shree')\n",
    "\n",
    "#count() how many times in list\n",
    "print(cart.count(11))\n",
    "\n",
    "\n",
    "\n"
   ]
  },
  {
   "cell_type": "code",
   "execution_count": 74,
   "id": "1a1ddcd1",
   "metadata": {},
   "outputs": [
    {
     "name": "stdout",
     "output_type": "stream",
     "text": [
      "[3, 5, 6, 7, 11, 12, 8, 8, 8, 8]\n",
      "3\n",
      "3\n",
      "10\n",
      "2\n",
      "[3, 5, 6, 7, 11, 12, 8, 8, 8, 8, 8]\n"
     ]
    }
   ],
   "source": [
    "print(cart)\n",
    "print(cart.index(7))\n",
    "print(cart.index(7,0,4))\n",
    "print(len(cart))\n",
    "print(cart.index(6))\n",
    "cart.append(8)\n",
    "print(cart)\n"
   ]
  },
  {
   "cell_type": "code",
   "execution_count": 3,
   "id": "285c3b8b",
   "metadata": {},
   "outputs": [
    {
     "name": "stdout",
     "output_type": "stream",
     "text": [
      "[1, 2, 2, 2, 4, 5, 34, 564]\n",
      "[1, 2, 2, 2, 4, 5, 34, 564]\n",
      "[564, 34, 5, 4, 2, 2, 2, 1]\n"
     ]
    }
   ],
   "source": [
    "basket = [1,2,34,564,2,2,5,4,]\n",
    "basket.sort()\n",
    "print(basket)\n",
    "\n",
    "print(sorted(basket)) #without modifying basket\n",
    "basket.reverse()\n",
    "print(basket)"
   ]
  },
  {
   "cell_type": "code",
   "execution_count": 6,
   "id": "f937e989",
   "metadata": {},
   "outputs": [
    {
     "name": "stdout",
     "output_type": "stream",
     "text": [
      "8\n",
      "[1, 2, 2, 2, 4, 5, 34, 564]\n",
      "[564, 34, 5, 4, 2, 2, 2, 1]\n"
     ]
    }
   ],
   "source": [
    "print(len(basket))\n",
    "print(basket[::-1])\n",
    "print(basket)"
   ]
  },
  {
   "cell_type": "code",
   "execution_count": 12,
   "id": "17aeb88a",
   "metadata": {},
   "outputs": [
    {
     "name": "stdout",
     "output_type": "stream",
     "text": [
      "[1, 2, 3, 4, 5, 6, 7, 8, 9, 10, 11, 12, 13, 14, 15, 16, 17, 18, 19, 20, 21, 22, 23, 24, 25, 26, 27, 28, 29, 30, 31, 32, 33, 34, 35, 36, 37, 38, 39, 40, 41, 42, 43, 44, 45, 46, 47, 48, 49, 50, 51, 52, 53, 54, 55, 56, 57, 58, 59, 60, 61, 62, 63, 64, 65, 66, 67, 68, 69, 70, 71, 72, 73, 74, 75, 76, 77, 78, 79, 80, 81, 82, 83, 84, 85, 86, 87, 88, 89, 90, 91, 92, 93, 94, 95, 96, 97, 98, 99, 100]\n"
     ]
    }
   ],
   "source": [
    "print(list(range(1,101)))"
   ]
  },
  {
   "cell_type": "markdown",
   "id": "ab34a2fe",
   "metadata": {},
   "source": [
    " # join "
   ]
  },
  {
   "cell_type": "code",
   "execution_count": 18,
   "id": "cd1a9806",
   "metadata": {},
   "outputs": [
    {
     "name": "stdout",
     "output_type": "stream",
     "text": [
      "hi my name is jojo\n",
      "hi my name is jupyter\n"
     ]
    }
   ],
   "source": [
    "sentence =' '\n",
    "new_sentence = sentence.join(['hi','my','name','is','jojo'])\n",
    "print(new_sentence)\n",
    "\n",
    "trial_sentence =' '.join(['hi','my','name','is','jupyter'])\n",
    "print(trial_sentence)"
   ]
  },
  {
   "cell_type": "markdown",
   "id": "1b4f6662",
   "metadata": {},
   "source": [
    "# list unpacking"
   ]
  },
  {
   "cell_type": "code",
   "execution_count": 25,
   "id": "c004170d",
   "metadata": {},
   "outputs": [
    {
     "name": "stdout",
     "output_type": "stream",
     "text": [
      "1\n",
      "2\n",
      "3\n",
      "[4, 5, 6, 7, 8]\n",
      "9\n"
     ]
    }
   ],
   "source": [
    "a,b,c,*other,d = [1,2,3,4,5,6,7,8,9]\n",
    "print(a)\n",
    "print(b)\n",
    "print(c)\n",
    "print(other) #list unpacking\n",
    "print(d)"
   ]
  },
  {
   "cell_type": "markdown",
   "id": "df47a9c3",
   "metadata": {},
   "source": [
    "# none"
   ]
  },
  {
   "cell_type": "code",
   "execution_count": 27,
   "id": "d4aca839",
   "metadata": {},
   "outputs": [
    {
     "name": "stdout",
     "output_type": "stream",
     "text": [
      "None\n"
     ]
    }
   ],
   "source": [
    "a = None\n",
    "print(a)"
   ]
  },
  {
   "cell_type": "markdown",
   "id": "70d5ed73",
   "metadata": {},
   "source": [
    "# dictionary"
   ]
  },
  {
   "cell_type": "code",
   "execution_count": 43,
   "id": "391daf5c",
   "metadata": {},
   "outputs": [
    {
     "name": "stdout",
     "output_type": "stream",
     "text": [
      "1\n",
      "1\n",
      "5\n"
     ]
    }
   ],
   "source": [
    "dictionary =  {\n",
    "    'a':1,\n",
    "    'b':2,\n",
    "    'c':[1,2,3]\n",
    "}\n",
    "print((dictionary['a']))\n",
    "print((dictionary['c'][0]))\n",
    "\n",
    "my_list = [\n",
    "     {\n",
    "    'a':1,\n",
    "    'b':2,\n",
    "    'c':[1,2,3]\n",
    "},\n",
    "     {\n",
    "    'a':1,\n",
    "    'b':2,\n",
    "    'c':[4,5,6]\n",
    "}\n",
    "]\n",
    "print(my_list[1]['c'][1])"
   ]
  },
  {
   "cell_type": "code",
   "execution_count": 77,
   "id": "8b949a7f",
   "metadata": {},
   "outputs": [
    {
     "name": "stdout",
     "output_type": "stream",
     "text": [
      "{'a': 1, 'b': 2, 'c': 3}\n",
      "3\n"
     ]
    }
   ],
   "source": [
    "data = {\n",
    "    'a':1,\n",
    "    'b':2,\n",
    "    'c':3\n",
    "}\n",
    "print(data)\n",
    "print(data['c'])"
   ]
  },
  {
   "cell_type": "code",
   "execution_count": 27,
   "id": "77b9f5a0",
   "metadata": {},
   "outputs": [
    {
     "name": "stdout",
     "output_type": "stream",
     "text": [
      "fos\n",
      "70\n"
     ]
    }
   ],
   "source": [
    "student_list = [\n",
    "    {\n",
    "            \n",
    "        'name':'shree',\n",
    "        'regno':12,\n",
    "        'dept':'fos'\n",
    "},\n",
    "    {\n",
    "        'name':'prince',\n",
    "        'regno':2,\n",
    "        'dept':'fos',\n",
    "        'marks':[70,60,60,90],\n",
    "         123     : True,\n",
    "         True :    124,\n",
    "\n",
    "        \n",
    "}    \n",
    "]\n",
    "#print(student_list)\n",
    "print(student_list[1]['dept'])\n",
    "print(student_list[1]['marks'][0])"
   ]
  },
  {
   "cell_type": "markdown",
   "id": "d8b089a2",
   "metadata": {},
   "source": [
    "# dictionary keys"
   ]
  },
  {
   "cell_type": "code",
   "execution_count": 28,
   "id": "af4f67ad",
   "metadata": {},
   "outputs": [
    {
     "name": "stdout",
     "output_type": "stream",
     "text": [
      "124\n"
     ]
    }
   ],
   "source": [
    "print(student_list[1][True])"
   ]
  },
  {
   "cell_type": "code",
   "execution_count": 29,
   "id": "2383fda0",
   "metadata": {},
   "outputs": [
    {
     "name": "stdout",
     "output_type": "stream",
     "text": [
      "100\n",
      "100\n",
      "100\n"
     ]
    }
   ],
   "source": [
    " id = {\n",
    "     'name':'jojo',\n",
    "     'nivea':'cream',\n",
    "     'i':100\n",
    " }\n",
    "print(id.get('i'))  # .get() is use to avoid error\n",
    "print(id.get('i',90)) #incase if there is no value show default value /to perform this expression just remove i from dictionary you will get this.\n",
    "print(id.get('i',90))  #to wheather the key holds value or not."
   ]
  },
  {
   "cell_type": "code",
   "execution_count": 44,
   "id": "3f9bde72",
   "metadata": {},
   "outputs": [
    {
     "name": "stdout",
     "output_type": "stream",
     "text": [
      "{'name': 'shree'}\n"
     ]
    }
   ],
   "source": [
    "# how to create dictionary using dict function.\n",
    "user = dict(name = 'shree')\n",
    "\n",
    "print(user)"
   ]
  },
  {
   "cell_type": "code",
   "execution_count": 45,
   "id": "0b619a04",
   "metadata": {},
   "outputs": [
    {
     "name": "stdout",
     "output_type": "stream",
     "text": [
      "False\n"
     ]
    }
   ],
   "source": [
    "print('name'in id)"
   ]
  },
  {
   "cell_type": "code",
   "execution_count": 48,
   "id": "71d9f277",
   "metadata": {},
   "outputs": [
    {
     "name": "stdout",
     "output_type": "stream",
     "text": [
      "False\n",
      "False\n",
      "dict_items([])\n",
      "None\n",
      "{}\n",
      "None\n",
      "{'123': 123, 'raj': 58}\n"
     ]
    }
   ],
   "source": [
    " # check wheather key is there or not. key( )\n",
    "print('name'in id.keys())\n",
    "\n",
    "# to check wheather values are there or not\n",
    "print('jojo' in id.values())\n",
    "\n",
    "#to check wheather keys and values are present in dictionary.\n",
    "print(id.items())\n",
    "\n",
    "# to clear all data print in dictionary.\n",
    "#id.clear()\n",
    "#print(id)\n",
    "\n",
    "# to copy dictionary\n",
    "id_2 = id.copy()\n",
    "print(id.clear())\n",
    "print(id_2)\n",
    "\n",
    "#to pop key from dicitonary\n",
    "#print(user.pop('name'))\n",
    "\n",
    "\n",
    "# to update key in dictionary\n",
    "dictio = {\n",
    "    '123':123,\n",
    "    'raj':12\n",
    "}\n",
    "\n",
    "print(dictio.update({'raj':58}))\n",
    "print(dictio)"
   ]
  },
  {
   "cell_type": "markdown",
   "id": "99804cdb",
   "metadata": {},
   "source": [
    "# tuple  are immutable"
   ]
  },
  {
   "cell_type": "code",
   "execution_count": 15,
   "id": "0886e2a4",
   "metadata": {},
   "outputs": [
    {
     "name": "stdout",
     "output_type": "stream",
     "text": [
      "1\n",
      "(1, 2, 3, 4, 5, 6)\n",
      "(6, 5, 4, 3, 2, 1)\n",
      "(1, 2, 3, 4, 5, 6)\n",
      "True\n"
     ]
    }
   ],
   "source": [
    "my_tuple = (1,2,3,4,5,6)\n",
    "print(my_tuple[0]) \n",
    "print(my_tuple)\n",
    "print(my_tuple[::-1])\n",
    "print(my_tuple)\n",
    "print(6 in my_tuple)"
   ]
  },
  {
   "cell_type": "code",
   "execution_count": 18,
   "id": "c505ea1b",
   "metadata": {},
   "outputs": [
    {
     "name": "stdout",
     "output_type": "stream",
     "text": [
      "(2,)\n"
     ]
    }
   ],
   "source": [
    "new_tuple = my_tuple[1:2]\n",
    "print(new_tuple)"
   ]
  },
  {
   "cell_type": "code",
   "execution_count": 34,
   "id": "c88ae92d",
   "metadata": {},
   "outputs": [
    {
     "name": "stdout",
     "output_type": "stream",
     "text": [
      "4\n",
      "8\n",
      "9\n"
     ]
    }
   ],
   "source": [
    "whole = (1,2,3,4,5,5,5,5,6)\n",
    "#print(x)\n",
    "#print(y)\n",
    "#print(z)\n",
    "#print(other)\n",
    "\n",
    "\n",
    "#methods on tuple\n",
    "print(whole.count(5))\n",
    "print(whole.index(6))\n",
    "print(len(whole))\n"
   ]
  },
  {
   "cell_type": "markdown",
   "id": "f172bca4",
   "metadata": {},
   "source": [
    "# set  is unordered collection of unquie object"
   ]
  },
  {
   "cell_type": "code",
   "execution_count": 50,
   "id": "a9acc55e",
   "metadata": {},
   "outputs": [
    {
     "name": "stdout",
     "output_type": "stream",
     "text": [
      "{1, 2, 4, 5, 6}\n",
      "{1, 2, 4, 5, 6, 200}\n"
     ]
    }
   ],
   "source": [
    "my_set = {1,2,4,5,6,6}  # no duplicate value should be there\n",
    "print(my_set)\n",
    "\n",
    "my_set.add(200)\n",
    "my_set.add(2)\n",
    "print(my_set)"
   ]
  },
  {
   "cell_type": "code",
   "execution_count": 56,
   "id": "55561e44",
   "metadata": {},
   "outputs": [
    {
     "name": "stdout",
     "output_type": "stream",
     "text": [
      "True\n",
      "6\n",
      "[1, 2, 4, 5, 6, 200]\n",
      "{1, 2, 4, 5, 6, 200}\n"
     ]
    }
   ],
   "source": [
    "my_set_one = {1, 2,2, 4, 5, 6, 200}\n",
    "#print(set(my_list))\n",
    "\n",
    "#print(my_list[0])  #set doesn't support indexing\n",
    "print(200 in my_set_one) #to check wheather the value is in set or not. \n",
    "\n",
    "\n",
    "print(len(my_set_one))\n",
    "print(list(my_set_one))\n",
    "print(my_set_one)"
   ]
  },
  {
   "cell_type": "markdown",
   "id": "de4abf43",
   "metadata": {},
   "source": [
    "# ## methods in set"
   ]
  },
  {
   "cell_type": "code",
   "execution_count": 68,
   "id": "9a436eeb",
   "metadata": {},
   "outputs": [
    {
     "name": "stdout",
     "output_type": "stream",
     "text": [
      "{1, 2, 3}\n",
      "{1, 2, 3, 4, 5}\n"
     ]
    }
   ],
   "source": [
    "learn_my_set = {1,2,3,4,5}\n",
    "learn_your_set = {4,5,6,7,8,9,10}\n",
    "\n",
    "#difference\n",
    "print(learn_my_set.difference(learn_your_set))\n",
    "\n",
    "#discard\n",
    "#   print(learn_my_set.discard(5))\n",
    "print(learn_my_set)"
   ]
  },
  {
   "cell_type": "code",
   "execution_count": 69,
   "id": "b73de1f5",
   "metadata": {},
   "outputs": [
    {
     "name": "stdout",
     "output_type": "stream",
     "text": [
      "{1, 2, 3, 4, 5}\n"
     ]
    }
   ],
   "source": [
    "# difference_update\n",
    "#   print(learn_my_set.difference_update(learn_your_set))\n",
    "print(learn_my_set)"
   ]
  },
  {
   "cell_type": "code",
   "execution_count": 70,
   "id": "8b4d7e52",
   "metadata": {},
   "outputs": [
    {
     "name": "stdout",
     "output_type": "stream",
     "text": [
      "{4, 5}\n"
     ]
    }
   ],
   "source": [
    "# intersection\n",
    "print(learn_my_set.intersection(learn_your_set))"
   ]
  },
  {
   "cell_type": "code",
   "execution_count": 72,
   "id": "e9394c17",
   "metadata": {},
   "outputs": [
    {
     "name": "stdout",
     "output_type": "stream",
     "text": [
      "False\n"
     ]
    }
   ],
   "source": [
    "# isdisjoint \n",
    "print(learn_my_set.isdisjoint(learn_your_set))"
   ]
  },
  {
   "cell_type": "code",
   "execution_count": 76,
   "id": "17b1230d",
   "metadata": {},
   "outputs": [
    {
     "name": "stdout",
     "output_type": "stream",
     "text": [
      "{1, 2, 3, 4, 5, 6, 7, 8, 9, 10}\n",
      "{1, 2, 3, 4, 5, 6, 7, 8, 9, 10}\n"
     ]
    }
   ],
   "source": [
    "print(learn_my_set|learn_your_set)#insted of union function you can use |\n",
    "print(learn_my_set.union(learn_your_set))"
   ]
  },
  {
   "cell_type": "code",
   "execution_count": 81,
   "id": "1fe53d46",
   "metadata": {},
   "outputs": [
    {
     "name": "stdout",
     "output_type": "stream",
     "text": [
      "False\n",
      "False\n"
     ]
    }
   ],
   "source": [
    "# issubet = \n",
    "\n",
    "print(learn_my_set.issubset(learn_your_set))\n",
    "\n",
    "#superset()\n",
    "print(learn_your_set.issuperset(learn_my_set))  #if one cointains all the value of another set than it is a superset\n"
   ]
  },
  {
   "cell_type": "markdown",
   "id": "1ab2ed4f",
   "metadata": {},
   "source": [
    "# conditinal logic"
   ]
  },
  {
   "cell_type": "code",
   "execution_count": 9,
   "id": "4663ece0",
   "metadata": {},
   "outputs": [
    {
     "name": "stdout",
     "output_type": "stream",
     "text": [
      "you can drive car.\n"
     ]
    }
   ],
   "source": [
    "is_old = True\n",
    "is_licensed = True\n",
    "if is_old and is_licensed: \n",
    "    print('you can drive car.')\n",
    "else:\n",
    "    print('you can not drive')"
   ]
  },
  {
   "cell_type": "markdown",
   "id": "2ab07ed8",
   "metadata": {},
   "source": [
    "# truthy and falsy"
   ]
  },
  {
   "cell_type": "code",
   "execution_count": 16,
   "id": "3a61ac77",
   "metadata": {},
   "outputs": [
    {
     "name": "stdout",
     "output_type": "stream",
     "text": [
      "you can go further\n"
     ]
    }
   ],
   "source": [
    "password = '12345'\n",
    "username = 'predator'\n",
    "\n",
    "if password and username:\n",
    "    print('you can go further')\n",
    "    \n",
    "else:\n",
    "    print('your are not allowed')"
   ]
  },
  {
   "cell_type": "markdown",
   "id": "cefc1072",
   "metadata": {},
   "source": [
    "# ternary operator"
   ]
  },
  {
   "cell_type": "code",
   "execution_count": 42,
   "id": "bbaa3a3c",
   "metadata": {},
   "outputs": [
    {
     "name": "stdout",
     "output_type": "stream",
     "text": [
      "not allowed\n"
     ]
    }
   ],
   "source": [
    "is_friend = False\n",
    "can_message = \"message allowed\" if is_friend else\"not allowed\"\n",
    "print(can_message)"
   ]
  },
  {
   "cell_type": "code",
   "execution_count": 21,
   "id": "b917b9da",
   "metadata": {},
   "outputs": [
    {
     "name": "stdout",
     "output_type": "stream",
     "text": [
      "tu message kar sakta hai\n"
     ]
    }
   ],
   "source": [
    "dost = True\n",
    "message_kar = \"tu message kar sakta hai\" if dost else \"tu message nhi kar sakta\"\n",
    "print(message_kar)"
   ]
  },
  {
   "cell_type": "markdown",
   "id": "01c193fd",
   "metadata": {},
   "source": [
    "# short circuiting"
   ]
  },
  {
   "cell_type": "code",
   "execution_count": 36,
   "id": "adafabea",
   "metadata": {},
   "outputs": [],
   "source": [
    "x = False\n",
    "y = False\n",
    "if x and y:\n",
    "    print(\"ok\")\n",
    "    \n",
    "if x or y:\n",
    "    print('to')"
   ]
  },
  {
   "cell_type": "markdown",
   "id": "53fc2f9c",
   "metadata": {},
   "source": [
    "# logical operator"
   ]
  },
  {
   "cell_type": "code",
   "execution_count": 13,
   "id": "ed36399d",
   "metadata": {},
   "outputs": [
    {
     "name": "stdout",
     "output_type": "stream",
     "text": [
      "5\n",
      "True\n"
     ]
    }
   ],
   "source": [
    "print(5)\n",
    "print('a'<'b')"
   ]
  },
  {
   "cell_type": "code",
   "execution_count": 7,
   "id": "2fa8c048",
   "metadata": {},
   "outputs": [
    {
     "name": "stdout",
     "output_type": "stream",
     "text": [
      "True\n"
     ]
    }
   ],
   "source": [
    "print('a'>'A') # it is base on ascii value"
   ]
  },
  {
   "cell_type": "code",
   "execution_count": 15,
   "id": "d08ccd1d",
   "metadata": {},
   "outputs": [
    {
     "name": "stdout",
     "output_type": "stream",
     "text": [
      "97\n",
      "65\n",
      "98\n",
      "False\n",
      "False\n"
     ]
    }
   ],
   "source": [
    "print(ord('a'))\n",
    "print(ord('A'))\n",
    "print(ord('b'))\n",
    "print(not(True))\n",
    "print(not True)"
   ]
  },
  {
   "cell_type": "code",
   "execution_count": 16,
   "id": "020d9527",
   "metadata": {},
   "outputs": [],
   "source": [
    "# what we have learned #<> == >== <= != and or  not"
   ]
  },
  {
   "cell_type": "code",
   "execution_count": 37,
   "id": "4388d6c8",
   "metadata": {},
   "outputs": [
    {
     "name": "stdout",
     "output_type": "stream",
     "text": [
      "you are a master magician\n"
     ]
    }
   ],
   "source": [
    "is_magician = True\n",
    "is_expert = True\n",
    "if is_magician and is_expert:\n",
    "    print(\"you are a master magician\")\n",
    "\n",
    "elif is_magician and not is_expert:\n",
    "    print(\" at least you are getting there\")\n",
    "    \n",
    "if not is_magician:\n",
    "    print(\"you need magic power\")\n",
    "    \n"
   ]
  },
  {
   "cell_type": "markdown",
   "id": "8ca48593",
   "metadata": {},
   "source": [
    "# is vs =="
   ]
  },
  {
   "cell_type": "code",
   "execution_count": 1,
   "id": "83bee854",
   "metadata": {},
   "outputs": [
    {
     "name": "stdout",
     "output_type": "stream",
     "text": [
      "True\n",
      "False\n",
      "False\n",
      "True\n",
      "True\n",
      "\n",
      "WWW\n",
      "O O\n",
      "_-_\n",
      "\n",
      "False\n",
      "False\n",
      "False\n",
      "False\n",
      "False\n"
     ]
    },
    {
     "name": "stderr",
     "output_type": "stream",
     "text": [
      "<>:12: SyntaxWarning: \"is\" with a literal. Did you mean \"==\"?\n",
      "<>:13: SyntaxWarning: \"is\" with a literal. Did you mean \"==\"?\n",
      "<>:14: SyntaxWarning: \"is\" with a literal. Did you mean \"==\"?\n",
      "<>:15: SyntaxWarning: \"is\" with a literal. Did you mean \"==\"?\n",
      "<>:12: SyntaxWarning: \"is\" with a literal. Did you mean \"==\"?\n",
      "<>:13: SyntaxWarning: \"is\" with a literal. Did you mean \"==\"?\n",
      "<>:14: SyntaxWarning: \"is\" with a literal. Did you mean \"==\"?\n",
      "<>:15: SyntaxWarning: \"is\" with a literal. Did you mean \"==\"?\n",
      "C:\\Users\\Shree Kapote\\AppData\\Local\\Temp\\ipykernel_29920\\2713610719.py:12: SyntaxWarning: \"is\" with a literal. Did you mean \"==\"?\n",
      "  print(True is 1)\n",
      "C:\\Users\\Shree Kapote\\AppData\\Local\\Temp\\ipykernel_29920\\2713610719.py:13: SyntaxWarning: \"is\" with a literal. Did you mean \"==\"?\n",
      "  print('' is 1)\n",
      "C:\\Users\\Shree Kapote\\AppData\\Local\\Temp\\ipykernel_29920\\2713610719.py:14: SyntaxWarning: \"is\" with a literal. Did you mean \"==\"?\n",
      "  print([] is 1)\n",
      "C:\\Users\\Shree Kapote\\AppData\\Local\\Temp\\ipykernel_29920\\2713610719.py:15: SyntaxWarning: \"is\" with a literal. Did you mean \"==\"?\n",
      "  print(10 is  10.0)\n"
     ]
    }
   ],
   "source": [
    "print(True ==1) \n",
    "print('' == 1)\n",
    "print([] == 1)\n",
    "print(10 == 10.0)\n",
    "print([] == [])\n",
    "x = '''\n",
    "WWW\n",
    "O O\n",
    "_-_\n",
    "'''\n",
    "print(x)\n",
    "print(True is 1) \n",
    "print('' is 1)\n",
    "print([] is 1)\n",
    "print(10 is  10.0)\n",
    "print([] is [])\n"
   ]
  },
  {
   "cell_type": "markdown",
   "id": "35b75aad",
   "metadata": {},
   "source": [
    "# for loops "
   ]
  },
  {
   "cell_type": "code",
   "execution_count": 7,
   "id": "cf16397a",
   "metadata": {},
   "outputs": [
    {
     "name": "stdout",
     "output_type": "stream",
     "text": [
      "z\n",
      "e\n",
      "r\n",
      "o\n",
      " \n",
      "t\n",
      "o\n",
      " \n",
      "m\n",
      "a\n",
      "s\n",
      "t\n",
      "e\n",
      "r\n",
      "y\n"
     ]
    }
   ],
   "source": [
    "for item in 'zero to mastery':\n",
    "    print(item) "
   ]
  },
  {
   "cell_type": "code",
   "execution_count": 15,
   "id": "ddca2ddf",
   "metadata": {},
   "outputs": [
    {
     "name": "stdout",
     "output_type": "stream",
     "text": [
      "1 a k\n",
      "1 a a\n",
      "1 a q\n",
      "1 b k\n",
      "1 b a\n",
      "1 b q\n",
      "1 c k\n",
      "1 c a\n",
      "1 c q\n",
      "2 a k\n",
      "2 a a\n",
      "2 a q\n",
      "2 b k\n",
      "2 b a\n",
      "2 b q\n",
      "2 c k\n",
      "2 c a\n",
      "2 c q\n",
      "3 a k\n",
      "3 a a\n",
      "3 a q\n",
      "3 b k\n",
      "3 b a\n",
      "3 b q\n",
      "3 c k\n",
      "3 c a\n",
      "3 c q\n",
      "4 a k\n",
      "4 a a\n",
      "4 a q\n",
      "4 b k\n",
      "4 b a\n",
      "4 b q\n",
      "4 c k\n",
      "4 c a\n",
      "4 c q\n",
      "5 a k\n",
      "5 a a\n",
      "5 a q\n",
      "5 b k\n",
      "5 b a\n",
      "5 b q\n",
      "5 c k\n",
      "5 c a\n",
      "5 c q\n",
      "6 a k\n",
      "6 a a\n",
      "6 a q\n",
      "6 b k\n",
      "6 b a\n",
      "6 b q\n",
      "6 c k\n",
      "6 c a\n",
      "6 c q\n"
     ]
    }
   ],
   "source": [
    "for thing in (1,2,3,4,5,6):\n",
    "    for x in ['a','b','c']:\n",
    "        for b in ['k','a','q']:\n",
    "            print(thing,x,b)\n",
    "            \n",
    "     "
   ]
  },
  {
   "cell_type": "markdown",
   "id": "47e5daf5",
   "metadata": {},
   "source": [
    "# iterables  are list,dictionary,tuple,set and string"
   ]
  },
  {
   "cell_type": "code",
   "execution_count": 46,
   "id": "70a4e052",
   "metadata": {},
   "outputs": [],
   "source": [
    "!jt -t oceans16"
   ]
  },
  {
   "cell_type": "code",
   "execution_count": 17,
   "id": "c395cb5b",
   "metadata": {},
   "outputs": [
    {
     "name": "stdout",
     "output_type": "stream",
     "text": [
      "name engage\n",
      "age 1000\n",
      "can_swim False\n"
     ]
    }
   ],
   "source": [
    "user = {\n",
    "    'name':'engage',\n",
    "    'age':1000,\n",
    "    'can_swim':False\n",
    "}\n",
    "\n",
    "#for item in user.items():\n",
    "   # print(item)\n",
    "    \n",
    "\n",
    "#for item in user.values():\n",
    "   # print(item)\n",
    "    \n",
    "    \n",
    "for key,value in user.items():\n",
    "    print(key,value)\n",
    "    \n",
    "\n",
    "\n"
   ]
  },
  {
   "cell_type": "markdown",
   "id": "9df5208f",
   "metadata": {},
   "source": [
    "# Exercise\n"
   ]
  },
  {
   "cell_type": "code",
   "execution_count": 92,
   "id": "b6bbb5f7",
   "metadata": {
    "scrolled": true
   },
   "outputs": [
    {
     "name": "stdout",
     "output_type": "stream",
     "text": [
      "55\n"
     ]
    }
   ],
   "source": [
    "my_list = [1,2,3,4,5,6,7,8,9,10]\n",
    "total = 0\n",
    "\n",
    "for item in my_list:\n",
    "    total  = total +item\n",
    "print(total)"
   ]
  },
  {
   "cell_type": "markdown",
   "id": "d55304f1",
   "metadata": {},
   "source": [
    "# range()"
   ]
  },
  {
   "cell_type": "code",
   "execution_count": 2,
   "id": "abf06f43",
   "metadata": {},
   "outputs": [
    {
     "name": "stdout",
     "output_type": "stream",
     "text": [
      "range(0, 100)\n"
     ]
    }
   ],
   "source": [
    "print(range(0, 100))\n"
   ]
  },
  {
   "cell_type": "code",
   "execution_count": 16,
   "id": "bc6b8a14",
   "metadata": {},
   "outputs": [
    {
     "name": "stdout",
     "output_type": "stream",
     "text": [
      "send emails\n",
      "send emails\n",
      "send emails\n",
      "send emails\n",
      "send emails\n",
      "send emails\n",
      "send emails\n",
      "send emails\n",
      "send emails\n",
      "send emails\n",
      "send emails\n",
      "send emails\n",
      "0\n",
      "1\n",
      "2\n",
      "3\n",
      "4\n",
      "5\n",
      "6\n",
      "7\n",
      "8\n",
      "9\n",
      "10\n",
      "11\n",
      "[0, 1, 2, 3, 4, 5, 6, 7, 8, 9]\n",
      "[0, 1, 2, 3, 4, 5, 6, 7, 8, 9]\n",
      "[0, 1, 2, 3, 4, 5, 6, 7, 8, 9]\n",
      "[0, 1, 2, 3, 4, 5, 6, 7, 8, 9]\n",
      "[0, 1, 2, 3, 4, 5, 6, 7, 8, 9]\n"
     ]
    }
   ],
   "source": [
    "\n",
    "for _ in range(0,12):\n",
    "    print('send emails')\n",
    "\n",
    "    \n",
    "for _ in range(0,12,1):  # range() has stepover feature in it.\n",
    "    print(_)\n",
    "    \n",
    "    \n",
    "for _ in range(5):\n",
    "    print(list(range(10)))\n"
   ]
  },
  {
   "cell_type": "markdown",
   "id": "f2170d85",
   "metadata": {},
   "source": [
    "# enumerate()"
   ]
  },
  {
   "cell_type": "code",
   "execution_count": 3,
   "id": "bf73800c",
   "metadata": {},
   "outputs": [
    {
     "name": "stdout",
     "output_type": "stream",
     "text": [
      "0 1\n",
      "1 2\n",
      "2 3\n",
      "hi\n",
      "0 1\n",
      "1 2\n",
      "2 3\n",
      "3 4\n",
      "\n",
      "WWW\n",
      "0 0\n",
      "-_-\n",
      "\n",
      "0 h\n",
      "1 e\n",
      "2 y\n",
      "3 ,\n",
      "4 s\n",
      "5 h\n",
      "6 r\n",
      "7 e\n",
      "8 e\n",
      "9  \n",
      "10 k\n",
      "11 a\n",
      "12 p\n",
      "13 o\n",
      "14 t\n",
      "15 e\n",
      "16  \n",
      "17 h\n",
      "18 e\n",
      "19 r\n",
      "20 e\n"
     ]
    }
   ],
   "source": [
    "\n",
    "for i,char in enumerate([1,2,3]):\n",
    "    print(i,char)\n",
    "print('hi')\n",
    "for i,char in enumerate((1,2,3,4)):\n",
    "    print(i,char)\n",
    "y = '''\n",
    "WWW\n",
    "0 0\n",
    "-_-\n",
    "'''\n",
    "print(y)\n",
    "    \n",
    "for i,char in enumerate('hey,shree kapote here'):\n",
    "    print(i,char)"
   ]
  },
  {
   "cell_type": "code",
   "execution_count": 32,
   "id": "31d79c8a",
   "metadata": {},
   "outputs": [
    {
     "name": "stdout",
     "output_type": "stream",
     "text": [
      "Enter a number to find its index?200\n",
      "index of 200 is :200\n"
     ]
    }
   ],
   "source": [
    "char = input('Enter a number to find its index?')\n",
    "char =int(char)\n",
    "for i,num in enumerate(list(range(201))):\n",
    "    \n",
    "    if num  == char:\n",
    "        print(f'index of {char} is :{i}')\n",
    "        break\n",
    "else:\n",
    "    print(f'{char} is not in the range')"
   ]
  },
  {
   "cell_type": "markdown",
   "id": "609c5403",
   "metadata": {},
   "source": [
    "# while Loops"
   ]
  },
  {
   "cell_type": "code",
   "execution_count": 10,
   "id": "fa3278e8",
   "metadata": {},
   "outputs": [
    {
     "name": "stdout",
     "output_type": "stream",
     "text": [
      "0\n",
      "1\n",
      "2\n",
      "3\n",
      "4\n",
      "5\n",
      "6\n",
      "7\n",
      "8\n",
      "9\n",
      "10\n",
      "11\n",
      "12\n",
      "13\n",
      "14\n",
      "15\n",
      "16\n",
      "17\n",
      "18\n",
      "19\n",
      "20\n",
      "21\n",
      "22\n",
      "23\n",
      "24\n",
      "25\n",
      "26\n",
      "27\n",
      "28\n",
      "29\n",
      "30\n",
      "31\n",
      "32\n",
      "33\n",
      "34\n",
      "35\n",
      "36\n",
      "37\n",
      "38\n",
      "39\n",
      "40\n",
      "41\n",
      "42\n",
      "43\n",
      "44\n",
      "45\n",
      "46\n",
      "47\n",
      "48\n",
      "49\n",
      "Done with the work\n"
     ]
    }
   ],
   "source": [
    "i=0\n",
    "while i <50:\n",
    "    print(i)\n",
    "    i +=1\n",
    "else:\n",
    "    print('Done with the work')"
   ]
  },
  {
   "cell_type": "code",
   "execution_count": 13,
   "id": "7230fea2",
   "metadata": {},
   "outputs": [
    {
     "name": "stdout",
     "output_type": "stream",
     "text": [
      "1\n",
      "2\n",
      "4\n"
     ]
    }
   ],
   "source": [
    "my_list = [1,2,4]\n",
    "for i in my_list:\n",
    "    print(i)"
   ]
  },
  {
   "cell_type": "code",
   "execution_count": null,
   "id": "b1f3cb70",
   "metadata": {},
   "outputs": [],
   "source": [
    "i=0\n",
    "while i < len(my_list):\n",
    "    print(my_list[i])\n",
    "    i+=1"
   ]
  },
  {
   "cell_type": "code",
   "execution_count": 1,
   "id": "88226e8a",
   "metadata": {},
   "outputs": [
    {
     "name": "stdout",
     "output_type": "stream",
     "text": [
      "enter something:hi\n",
      "enter something:bye\n"
     ]
    }
   ],
   "source": [
    "while True:\n",
    "    response = input('enter something:')\n",
    "    if (response =='bye'):\n",
    "        break\n",
    "        "
   ]
  },
  {
   "cell_type": "code",
   "execution_count": 5,
   "id": "bcb2f496",
   "metadata": {},
   "outputs": [
    {
     "name": "stdout",
     "output_type": "stream",
     "text": [
      "shree\n",
      "kapote\n"
     ]
    }
   ],
   "source": [
    "my_list =['shree','kapote']\n",
    "i = 0\n",
    "while i < len(my_list):\n",
    "    print(my_list[i])\n",
    "    i += 1"
   ]
  },
  {
   "cell_type": "code",
   "execution_count": 8,
   "id": "3379cab3",
   "metadata": {},
   "outputs": [
    {
     "name": "stdout",
     "output_type": "stream",
     "text": [
      "give opinion :o\n",
      "give opinion :oo\n",
      "give opinion :nice\n"
     ]
    }
   ],
   "source": [
    "while True:\n",
    "    opinion  = input ('give opinion :')\n",
    "    if (opinion == 'nice'):\n",
    "        break"
   ]
  },
  {
   "cell_type": "code",
   "execution_count": 32,
   "id": "e902ff1e",
   "metadata": {},
   "outputs": [
    {
     "name": "stdout",
     "output_type": "stream",
     "text": [
      "1\n"
     ]
    }
   ],
   "source": [
    "my_list = [1,2,4]\n",
    "for i in my_list:\n",
    "    continue   # from continue the interpreter will jump back on the list therefore no output \n",
    "    print(i)\n",
    "    \n",
    "    \n",
    "    \n",
    "    \n",
    "    \n",
    "   #pass\n",
    "# my_list =['shree','kapote']\n",
    "i = 0\n",
    "while i < len(my_list):\n",
    "    print(my_list[i])\n",
    "    i += 1\n",
    "    break\n",
    " \n",
    "    \n",
    "pass #it is used tojump on next line without showing error\n",
    "\n",
    "    "
   ]
  },
  {
   "cell_type": "markdown",
   "id": "467ec956",
   "metadata": {},
   "source": [
    "# Our First GUI"
   ]
  },
  {
   "cell_type": "code",
   "execution_count": 6,
   "id": "3afe2de7",
   "metadata": {},
   "outputs": [
    {
     "name": "stdout",
     "output_type": "stream",
     "text": [
      "      *       \n",
      "    * * *     \n",
      "  * * * * *   \n",
      "* * * * * * * \n",
      "      *       \n",
      "      *       \n"
     ]
    }
   ],
   "source": [
    "picture = [\n",
    "    [0, 0, 0, 1, 0, 0, 0],\n",
    "    [0, 0, 1, 1, 1, 0, 0],\n",
    "    [0, 1, 1, 1, 1, 1, 0],\n",
    "    [1, 1, 1, 1, 1, 1, 1],\n",
    "    [0, 0, 0, 1, 0, 0, 0],\n",
    "    [0, 0, 0, 1, 0, 0, 0]\n",
    "]\n",
    "\n",
    "for row in picture:\n",
    "    for pixel in row:\n",
    "        if (pixel == 1):\n",
    "            print('*',end= ' ')\n",
    "        else:\n",
    "            print(' ',end=' ')\n",
    "    print()                   # need a new line after every row"
   ]
  },
  {
   "cell_type": "markdown",
   "id": "3d0a0386",
   "metadata": {},
   "source": [
    "# what is a good code?\n",
    "# clean\n",
    "# readability\n",
    "# predictability\n",
    "# Do not repeat yourself"
   ]
  },
  {
   "cell_type": "markdown",
   "id": "2bc29c45",
   "metadata": {},
   "source": [
    "# exercise find duplicate "
   ]
  },
  {
   "cell_type": "code",
   "execution_count": 14,
   "id": "a5830a32",
   "metadata": {},
   "outputs": [
    {
     "ename": "IndentationError",
     "evalue": "unexpected indent (752330953.py, line 4)",
     "output_type": "error",
     "traceback": [
      "\u001b[1;36m  Cell \u001b[1;32mIn[14], line 4\u001b[1;36m\u001b[0m\n\u001b[1;33m    if some_list.count(value) > 1:\u001b[0m\n\u001b[1;37m    ^\u001b[0m\n\u001b[1;31mIndentationError\u001b[0m\u001b[1;31m:\u001b[0m unexpected indent\n"
     ]
    }
   ],
   "source": [
    "some_list = ['a','b','c','b','d','d','m','n','n'] \n",
    "duplicate = []\n",
    "#for value in some_list:\n",
    "    if some_list.count(value) > 1:\n",
    "        if value not in duplicate:\n",
    "          duplicate.append(value)\n",
    "print(duplicate)\n"
   ]
  },
  {
   "cell_type": "code",
   "execution_count": 18,
   "id": "aecb1298",
   "metadata": {},
   "outputs": [
    {
     "name": "stdout",
     "output_type": "stream",
     "text": [
      "['r', 'e', 'a', 'n', 'd', 'b']\n"
     ]
    }
   ],
   "source": [
    "# shree rajendra kapote \n",
    "sample_list = ['s','h','r','e','e','r','a','j','e','n','d','r','a','k','a','p','o','t','e','a','b','c','b','d','d','m','n','n']\n",
    "duplicate_value = []\n",
    "for value in sample_list:\n",
    "    if sample_list.count(value) > 1:\n",
    "        if value not in duplicate_value:\n",
    "            duplicate_value.append(value)\n",
    "print(duplicate_value)"
   ]
  },
  {
   "cell_type": "markdown",
   "id": "17d009cc",
   "metadata": {},
   "source": [
    "# function"
   ]
  },
  {
   "cell_type": "code",
   "execution_count": 25,
   "id": "54492072",
   "metadata": {},
   "outputs": [
    {
     "name": "stdout",
     "output_type": "stream",
     "text": [
      "hello\n"
     ]
    }
   ],
   "source": [
    "def shree():\n",
    "    print('hello')\n",
    "shree()"
   ]
  },
  {
   "cell_type": "code",
   "execution_count": 69,
   "id": "09cdcec7",
   "metadata": {},
   "outputs": [
    {
     "name": "stdout",
     "output_type": "stream",
     "text": [
      "      *        \n",
      "    * * *      \n",
      "  * * * * *    \n",
      "* * * * * * *  \n",
      "      *        \n",
      "      *        \n",
      "      *        \n",
      "    * * *      \n",
      "  * * * * *    \n",
      "* * * * * * *  \n",
      "      *        \n",
      "      *        \n",
      "      *        \n",
      "    * * *      \n",
      "  * * * * *    \n",
      "* * * * * * *  \n",
      "      *        \n",
      "      *        \n",
      "      *        \n",
      "    * * *      \n",
      "  * * * * *    \n",
      "* * * * * * *  \n",
      "      *        \n",
      "      *        \n",
      "      *        \n",
      "    * * *      \n",
      "  * * * * *    \n",
      "* * * * * * *  \n",
      "      *        \n",
      "      *        \n",
      "      *        \n",
      "    * * *      \n",
      "  * * * * *    \n",
      "* * * * * * *  \n",
      "      *        \n",
      "      *        \n",
      "      *        \n",
      "    * * *      \n",
      "  * * * * *    \n",
      "* * * * * * *  \n",
      "      *        \n",
      "      *        \n",
      "      *        \n",
      "    * * *      \n",
      "  * * * * *    \n",
      "* * * * * * *  \n",
      "      *        \n",
      "      *        \n",
      "      *        \n",
      "    * * *      \n",
      "  * * * * *    \n",
      "* * * * * * *  \n",
      "      *        \n",
      "      *        \n",
      "<function show_tree at 0x000001EB4F007A60>\n"
     ]
    }
   ],
   "source": [
    "    picture = [\n",
    "    [0, 0, 0, 1, 0, 0, 0],\n",
    "    [0, 0, 1, 1, 1, 0, 0],\n",
    "    [0, 1, 1, 1, 1, 1, 0],\n",
    "    [1, 1, 1, 1, 1, 1, 1],\n",
    "    [0, 0, 0, 1, 0, 0, 0],\n",
    "    [0, 0, 0, 1, 0, 0, 0]\n",
    "]\n",
    "def show_tree():\n",
    "  for row in picture:\n",
    "        for pixel in row:\n",
    "            if (pixel == 1):\n",
    "                print('*',end = ' ')\n",
    "            else:\n",
    "                print(' ',end = ' ') \n",
    "show_tree()\n",
    "show_tree()\n",
    "show_tree()\n",
    "print(show_tree)"
   ]
  },
  {
   "cell_type": "markdown",
   "id": "a16e3e47",
   "metadata": {},
   "source": [
    "# arguments vs parameters"
   ]
  },
  {
   "cell_type": "code",
   "execution_count": 11,
   "id": "9ef22a2f",
   "metadata": {},
   "outputs": [
    {
     "name": "stdout",
     "output_type": "stream",
     "text": [
      "enter nameshree\n",
      "enter emoji😁\n",
      "hello shree😊\n",
      "hello shree😊\n",
      "hello shree😊\n",
      "hello shree😁\n"
     ]
    }
   ],
   "source": [
    "# parameter \n",
    "name = input('enter name')\n",
    "emoji = input('enter emoji')\n",
    "\n",
    "def say_hello(name,emoji):\n",
    "    print(f'hello {name}{emoji}')\n",
    "# arguments\n",
    "say_hello('shree','😊')\n",
    "say_hello('shree','😊')\n",
    "say_hello('shree','😊')\n",
    "\n",
    "# sample for inout\n",
    "say_hello(name,emoji)"
   ]
  },
  {
   "cell_type": "markdown",
   "id": "dccddff7",
   "metadata": {},
   "source": [
    "# Default parameters and keyword arguments"
   ]
  },
  {
   "cell_type": "code",
   "execution_count": 15,
   "id": "e966ed71",
   "metadata": {},
   "outputs": [
    {
     "name": "stdout",
     "output_type": "stream",
     "text": [
      "hello shree😊\n"
     ]
    }
   ],
   "source": [
    "# keyword arguments\n",
    "say_hello(emoji= '😊',name='shree') # it will place values at right place.\n"
   ]
  },
  {
   "cell_type": "code",
   "execution_count": 16,
   "id": "df9fa3b8",
   "metadata": {},
   "outputs": [
    {
     "name": "stdout",
     "output_type": "stream",
     "text": [
      "hi cocoa😂\n",
      "hi raw😂\n"
     ]
    }
   ],
   "source": [
    "# default parameters\n",
    "def say_hi(person_name = 'cocoa',emoji_person ='😂'):\n",
    "    print(f'hi {person_name}{emoji_person}')\n",
    "say_hi()\n",
    "say_hi('raw')"
   ]
  },
  {
   "cell_type": "markdown",
   "id": "453c7c0e",
   "metadata": {},
   "source": [
    "# return "
   ]
  },
  {
   "cell_type": "markdown",
   "id": "f174f5fe",
   "metadata": {},
   "source": [
    "def sum(num1, num2):\n",
    "    return num1 + num2\n",
    "total = sum(10,5)  \n",
    "print(sum(10,total))\n",
    "\n"
   ]
  },
  {
   "cell_type": "code",
   "execution_count": 1,
   "id": "d0f7a985",
   "metadata": {
    "scrolled": true
   },
   "outputs": [
    {
     "name": "stdout",
     "output_type": "stream",
     "text": [
      "30\n"
     ]
    }
   ],
   "source": [
    "def sum (num1,num2):\n",
    "    def another_funct(n1,n2):\n",
    "        return n1 + n2\n",
    "    return another_funct(num1,num2)\n",
    "total = sum(10,20)\n",
    "print(total)"
   ]
  },
  {
   "cell_type": "markdown",
   "id": "9c051ca6",
   "metadata": {},
   "source": [
    " # methods vs Function"
   ]
  },
  {
   "cell_type": "code",
   "execution_count": 3,
   "id": "5186d1a1",
   "metadata": {},
   "outputs": [
    {
     "name": "stdout",
     "output_type": "stream",
     "text": [
      "Hello\n"
     ]
    }
   ],
   "source": [
    "print('hello'.capitalize())"
   ]
  },
  {
   "cell_type": "markdown",
   "id": "6105b0f6",
   "metadata": {},
   "source": [
    "# docstrings"
   ]
  },
  {
   "cell_type": "code",
   "execution_count": 27,
   "id": "6e8d0166",
   "metadata": {},
   "outputs": [
    {
     "name": "stdout",
     "output_type": "stream",
     "text": [
      "Help on function test in module __main__:\n",
      "\n",
      "test(a)\n",
      "    info: this function tests and prints param a\n",
      "\n",
      "info: this function tests and prints param a\n",
      "info: this function tests and prints param a\n"
     ]
    }
   ],
   "source": [
    "def test(a):\n",
    "    '''info: this function tests and prints param a'''\n",
    "    print(a)\n",
    "help(test)\n",
    "print(test.__doc__)\n",
    "print(test.__doc__)"
   ]
  },
  {
   "cell_type": "markdown",
   "id": "d75d5333",
   "metadata": {},
   "source": [
    "# clean code"
   ]
  },
  {
   "cell_type": "code",
   "execution_count": 36,
   "id": "88b363f0",
   "metadata": {},
   "outputs": [
    {
     "name": "stdout",
     "output_type": "stream",
     "text": [
      "False\n"
     ]
    }
   ],
   "source": [
    " def is_even(num):\n",
    "        return  num % 2 ==0\n",
    "\n",
    "print(is_even(53))"
   ]
  },
  {
   "cell_type": "markdown",
   "id": "61b2ee88",
   "metadata": {},
   "source": [
    "# args and Keyword args"
   ]
  },
  {
   "cell_type": "code",
   "execution_count": 49,
   "id": "09acdfc9",
   "metadata": {},
   "outputs": [
    {
     "name": "stdout",
     "output_type": "stream",
     "text": [
      "{'num1': 2, 'num2': 1}\n",
      "(1, 2, 3, 4, 5)\n",
      "18\n"
     ]
    }
   ],
   "source": [
    "#  *args **KWargs  standard pratice is to use *args not para\n",
    "# rule : params,*args,default parameters,**kwargs\n",
    "def super_func(name,*para,z='hello',**kwargs):\n",
    "    print(kwargs)\n",
    "    print(para)\n",
    "    total = 0\n",
    "    for item in kwargs.values():\n",
    "        total += item\n",
    "    return sum(para) + total\n",
    "\n",
    "print(super_func('shree',1,2,3,4,5,num1=2,num2=1))"
   ]
  },
  {
   "cell_type": "markdown",
   "id": "6c1488e8",
   "metadata": {},
   "source": [
    "# exercise functions"
   ]
  },
  {
   "cell_type": "code",
   "execution_count": 13,
   "id": "7ba077fa",
   "metadata": {},
   "outputs": [
    {
     "name": "stdout",
     "output_type": "stream",
     "text": [
      "100\n"
     ]
    }
   ],
   "source": [
    "def highest_even(li):\n",
    "    evens = []\n",
    "    for item in li:\n",
    "        if item % 2 ==0:\n",
    "            evens.append(item)\n",
    "    return max(evens)\n",
    "\n",
    "print(highest_even([100,2,3,4,8,11]))"
   ]
  },
  {
   "cell_type": "code",
   "execution_count": 16,
   "id": "53c37ef0",
   "metadata": {},
   "outputs": [
    {
     "name": "stdout",
     "output_type": "stream",
     "text": [
      "10000\n"
     ]
    }
   ],
   "source": [
    "def high_num(si):\n",
    "    even_  = []\n",
    "    for it in si:\n",
    "        if it % 2 == 0:\n",
    "            even_.append(it)\n",
    "    return max(even_)\n",
    "\n",
    "\n",
    "print(high_num([100,20,2000,10000,5]))"
   ]
  },
  {
   "cell_type": "markdown",
   "id": "7b27b2d2",
   "metadata": {},
   "source": [
    "# walurs operator"
   ]
  },
  {
   "cell_type": "code",
   "execution_count": 10,
   "id": "72a0ef6b",
   "metadata": {},
   "outputs": [
    {
     "name": "stdout",
     "output_type": "stream",
     "text": [
      "too long 14 elements\n",
      "14\n",
      "13\n",
      "12\n",
      "11\n",
      "10\n",
      "9\n",
      "8\n",
      "7\n",
      "6\n",
      "5\n",
      "4\n",
      "3\n",
      "2\n",
      "h\n"
     ]
    }
   ],
   "source": [
    "a = 'helloooooooooo'\n",
    "\n",
    "if ((n := len(a)))>10:\n",
    "    print(f'too long {n} elements')\n",
    "while((n:= len(a))>1):\n",
    "    print(n)\n",
    "    a = a[:-1 ]\n",
    "print(a)"
   ]
  },
  {
   "cell_type": "markdown",
   "id": "4f638533",
   "metadata": {},
   "source": [
    " # scope - what variables do i have access to? "
   ]
  },
  {
   "cell_type": "code",
   "execution_count": 32,
   "id": "be28e567",
   "metadata": {},
   "outputs": [
    {
     "name": "stdout",
     "output_type": "stream",
     "text": [
      "100\n",
      "10\n"
     ]
    }
   ],
   "source": [
    "if True:\n",
    "    x = 10\n",
    "def some_fun():\n",
    "    total = 100\n",
    "\n",
    "print(total)\n",
    "print(x)"
   ]
  },
  {
   "cell_type": "code",
   "execution_count": null,
   "id": "cc6099b2",
   "metadata": {},
   "outputs": [],
   "source": [
    "# scope rules\n",
    "# 1- start with local\n",
    "# 2 - parent local?\n",
    "# 3 -global\n",
    "# 4 -bulit in python function"
   ]
  },
  {
   "cell_type": "code",
   "execution_count": 39,
   "id": "66b71167",
   "metadata": {},
   "outputs": [
    {
     "name": "stdout",
     "output_type": "stream",
     "text": [
      "5\n",
      "1\n"
     ]
    }
   ],
   "source": [
    "a =1\n",
    "def parent():\n",
    "    def confusion():\n",
    "        return sum\n",
    "    return confusion()\n",
    "    \n",
    "print(confusion())\n",
    "print(a)"
   ]
  },
  {
   "cell_type": "code",
   "execution_count": 40,
   "id": "114e87d3",
   "metadata": {},
   "outputs": [],
   "source": [
    "# global keyowrd"
   ]
  },
  {
   "cell_type": "code",
   "execution_count": 51,
   "id": "aedb366f",
   "metadata": {},
   "outputs": [
    {
     "name": "stdout",
     "output_type": "stream",
     "text": [
      "4\n"
     ]
    }
   ],
   "source": [
    "total_num = 0\n",
    "def cout():\n",
    "    global total_num\n",
    "    total_num += 1\n",
    "    return total_num\n",
    "cout()\n",
    "cout()\n",
    "cout()\n",
    "print(cout())"
   ]
  },
  {
   "cell_type": "code",
   "execution_count": 52,
   "id": "6249cf7c",
   "metadata": {},
   "outputs": [
    {
     "name": "stdout",
     "output_type": "stream",
     "text": [
      "3\n"
     ]
    }
   ],
   "source": [
    "tot_num = 0\n",
    "def coat (tot_num):\n",
    "    tot_num += 1\n",
    "    return tot_num\n",
    "print(coat(coat(coat(tot_num))))  "
   ]
  },
  {
   "cell_type": "markdown",
   "id": "e37853b3",
   "metadata": {},
   "source": [
    "# non local keyword "
   ]
  },
  {
   "cell_type": "code",
   "execution_count": 60,
   "id": "f868bb28",
   "metadata": {},
   "outputs": [
    {
     "name": "stdout",
     "output_type": "stream",
     "text": [
      "inner nonlocal\n",
      "outer: nonlocal\n"
     ]
    }
   ],
   "source": [
    "def outer():\n",
    "    y = \"local\"\n",
    "    def inner():\n",
    "        nonlocal y\n",
    "        y = \"nonlocal\"\n",
    "        print(\"inner\", y)\n",
    "    inner()\n",
    "    print(\"outer:\",y)\n",
    "outer()\n",
    "\n"
   ]
  },
  {
   "cell_type": "markdown",
   "id": "2913366a",
   "metadata": {},
   "source": [
    "# what is oop"
   ]
  },
  {
   "cell_type": "code",
   "execution_count": 8,
   "id": "2773b0f9",
   "metadata": {},
   "outputs": [
    {
     "name": "stdout",
     "output_type": "stream",
     "text": [
      "<class '__main__.ShreeKapote'>\n"
     ]
    }
   ],
   "source": [
    "class ShreeKapote :\n",
    "    pass\n",
    "obj1 = ShreeKapote()\n",
    "\n",
    "    \n",
    "print(type(obj1))"
   ]
  },
  {
   "cell_type": "markdown",
   "id": "f1c8e1f0",
   "metadata": {},
   "source": [
    "# class gets instantiate into instances and these intances are object."
   ]
  },
  {
   "cell_type": "code",
   "execution_count": 4,
   "id": "d801a5f8",
   "metadata": {},
   "outputs": [
    {
     "name": "stdout",
     "output_type": "stream",
     "text": [
      "shree\n",
      "kapote\n",
      "45\n",
      "19\n",
      "100\n",
      "200\n",
      "Indian\n",
      "Itailan\n",
      "True\n",
      "My name is shree\n",
      "None\n",
      "My name is shree\n",
      "None\n"
     ]
    }
   ],
   "source": [
    "class PlayerCharacter:\n",
    "    #class object Attribute\n",
    "    membership = True\n",
    "    def __init__(self, name, age,country): #  __init__ constructer/methods\n",
    "        if (age>18):                                   #    if (self.membership):\n",
    "            self.name = name ## attributes\n",
    "            self.age = age\n",
    "            self.country = country\n",
    "        \n",
    "    def shout(self):                    #methods\n",
    "        print(f'My name is {self.name}')\n",
    "        \n",
    "    \n",
    "    def run(self,hello):                    #methods\n",
    "        print(f'My name is {self.name}')\n",
    "      \n",
    "\n",
    "player1 = PlayerCharacter(\"shree\",45,'Indian')\n",
    "player2 = PlayerCharacter(\"kapote\",19,'Itailan')\n",
    "player2.attack = 100   # add attribute\n",
    "player1.attack = 200\n",
    "\n",
    "print(player1.name)\n",
    "print(player2.name)\n",
    "print(player1.age)\n",
    "print(player2.age)\n",
    "print(player2.attack)\n",
    "print(player1.attack)\n",
    "print(player1.country)\n",
    "print(player2.country)\n",
    "print(player1.membership)\n",
    "print(player1.shout())\n",
    "print(player1.run('hello'))\n"
   ]
  },
  {
   "cell_type": "markdown",
   "id": "94fd5576",
   "metadata": {},
   "source": [
    "# attributes and methods"
   ]
  },
  {
   "cell_type": "code",
   "execution_count": 17,
   "id": "3808e74f",
   "metadata": {},
   "outputs": [],
   "source": [
    " #help(player1)"
   ]
  },
  {
   "cell_type": "markdown",
   "id": "de73421f",
   "metadata": {},
   "source": [
    "# example"
   ]
  },
  {
   "cell_type": "code",
   "execution_count": 5,
   "id": "1f82c631",
   "metadata": {},
   "outputs": [
    {
     "name": "stdout",
     "output_type": "stream",
     "text": [
      "my dogs name is dolly.\n",
      "dolly\n",
      "10\n",
      "labredor\n",
      "5\n"
     ]
    }
   ],
   "source": [
    "class dog:\n",
    "    def __init__(self,name,age,breed):\n",
    "        self.name = name\n",
    "        self.age = age\n",
    "        self.breed = breed\n",
    "        \n",
    "    def bark(self):\n",
    "        print(f'my dogs name is {self.name}.')\n",
    "        \n",
    "    @classmethod\n",
    "    def adding_thing(cls,num1,num2):\n",
    "        return num1 + num2\n",
    "        \n",
    "\n",
    "#my_dog = dog('dolly',10,'labredor')\n",
    "\n",
    "my_dog.bark()\n",
    "print(my_dog.name)\n",
    "print(my_dog.age)\n",
    "print(my_dog.breed)\n",
    "print(dog.adding_thing(2,3))"
   ]
  },
  {
   "cell_type": "markdown",
   "id": "dbf1c525",
   "metadata": {},
   "source": [
    "# This is a program to check wheather car's engine is running or not."
   ]
  },
  {
   "cell_type": "code",
   "execution_count": 30,
   "id": "f07061c2",
   "metadata": {},
   "outputs": [
    {
     "name": "stdout",
     "output_type": "stream",
     "text": [
      "My car is a 2012 White Maruti Swift.\n",
      "The 2012 White Maruti Swift's engine is now running.\n",
      "The 2012 White Maruti Swift is now moving at 30 kmph.\n",
      "The 2012 White Maruti Swift is now moving at 60 kmph.\n",
      "The 2012 White Maruti Swift slowed down to 40 kmph.\n",
      "The 2012 White Maruti Swift slowed down to 20 kmph.\n",
      "2012 White Maruti Swift's engine is now stopped.\n"
     ]
    }
   ],
   "source": [
    "class car:\n",
    "    def __init__(self, make, model, year, color='unknown'):\n",
    "        self.make = make\n",
    "        self.model = model\n",
    "        self.year = year\n",
    "        self.color = color\n",
    "        self.is_running = False\n",
    "        self.speed = 0\n",
    "     \n",
    "    def start_engine(self):\n",
    "        if not self.is_running:\n",
    "            print(f\"The {self.year} {self.color} {self.make} {self.model}'s engine is now running.\")\n",
    "            self.is_running = True\n",
    "        else:\n",
    "            print(f\"The {self.year} {self.color} {self.make} {self.model}'s is already running.\")\n",
    "            \n",
    "    def stop_engine(self):\n",
    "        if self.is_running:\n",
    "            print(f\"{self.year} {self.color} {self.make} {self.model}'s engine is now stopped.\")\n",
    "            self.is_running  = False\n",
    "            self.speed = 0\n",
    "        else:\n",
    "            print(f\"The {self.year} {self.color} {self.make} {self.model}'s engine is already stopped.\")\n",
    "            \n",
    "    \n",
    "    def accelrate(self, speed_increase):\n",
    "        if self.is_running:\n",
    "            self.speed += speed_increase\n",
    "            print(f\"The {self.year} {self.color} {self.make} {self.model} is now moving at {self.speed} kmph.\")\n",
    "        else:\n",
    "            print(f\"You need to start the engine frist.\")\n",
    "    \n",
    "    def brake(self, speed_decrease):\n",
    "        if self.speed >= speed_decrease:\n",
    "            self.speed -= speed_decrease\n",
    "            print(f\"The {self.year} {self.color} {self.make} {self.model} slowed down to {self.speed} kmph.\")\n",
    "        else:\n",
    "            print(f\"The {self.year} {self.color} {self.make} {self.model} has already stopped.\")\n",
    "       \n",
    "    \n",
    "# creating an instance of the car class\n",
    "my_car = car(make=\"Maruti\", model=\"Swift\", year=2012, color=\"White\")\n",
    "\n",
    "# Accessing attributes of the instance\n",
    "print(f\"My car is a {my_car.year} {my_car.color} {my_car.make} {my_car.model}.\")\n",
    "\n",
    "# starting the engine\n",
    "my_car.start_engine()\n",
    "\n",
    "#Accelerating \n",
    "my_car.accelrate(30)\n",
    "my_car.accelrate(30)\n",
    "\n",
    "# slowing down\n",
    "my_car.brake(20)\n",
    "my_car.brake(20)\n",
    "\n",
    "\n",
    "# stopping the engine\n",
    "my_car.stop_engine()\n"
   ]
  },
  {
   "cell_type": "markdown",
   "id": "acc4d0e4",
   "metadata": {},
   "source": [
    "# @class method and  @static method"
   ]
  },
  {
   "cell_type": "code",
   "execution_count": 24,
   "id": "8dec41cb",
   "metadata": {},
   "outputs": [
    {
     "name": "stdout",
     "output_type": "stream",
     "text": [
      "my dogs name is dolly.\n",
      "dolly\n",
      "10\n",
      "labredor\n",
      "('thomas', 5, 'labro')\n",
      "<class '__main__.dog'>\n"
     ]
    }
   ],
   "source": [
    "class dog:\n",
    "    def __init__(self,name,age,breed):\n",
    "        self.name = name\n",
    "        self.age = age\n",
    "        self.breed = breed\n",
    "        \n",
    "    def bark(self):\n",
    "        print(f'my dogs name is {self.name}.')\n",
    "        \n",
    "    @classmethod\n",
    "    def adding_thing(cls,num1,num2):\n",
    "        return cls('thomas',num1 + num2,'labro')\n",
    "    \n",
    "    @staticmethod\n",
    "    def adding_thing2(num1,num2):\n",
    "        return ('thomas',num1 + num2,'labro')\n",
    "      \n",
    "        \n",
    "\n",
    "#my_dog = dog('dolly',10,'labredor')\n",
    "my_dog2 = dog.adding_thing(2,3)\n",
    "\n",
    "my_dog.bark()\n",
    "print(my_dog.name)\n",
    "print(my_dog.age)\n",
    "print(my_dog.breed)\n",
    "print(dog.adding_thing2(2,3))\n",
    "\n"
   ]
  },
  {
   "cell_type": "code",
   "execution_count": 12,
   "id": "478ca6bb",
   "metadata": {
    "scrolled": true
   },
   "outputs": [
    {
     "name": "stdout",
     "output_type": "stream",
     "text": [
      "shree\n",
      "<__main__.PlayerCharacter1 object at 0x00000239C90E3C90>\n",
      "<__main__.PlayerCharacter1 object at 0x00000239C90E3C90>\n"
     ]
    }
   ],
   "source": [
    "class PlayerCharacter1:\n",
    "    def __init__(self, name1, age1):\n",
    "        self.name1 = name1\n",
    "        self.age1 = age1\n",
    "    \n",
    "    def run1(self):\n",
    "        return self\n",
    "    \n",
    "player5 = PlayerCharacter1('shree',1000)\n",
    "\n",
    "print(player5.name1)\n",
    "print(player5.run1().run1().run1())\n",
    "print(player5.run1().run1().run1())\n"
   ]
  },
  {
   "cell_type": "markdown",
   "id": "6f74d606",
   "metadata": {},
   "source": [
    "# Four pillars of OOP\n",
    "# 1. Encapsulation"
   ]
  },
  {
   "cell_type": "code",
   "execution_count": 36,
   "id": "8e5087ab",
   "metadata": {},
   "outputs": [
    {
     "name": "stdout",
     "output_type": "stream",
     "text": [
      "my name is shree,and i am 1000 years old.\n"
     ]
    }
   ],
   "source": [
    "class PlayerCharacter1:\n",
    "    def __init__(self, name1, age1):\n",
    "        self.name1 = name1\n",
    "        self.age1 = age1\n",
    "    \n",
    "    def run1(self):\n",
    "        return self\n",
    "    \n",
    "    def speak(self):\n",
    "        print(f'my name is {self.name1},and i am {self.age1} years old.')\n",
    "    \n",
    "player5 = PlayerCharacter1('shree',1000)\n",
    "player5.speak()\n"
   ]
  },
  {
   "cell_type": "code",
   "execution_count": 1,
   "id": "dfcb12d4",
   "metadata": {},
   "outputs": [
    {
     "name": "stdout",
     "output_type": "stream",
     "text": [
      "42\n",
      "99\n",
      "42\n"
     ]
    }
   ],
   "source": [
    "# code for encapsulation\n",
    "class MyClass:\n",
    "    def __init__(self, value):\n",
    "        \n",
    "        self._protected_variable = value #Protected variable\n",
    "        self.__private_variable = value # private variable\n",
    "\n",
    "    \n",
    "    def get_protected_variable(self):\n",
    "            return self._protected_variable\n",
    "        \n",
    "    def set_protected_variable(self, new_value):\n",
    "        self._protected_variable = new_value\n",
    "    \n",
    "    def __get_private_variable(self):\n",
    "        return self.__private_variable\n",
    "    \n",
    "    def public_method(self):\n",
    "        # Accesing Private variable indirectly through a public method\n",
    "        return self.__get_private_variable()\n",
    "\n",
    "#creating an instance of MyClass\n",
    "obj = MyClass(42)\n",
    "\n",
    "# Accesing Protected variable\n",
    "print(obj.get_protected_variable()) \n",
    "\n",
    "# modifiying protected variable\n",
    "obj.set_protected_variable(99)\n",
    "print(obj.get_protected_variable())\n",
    "\n",
    "# accessing private variable indirectly through a public method\n",
    "print(obj.public_method())\n",
    "\n"
   ]
  },
  {
   "cell_type": "code",
   "execution_count": 3,
   "id": "93ea1171",
   "metadata": {},
   "outputs": [
    {
     "name": "stdout",
     "output_type": "stream",
     "text": [
      "shree\n",
      "21\n"
     ]
    }
   ],
   "source": [
    "player8 = {'name':'shree','age':21}\n",
    "print(player8['name'])\n",
    "print(player8['age'])"
   ]
  },
  {
   "cell_type": "markdown",
   "id": "c8410cfd",
   "metadata": {},
   "source": [
    "# Pillar no 2 : Abstraction\n",
    "# hiding of information or abracting information or giving access to what is necessary."
   ]
  },
  {
   "cell_type": "code",
   "execution_count": 28,
   "id": "8ddac553",
   "metadata": {
    "scrolled": true
   },
   "outputs": [
    {
     "name": "stdout",
     "output_type": "stream",
     "text": [
      "my name is shree,and i am 1000 years old.\n",
      "None\n"
     ]
    }
   ],
   "source": [
    "class PlayerCharacter1:\n",
    "    def __init__(self, name1, age1):# use _ and __ to indicate the value which are private\n",
    "        self.__name1 = name1        \n",
    "        self.__age1 = age1\n",
    "    \n",
    "    def run1(self):\n",
    "        return self\n",
    "    \n",
    "    def speak(self):\n",
    "        print(f'my name is {self.__name1},and i am {self.__age1} years old.')\n",
    "        \n",
    "\n",
    "player5 = PlayerCharacter1('shree',1000)\n",
    "\n",
    "print(player5.speak())\n",
    "#[]._     # under_score once are dunder method\n",
    "\n",
    "\n"
   ]
  },
  {
   "cell_type": "code",
   "execution_count": 59,
   "id": "18789fa1",
   "metadata": {},
   "outputs": [
    {
     "name": "stdout",
     "output_type": "stream",
     "text": [
      " Maruti Swift's engine started.\n",
      "Maruti Swift's engine stopped.\n",
      "Maruti Swift is accelerating.\n",
      "Error:subclasses must implement acclerate method\n",
      "Suzuki Hayabusa's engine started.\n",
      "Suzuki Hayabusa's engine stopped.\n"
     ]
    }
   ],
   "source": [
    "class Vehicle:\n",
    "    def __init__(self, brand, model):\n",
    "        self.brand = brand\n",
    "        self.model = model\n",
    "    \n",
    "    def start_engine(self):\n",
    "        raise NotImplementedError(\"subclasses must implement start_engine method\")\n",
    "        \n",
    "    \n",
    "    def stop_engine(self):\n",
    "        raise NotImplementedError(\"subclasses must implement stop_enginemethod\")\n",
    "        \n",
    "    def accelerate(self):\n",
    "        raise NotImplementedError (\"subclasses must implement acclerate method\")\n",
    "        \n",
    "\n",
    "class Car(Vehicle):\n",
    "    def start_engine(self):\n",
    "        return f\" {self.brand} {self.model}'s engine started.\"\n",
    "    \n",
    "    def stop_engine(self):\n",
    "        return f\"{self.brand} {self.model}'s engine stopped.\"\n",
    "    \n",
    "    def accelerate(self):\n",
    "        return f\"{self.brand} {self.model} is accelerating.\"\n",
    "\n",
    "class MotorCycle(Vehicle):\n",
    "    def start_engine(self):\n",
    "        return f\"{self.brand} {self.model}'s engine started.\"\n",
    "    \n",
    "    def stop_engine(self):\n",
    "        return f\"{self.brand} {self.model}'s engine stopped.\"\n",
    "  \n",
    "\n",
    "    #def accelerate(self):\n",
    "       # return f\"{self.brand} {self.model} is accelerating on two wheels.\"\n",
    "\n",
    "    \n",
    "#create instance of the concrete classes\n",
    "car = Car(\"Maruti\", \"Swift\")\n",
    "motorcycle = MotorCycle(\"Suzuki\", \"Hayabusa\")\n",
    "\n",
    "print(car.start_engine())\n",
    "print(car.stop_engine())\n",
    "print(car.accelerate())\n",
    "\n",
    "try:\n",
    "    print(motorcycle.accelerate())\n",
    "except NotImplementedError as e:\n",
    "    print(f\"Error:{e}\")\n",
    "\n",
    "print(motorcycle.start_engine())\n",
    "print(motorcycle.stop_engine())\n",
    "\n",
    "    "
   ]
  },
  {
   "cell_type": "code",
   "execution_count": 9,
   "id": "f0f45fee",
   "metadata": {
    "scrolled": true
   },
   "outputs": [
    {
     "name": "stdout",
     "output_type": "stream",
     "text": [
      " Maruti Swift's engine started.\n",
      " Maruti Swift's engine stopped.\n",
      "Maruti Swift is accelerating.\n",
      "Suzuki Hayabusa is accelerating.\n",
      "Suzuki Hayabusa's engine started.\n",
      "Suzuki Hayabusa's engine stopped.\n",
      "Suzuki Hayabusa is accelerating.\n"
     ]
    }
   ],
   "source": [
    "class Vehicle:\n",
    "    def __init__(self, brand, model):\n",
    "        self.brand = brand\n",
    "        self.model = model\n",
    "        \n",
    "    def start_engine(self):\n",
    "        raise NotImplementedError(\"subclasses must implement start_engine method\")\n",
    "    \n",
    "    def stop_engine(self):\n",
    "        raise NotImplementedError(\"subclasses must implement stop_engine method.\")\n",
    "        \n",
    "    def accelerate(self):\n",
    "        raise NotImplementedError (\"subclasses must implement accelerate method.\")\n",
    "        \n",
    "class Car(Vehicle):\n",
    "    def start_engine(self):\n",
    "        return f\" {self.brand} {self.model}'s engine started.\"\n",
    "    \n",
    "    def stop_engine(self):\n",
    "        return f\" {self.brand} {self.model}'s engine stopped.\"\n",
    "    \n",
    "    def accelerate(self):\n",
    "        return f\"{self.brand} {self.model} is accelerating.\"\n",
    "    \n",
    "class MotorCycle(Vehicle):\n",
    "    def start_engine(self):\n",
    "        return f\"{self.brand} {self.model}'s engine started.\"\n",
    "    \n",
    "    def stop_engine(self):\n",
    "        return f\"{self.brand} {self.model}'s engine stopped.\"\n",
    "    \n",
    "    def accelerate(self):\n",
    "        return f\"{self.brand} {self.model} is accelerating.\"\n",
    "    \n",
    "    \n",
    " #create instance of the concrete classes\n",
    "car = Car(\"Maruti\", \"Swift\")\n",
    "motorcycle = MotorCycle(\"Suzuki\", \"Hayabusa\")\n",
    "    \n",
    "print(car.start_engine())\n",
    "print(car.stop_engine())\n",
    "print(car.accelerate())\n",
    "    \n",
    "try:\n",
    "    print(motorcycle.accelerate())\n",
    " \n",
    "except NotImplementedError as e:\n",
    "     print(f\"Error:{e}\")\n",
    "       \n",
    "print(motorcycle.start_engine())\n",
    "print(motorcycle.stop_engine())\n",
    "print(motorcycle.accelerate())"
   ]
  },
  {
   "cell_type": "markdown",
   "id": "9a46296f",
   "metadata": {},
   "source": [
    "# Third pillar of OOP is Inheritance"
   ]
  },
  {
   "cell_type": "code",
   "execution_count": 2,
   "id": "8925f07f",
   "metadata": {},
   "outputs": [
    {
     "name": "stdout",
     "output_type": "stream",
     "text": [
      "I am brown, and I am 6 years old.\n",
      "I am heko, and I am 4 years old.\n",
      "I am win, and I am 3 years old.\n",
      "brown the corso says woof!.\n",
      "heko the golden says woof!.\n",
      "win the pitbull says woof!.\n",
      "3\n"
     ]
    }
   ],
   "source": [
    "class Animal:\n",
    "    def __init__(self, name, age):\n",
    "        self.name = name\n",
    "        self.age = age\n",
    "        \n",
    "    def speak(self):\n",
    "        raise NotImplementedError(\"subclasses must implement the speak method.\")\n",
    "        \n",
    "    def introduce(self):\n",
    "        return f\"I am {self.name}, and I am {self.age} years old.\"\n",
    "\n",
    "class Dog (Animal):\n",
    "    # class variable for tracking the number of dogs\n",
    "    num_dogs = 0\n",
    "    \n",
    "    def __init__(self, name, age, breed):\n",
    "        super().__init__(name, age)\n",
    "        self.breed = breed\n",
    "        Dog.num_dogs = Dog.num_dogs + 1\n",
    "        \n",
    "    def speak(self):\n",
    "        return f\"{self.name} the {self.breed} says woof!.\"\n",
    "    \n",
    "    @classmethod\n",
    "    def get_num_dogs(self):\n",
    "        return self.num_dogs\n",
    "\n",
    "class Cat(Animal):\n",
    "    num_cats = 0\n",
    "    \n",
    "    def __init__(self, name, age, color):\n",
    "        super().__init__(name, age)\n",
    "        self.color = color\n",
    "        Cat.num_cats = Cat.num_cats +1\n",
    "        \n",
    "    def speak(self):\n",
    "        return f\"{self.name} the {self.color} cat says Meow.\"\n",
    "    \n",
    "    @classmethod\n",
    "    def get_num_cats(self):\n",
    "        return self.num_cats\n",
    "    \n",
    "dog_instance = Dog(\"brown\", 6, \"corso\")\n",
    "dog_instance1 = Dog(\"heko\", 4, \"golden\")\n",
    "dog_instance2 = Dog(\"win\", 3, \"pitbull\")\n",
    "\n",
    "print(dog_instance.introduce())\n",
    "print(dog_instance1.introduce())\n",
    "print(dog_instance2.introduce())\n",
    "\n",
    "print(dog_instance.speak())\n",
    "print(dog_instance1.speak())\n",
    "print(dog_instance2.speak())\n",
    "print(Dog.num_dogs)"
   ]
  },
  {
   "cell_type": "code",
   "execution_count": 3,
   "id": "a83524c0",
   "metadata": {},
   "outputs": [
    {
     "name": "stdout",
     "output_type": "stream",
     "text": [
      "I am tison, and I am 5 years old.\n",
      "tison the Black corso says Woof!\n",
      "tison is fetching a ball.\n",
      "Total number of dogs: 1.\n",
      "\n",
      "WOW\n",
      "O O\n",
      "_-_\n",
      "\n",
      "I am lichi, and I am 2 years old.\n",
      "lichi the stray mixed cat says Meow.\n",
      " lichi is chasing mice.\n",
      "Total number of cats: 1.\n",
      "Generic pet sound\n"
     ]
    }
   ],
   "source": [
    "\n",
    "class Animal:\n",
    "    def __init__(self, name, age):\n",
    "        self.name = name\n",
    "        self.age = age\n",
    "    \n",
    "    def speak(self):\n",
    "        raise NotImplementedError(\"subclasses must implemnet the speak method\")\n",
    "        \n",
    "    def introduce(self):\n",
    "        return f\"I am {self.name}, and I am {self.age} years old.\"\n",
    "    \n",
    "class Pet(Animal):\n",
    "    def __init__(self, name, age, species):\n",
    "        super().__init__(name, age)\n",
    "        self.species = species\n",
    "        \n",
    "    def make_sound(self):\n",
    "        return \"Generic pet sound\"\n",
    "    \n",
    "class Dog(Pet):\n",
    "    num_dogs = 0\n",
    "    \n",
    "    def __init__(self, name , age, breed, color):\n",
    "        super().__init__(name, age, species = \"Dog\")\n",
    "        self.breed = breed\n",
    "        self.color = color\n",
    "        Dog.num_dogs += 1\n",
    "        \n",
    "    def speak(self):\n",
    "        return f\"{self.name} the {self.color} {self.breed} says Woof!\"\n",
    "    \n",
    "    def fetch(self):\n",
    "        return f\"{self.name} is fetching a ball.\"\n",
    "    \n",
    "    @classmethod\n",
    "    def get_num_dogs(cls):\n",
    "        return cls.num_dogs\n",
    "    \n",
    "    \n",
    "class Cat(Pet):\n",
    "    num_cat = 0\n",
    "    \n",
    "    def __init__(self, name, age, color, pattern):\n",
    "        super().__init__(name, age, species=\"cat\")\n",
    "        self.color = color\n",
    "        self.pattern = pattern\n",
    "        Cat.num_cat +=1\n",
    "        \n",
    "    def speak(self):\n",
    "        return f\"{self.name} the {self.color} {self.pattern} cat says Meow.\"\n",
    "    \n",
    "    def chase_mice(self):\n",
    "        return f\" {self.name} is chasing mice.\"\n",
    "    \n",
    "    @classmethod \n",
    "    def get_num_cats(cls):\n",
    "        return cls.num_cat\n",
    "    \n",
    "dog_instance = Dog(\"tison\", 5, \"corso\", \"Black\")\n",
    "cat_instance = Cat(\"lichi\", 2, \"stray\", \"mixed\")\n",
    "\n",
    "print(dog_instance.introduce())\n",
    "print(dog_instance.speak())\n",
    "print(dog_instance.fetch())\n",
    "print(f\"Total number of dogs: {Dog.get_num_dogs()}.\")\n",
    "print('''\n",
    "WOW\n",
    "O O\n",
    "_-_\n",
    "''')\n",
    "\n",
    "print(cat_instance.introduce())\n",
    "print(cat_instance.speak())\n",
    "print(cat_instance.chase_mice())\n",
    "print(f\"Total number of cats: {Cat.get_num_cats()}.\")\n",
    "print(dog_instance.make_sound())\n"
   ]
  },
  {
   "cell_type": "code",
   "execution_count": 2,
   "id": "9ad83a7a",
   "metadata": {},
   "outputs": [
    {
     "name": "stdout",
     "output_type": "stream",
     "text": [
      "attacking with power of 50\n",
      "Marlin@gmail.com\n"
     ]
    },
    {
     "data": {
      "text/plain": [
       "True"
      ]
     },
     "execution_count": 2,
     "metadata": {},
     "output_type": "execute_result"
    }
   ],
   "source": [
    "class User(object):\n",
    "    def __init__(self,email):\n",
    "        self.email = email\n",
    "        \n",
    "    def sign_in(self):\n",
    "        print('logged in')\n",
    "        \n",
    "class Wizard(User):\n",
    "    def __init__(self, name, power,email):\n",
    "        super().__init__(email)\n",
    "        self.name = name\n",
    "        self.power = power\n",
    "        self.email = email\n",
    "\n",
    "        \n",
    "        \n",
    "    def attack(self):\n",
    "        print(f'attacking with power of {self.power}')\n",
    "\n",
    "class Archer(User):\n",
    "        def __init__(self, name, num_arrows):\n",
    "              self.name = name\n",
    "              self.num_arrows = num_arrows\n",
    "        \n",
    "        def attack(self):\n",
    "              print(f'attacking with arrows: arrows left- {self.num_arrows}')\n",
    "\n",
    "\n",
    "wizard1 = Wizard('Merlin', 50,'Marlin@gmail.com')\n",
    "archer1 = Archer('Robin', 100)\n",
    "wizard1.attack()\n",
    "print(wizard1.email)\n",
    "\n",
    "isinstance(wizard1,object)  # to check wheather it is instance of it or not."
   ]
  },
  {
   "cell_type": "markdown",
   "id": "d6ca9fee",
   "metadata": {},
   "source": [
    "# Polymorphism"
   ]
  },
  {
   "cell_type": "code",
   "execution_count": 3,
   "id": "d3cae662",
   "metadata": {},
   "outputs": [
    {
     "name": "stdout",
     "output_type": "stream",
     "text": [
      "attacking with power of 50\n",
      "attacking with arrows: arrows left- 100\n"
     ]
    }
   ],
   "source": [
    "# modification in above code\n",
    "def player_attack(char):\n",
    "    char.attack()\n",
    "\n",
    "player_attack(wizard1)\n",
    "player_attack(archer1)"
   ]
  },
  {
   "cell_type": "markdown",
   "id": "ee39a50f",
   "metadata": {},
   "source": [
    "# object introspection is to determine what kind of object it is and it is useful to find out to whom we have acces"
   ]
  },
  {
   "cell_type": "code",
   "execution_count": 12,
   "id": "546ee891",
   "metadata": {},
   "outputs": [
    {
     "name": "stdout",
     "output_type": "stream",
     "text": [
      "['__class__', '__delattr__', '__dict__', '__dir__', '__doc__', '__eq__', '__format__', '__ge__', '__getattribute__', '__getstate__', '__gt__', '__hash__', '__init__', '__init_subclass__', '__le__', '__lt__', '__module__', '__ne__', '__new__', '__reduce__', '__reduce_ex__', '__repr__', '__setattr__', '__sizeof__', '__str__', '__subclasshook__', '__weakref__', 'attack', 'email', 'name', 'power', 'sign_in']\n"
     ]
    }
   ],
   "source": [
    "print(dir(wizard1))# dir()"
   ]
  },
  {
   "cell_type": "markdown",
   "id": "4bd2ee55",
   "metadata": {},
   "source": [
    "# Dunder methods"
   ]
  },
  {
   "cell_type": "code",
   "execution_count": 3,
   "id": "ff71fe76",
   "metadata": {},
   "outputs": [
    {
     "name": "stdout",
     "output_type": "stream",
     "text": [
      "red\n",
      "red\n",
      "5\n",
      "yess?\n",
      "None\n",
      "nax\n"
     ]
    }
   ],
   "source": [
    "class Toy():\n",
    "    def __init__(self,color,age):\n",
    "        self.color = color\n",
    "        self.age = age\n",
    "        self.my_dict = {\n",
    "            'name' : 'nax',\n",
    "            'has_pets': False\n",
    "            \n",
    "        }\n",
    "        \n",
    "    def __str__(self):\n",
    "        return f'{self.color}'\n",
    "    \n",
    "    def __len__(self):\n",
    "        return 5\n",
    "    \n",
    "    def __del__(self):\n",
    "        print('deleted!')\n",
    "    \n",
    "    def __call__(self):\n",
    "        print('yess?')\n",
    "        \n",
    "    def __getitem__(self, i):\n",
    "        return self.my_dict[i]\n",
    "        \n",
    "    \n",
    "        \n",
    "action_figure = Toy('red',0)\n",
    "print(action_figure.__str__())\n",
    "print(str(action_figure))\n",
    "print(len(action_figure))\n",
    "#del action_figure\n",
    "print(action_figure())\n",
    "print(action_figure['name'])"
   ]
  },
  {
   "cell_type": "markdown",
   "id": "b32b29f4",
   "metadata": {},
   "source": [
    "# Exercise Extending List"
   ]
  },
  {
   "cell_type": "code",
   "execution_count": 14,
   "id": "3955a4b9",
   "metadata": {},
   "outputs": [
    {
     "name": "stdout",
     "output_type": "stream",
     "text": [
      "1000\n",
      "True\n"
     ]
    }
   ],
   "source": [
    "class SuperList(list):\n",
    "    def __len__(self):\n",
    "        return 1000\n",
    "    \n",
    "super_list1 = SuperList()\n",
    "\n",
    "super_list1.append(5)\n",
    "print(len(super_list1))\n",
    "super_list1[0]\n",
    "\n",
    "print(issubclass(SuperList, list))"
   ]
  },
  {
   "cell_type": "markdown",
   "id": "ecb3a5ca",
   "metadata": {},
   "source": [
    "# Multiple inheritance exercise"
   ]
  },
  {
   "cell_type": "code",
   "execution_count": 7,
   "id": "6952d78c",
   "metadata": {},
   "outputs": [
    {
     "name": "stdout",
     "output_type": "stream",
     "text": [
      "ran really fast\n",
      "None\n",
      "100 remaining\n",
      "None\n",
      "attacking with power of 50\n",
      "None\n"
     ]
    }
   ],
   "source": [
    "class User(object):\n",
    "    def  __init__(self, email):\n",
    "        self.email = email\n",
    "        print('init complete')\n",
    "        \n",
    "    def sign_in(self):\n",
    "        print('Logged in')\n",
    "\n",
    "class Wizard (User):\n",
    "    def __init__ (self, name, power):\n",
    "        self.name = name\n",
    "        self.power = power\n",
    "        \n",
    "    def attack(self):\n",
    "        print(f'attacking with power of {self.power}')\n",
    "        \n",
    "\n",
    "class Archer(User):\n",
    "    def __init__(self, name, arrows):\n",
    "        self.name = name\n",
    "        self.arrows = arrows\n",
    "        \n",
    "    def check_arrows(self):\n",
    "        print(f'{self.arrows} remaining')\n",
    "        \n",
    "    def run (self):\n",
    "        print('ran really fast')\n",
    "        \n",
    "        \n",
    "        \n",
    "class Hybridborg(Wizard,Archer):\n",
    "    def __init__(self, name, power, arrows):\n",
    "        Archer.__init__(self, name, arrows)\n",
    "        Wizard.__init__(self, name, power)\n",
    "         \n",
    "hb1 = Hybridborg('row',50,100)\n",
    "\n",
    "print(hb1.run())\n",
    "print(hb1.check_arrows())\n",
    "print(hb1.attack())"
   ]
  },
  {
   "cell_type": "markdown",
   "id": "191daefa",
   "metadata": {},
   "source": [
    "# MRO - method resolution order"
   ]
  },
  {
   "cell_type": "code",
   "execution_count": 45,
   "id": "1710b7f7",
   "metadata": {},
   "outputs": [
    {
     "name": "stdout",
     "output_type": "stream",
     "text": [
      "1\n",
      "[<class '__main__.B'>, <class '__main__.A'>, <class 'object'>]\n"
     ]
    },
    {
     "data": {
      "text/plain": [
       "<slot wrapper '__str__' of 'object' objects>"
      ]
     },
     "execution_count": 45,
     "metadata": {},
     "output_type": "execute_result"
    }
   ],
   "source": [
    "class A:\n",
    "    pass\n",
    "    \n",
    "class B(A):\n",
    "    pass\n",
    "\n",
    "class C(A):\n",
    "    num = 1\n",
    "\n",
    "class D(B, C):\n",
    "    pass\n",
    "\n",
    "print(D.num)\n",
    "print(B.mro())\n",
    "D.__str__\n",
    "\n",
    "    "
   ]
  },
  {
   "cell_type": "code",
   "execution_count": 4,
   "id": "f60c11de",
   "metadata": {},
   "outputs": [
    {
     "name": "stdout",
     "output_type": "stream",
     "text": [
      "[<class '__main__.M'>, <class '__main__.B'>, <class '__main__.A'>, <class '__main__.X'>, <class '__main__.Y'>, <class '__main__.Z'>, <class 'object'>]\n"
     ]
    }
   ],
   "source": [
    " class X:pass\n",
    " class Y: pass\n",
    " class Z:pass\n",
    " class A(X,Y):pass\n",
    " class B(Y,Z):pass\n",
    " class M(B,A,Z):pass\n",
    "\n",
    "print(M.mro())"
   ]
  },
  {
   "cell_type": "markdown",
   "id": "81b0f919",
   "metadata": {},
   "source": [
    "# Pure function"
   ]
  },
  {
   "cell_type": "code",
   "execution_count": 1,
   "id": "2b11521d",
   "metadata": {},
   "outputs": [
    {
     "ename": "IndentationError",
     "evalue": "unexpected indent (350815714.py, line 2)",
     "output_type": "error",
     "traceback": [
      "\u001b[1;36m  Cell \u001b[1;32mIn[1], line 2\u001b[1;36m\u001b[0m\n\u001b[1;33m    new_list = []\u001b[0m\n\u001b[1;37m    ^\u001b[0m\n\u001b[1;31mIndentationError\u001b[0m\u001b[1;31m:\u001b[0m unexpected indent\n"
     ]
    }
   ],
   "source": [
    "#def multiply_by2(li):\n",
    "    new_list = []\n",
    "    for item in li:\n",
    "        new_list.append(item*2)\n",
    "        \n",
    "    return new_list\n",
    "\n",
    "multiply_by2([1,2,3])\n",
    "        "
   ]
  },
  {
   "cell_type": "markdown",
   "id": "f71f59cb",
   "metadata": {},
   "source": [
    "# map()"
   ]
  },
  {
   "cell_type": "code",
   "execution_count": 13,
   "id": "a4e9b023",
   "metadata": {},
   "outputs": [
    {
     "name": "stdout",
     "output_type": "stream",
     "text": [
      "[10, 4, 6]\n",
      "[5, 2, 3]\n"
     ]
    }
   ],
   "source": [
    "my_list = [5,2,3]\n",
    "def multiply_by2(item):\n",
    "    return item*2\n",
    "\n",
    "print(list(map(multiply_by2,my_list)))  # if you want to view map object turn it into list\n",
    "print(my_list)\n",
    "\n",
    "\n"
   ]
  },
  {
   "cell_type": "markdown",
   "id": "e66b88db",
   "metadata": {},
   "source": [
    "# Filter"
   ]
  },
  {
   "cell_type": "code",
   "execution_count": 3,
   "id": "af45327d",
   "metadata": {
    "scrolled": true
   },
   "outputs": [
    {
     "name": "stdout",
     "output_type": "stream",
     "text": [
      "[1, 3]\n"
     ]
    }
   ],
   "source": [
    "def only_odd(item):\n",
    "    return item % 2 != 0\n",
    "\n",
    "print(list(filter(only_odd,my_list)))\n"
   ]
  },
  {
   "cell_type": "markdown",
   "id": "361ba9f0",
   "metadata": {},
   "source": [
    "# Zip  It is a function that iterates and grab the first item form each list and zips it."
   ]
  },
  {
   "cell_type": "code",
   "execution_count": 4,
   "id": "cf0d90bb",
   "metadata": {},
   "outputs": [
    {
     "name": "stdout",
     "output_type": "stream",
     "text": [
      "[(1, 10, 'hi'), (2, 100, 'hello'), (3, 20, 'yo')]\n"
     ]
    }
   ],
   "source": [
    "your_list = [10,100,20]\n",
    "hi = ['hi','hello','yo']\n",
    "print(list(zip(my_list,your_list,hi)))\n"
   ]
  },
  {
   "cell_type": "markdown",
   "id": "97266b8f",
   "metadata": {},
   "source": [
    "# reduce"
   ]
  },
  {
   "cell_type": "code",
   "execution_count": 14,
   "id": "5928cc3e",
   "metadata": {},
   "outputs": [
    {
     "name": "stdout",
     "output_type": "stream",
     "text": [
      "0 5\n",
      "5 2\n",
      "7 3\n",
      "10\n"
     ]
    }
   ],
   "source": [
    "from functools import reduce\n",
    "\n",
    "def accumulator(acc,item):\n",
    "    print(acc, item)\n",
    "    return acc + item\n",
    "    \n",
    "print(reduce(accumulator,my_list,0)) #6 # 0 is accumulator"
   ]
  },
  {
   "cell_type": "markdown",
   "id": "81053899",
   "metadata": {},
   "source": [
    "#  lambda Expression"
   ]
  },
  {
   "cell_type": "code",
   "execution_count": 16,
   "id": "3ace8b3f",
   "metadata": {},
   "outputs": [
    {
     "name": "stdout",
     "output_type": "stream",
     "text": [
      "[10, 4, 6]\n",
      "[5, 3]\n",
      "10\n"
     ]
    }
   ],
   "source": [
    " print(list(map(multiply_by2,my_list)))\n",
    "print(list(filter(lambda item :item %2 != 0,my_list)))\n",
    "print(reduce(lambda acc, item : acc + item,my_list ))"
   ]
  },
  {
   "cell_type": "markdown",
   "id": "f85559c6",
   "metadata": {},
   "source": [
    "# exercise"
   ]
  },
  {
   "cell_type": "code",
   "execution_count": 34,
   "id": "6746c102",
   "metadata": {},
   "outputs": [
    {
     "name": "stdout",
     "output_type": "stream",
     "text": [
      "[25, 16, 9]\n"
     ]
    }
   ],
   "source": [
    "my_list1 = [5,4,3]\n",
    "new_list = list(map(lambda item : item**2,my_list1))\n",
    "print(new_list)"
   ]
  },
  {
   "cell_type": "markdown",
   "id": "5123fa87",
   "metadata": {},
   "source": [
    "# list sorting"
   ]
  },
  {
   "cell_type": "code",
   "execution_count": 51,
   "id": "3707fb20",
   "metadata": {},
   "outputs": [],
   "source": [
    "a = [(0,2), (4,3), (9,9), (10,-1)]"
   ]
  },
  {
   "cell_type": "code",
   "execution_count": 56,
   "id": "de0fe777",
   "metadata": {},
   "outputs": [
    {
     "name": "stdout",
     "output_type": "stream",
     "text": [
      "None\n",
      "[(10, -1), (0, 2), (4, 3), (9, 9)]\n"
     ]
    }
   ],
   "source": [
    "print(a.sort(key = lambda x :x[1]))\n",
    "print(a)\n"
   ]
  },
  {
   "cell_type": "markdown",
   "id": "a8b7874a",
   "metadata": {},
   "source": [
    "# List comprehensions"
   ]
  },
  {
   "cell_type": "code",
   "execution_count": 1,
   "id": "094d4a0c",
   "metadata": {},
   "outputs": [
    {
     "name": "stdout",
     "output_type": "stream",
     "text": [
      "['c', 'h', 'a', 'r']\n"
     ]
    }
   ],
   "source": [
    "my_list = []\n",
    "for char in 'char':\n",
    "    my_list.append(char)\n",
    "\n",
    "print(my_list)"
   ]
  },
  {
   "cell_type": "code",
   "execution_count": 22,
   "id": "1530a1e8",
   "metadata": {},
   "outputs": [
    {
     "name": "stdout",
     "output_type": "stream",
     "text": [
      "[0, 2, 4, 6, 8, 10, 12, 14, 16, 18, 20, 22, 24, 26, 28, 30, 32, 34, 36, 38, 40, 42, 44, 46, 48, 50, 52, 54, 56, 58, 60, 62, 64, 66, 68, 70, 72, 74, 76, 78, 80, 82, 84, 86, 88, 90, 92, 94, 96, 98, 100, 102, 104, 106, 108, 110, 112, 114, 116, 118, 120, 122, 124, 126, 128, 130, 132, 134, 136, 138, 140, 142, 144, 146, 148, 150, 152, 154, 156, 158, 160, 162, 164, 166, 168, 170, 172, 174, 176, 178, 180, 182, 184, 186, 188, 190, 192, 194, 196, 198]\n"
     ]
    }
   ],
   "source": [
    "#list comprehensions\n",
    "my_list1 = [char for char in 'hello']\n",
    "my_list2 = [num for num in range(0,100)]\n",
    "into_two = lambda x: x *2\n",
    "print(list(map(into_two,my_list2)))\n",
    "\n",
    "my_1  =[num**2 for num in range(0,100)]\n",
    "#print(my_1)\n",
    "\n",
    "my_list4 = [num*2 for num in range(0,100) if num %2 ==0]\n"
   ]
  },
  {
   "cell_type": "markdown",
   "id": "77cac2cf",
   "metadata": {},
   "source": [
    " # set and dictionary comprehension"
   ]
  },
  {
   "cell_type": "code",
   "execution_count": 31,
   "id": "9a83ae9a",
   "metadata": {},
   "outputs": [],
   "source": [
    "my_set = {char for char in 'hello'}\n",
    "my_set2 = {num for num in range(0,100)}\n",
    "my_set3 = {num**2 for num in range(0,100)}\n",
    "my_set4 = {num **2 for num in range (0,100) if num %2 == 0}\n",
    "\n"
   ]
  },
  {
   "cell_type": "code",
   "execution_count": 38,
   "id": "ab8d3f1d",
   "metadata": {},
   "outputs": [
    {
     "data": {
      "text/plain": [
       "{1: 2, 2: 4, 3: 6, 4: 8}"
      ]
     },
     "execution_count": 38,
     "metadata": {},
     "output_type": "execute_result"
    }
   ],
   "source": [
    "# dict\n",
    "simple_dict = {\n",
    "    'a' : 1,\n",
    "    'b' : 2,\n",
    "    'c' : 3\n",
    "}\n",
    "my_dict = {key: value **2 for key,value in simple_dict.items()if value %2 ==0}\n",
    "my_dict\n",
    "\n",
    "my_dict2 ={num:num*2 for num in [1,2,3,4]}\n",
    "my_dict2"
   ]
  },
  {
   "cell_type": "code",
   "execution_count": 57,
   "id": "1e25f1fe",
   "metadata": {},
   "outputs": [
    {
     "name": "stdout",
     "output_type": "stream",
     "text": [
      "['b', 'n']\n"
     ]
    }
   ],
   "source": [
    "some_list = ['a','b','c','b','d','m','n','n']\n",
    "duplicates = {value for value in some_list if some_list.count(value) >1}\n",
    "print(list(duplicates))\n"
   ]
  },
  {
   "cell_type": "markdown",
   "id": "3b686326",
   "metadata": {},
   "source": [
    "# Decorators"
   ]
  },
  {
   "cell_type": "code",
   "execution_count": 9,
   "id": "ddd1c51b",
   "metadata": {},
   "outputs": [
    {
     "name": "stdout",
     "output_type": "stream",
     "text": [
      "I'm still here\n",
      "None\n"
     ]
    }
   ],
   "source": [
    "def hello(func):\n",
    "    func()\n",
    "def greet():\n",
    "    print('I\\'m still here')\n",
    "        \n",
    "a = hello(greet)\n",
    "print(a)\n",
    "\n",
    "          "
   ]
  },
  {
   "cell_type": "code",
   "execution_count": null,
   "id": "f9721754",
   "metadata": {},
   "outputs": [],
   "source": [
    "# higher oreder function"
   ]
  },
  {
   "cell_type": "code",
   "execution_count": 22,
   "id": "292a3038",
   "metadata": {},
   "outputs": [],
   "source": [
    " def greet(func):  # it is a higher order function because it accept a function\n",
    "        func()\n",
    "        \n",
    "def greet2():\n",
    "    def func():    #this a higher order function it accept function as a parameter \n",
    "        return 5\n",
    "    return func\n"
   ]
  },
  {
   "cell_type": "markdown",
   "id": "44edb153",
   "metadata": {},
   "source": [
    "# write our own Decorators"
   ]
  },
  {
   "cell_type": "code",
   "execution_count": 37,
   "id": "3bd6c1f3",
   "metadata": {},
   "outputs": [
    {
     "name": "stdout",
     "output_type": "stream",
     "text": [
      "*****************************\n",
      "hello\n",
      "******************************\n",
      "*****************************\n",
      "see ya later\n",
      "******************************\n"
     ]
    }
   ],
   "source": [
    "\n",
    "def my_decorators(func):\n",
    "    def wrap_func():\n",
    "        print('*****************************')\n",
    "        func()  # format for decorators\n",
    "        print('******************************')\n",
    "        \n",
    "    return wrap_func\n",
    "\n",
    "@my_decorators         \n",
    "def hello():\n",
    "    print('hello')\n",
    "\n",
    "@my_decorators\n",
    "def bye():\n",
    "    print('see ya later')\n",
    "    \n",
    "hello()\n",
    "bye()\n",
    "\n",
    "\n",
    "#ello2 = my_decorators(hello)\n",
    "#ello2()\n",
    "#y_decorators(hello)()"
   ]
  },
  {
   "cell_type": "code",
   "execution_count": 51,
   "id": "0c73ba6e",
   "metadata": {},
   "outputs": [
    {
     "name": "stdout",
     "output_type": "stream",
     "text": [
      "*****************************\n",
      "hi 😊\n",
      "hello\n",
      "******************************\n"
     ]
    }
   ],
   "source": [
    "def my_decorators(func):\n",
    "    def wrap_func(x,f):\n",
    "        print('*****************************')\n",
    "        func(x,f)  # format for decorators\n",
    "        print('******************************')\n",
    "        \n",
    "    return wrap_func\n",
    "\n",
    "@my_decorators         \n",
    "def hello(greeting,f):\n",
    "    print(greeting,f)\n",
    "    print('hello')\n",
    "\n",
    "@my_decorators\n",
    "def bye():\n",
    "    print('see ya later')\n",
    "    \n",
    "hello('hi','😊')\n",
    "#bye()"
   ]
  },
  {
   "cell_type": "code",
   "execution_count": null,
   "id": "5c6a79f2",
   "metadata": {},
   "outputs": [],
   "source": [
    "def my_decorators(func):\n",
    "    def wrap_func(*args,**kwargs):\n",
    "        print('*****************************')\n",
    "        func(*args,**kwargs)  # format for decorators\n",
    "        print('******************************')\n",
    "        print('******************************')\n",
    "        \n",
    "    return wrap_func\n",
    "\n",
    "@my_decorators         \n",
    "def hello(greeting,f = \"👌\"):\n",
    "    print(greeting,f)\n",
    "    print('hello 🚢')\n",
    "\n",
    "@my_decorators \n",
    "def bye():\n",
    "    print('see ya later')\n",
    "    \n",
    "hello('hi')\n",
    "#bye()"
   ]
  },
  {
   "cell_type": "code",
   "execution_count": 1,
   "id": "a257c7ae",
   "metadata": {},
   "outputs": [],
   "source": [
    "from time import time"
   ]
  },
  {
   "cell_type": "code",
   "execution_count": null,
   "id": "b48b9504",
   "metadata": {},
   "outputs": [],
   "source": [
    "def performance(func):\n",
    "    def wrapper(*args, **kwargs):\n",
    "        t1 = time()\n",
    "        result  = func(*args, **kwargs)\n",
    "        t2 = time()\n",
    "        print(f'took {t2-t1} s')\n",
    "        return result\n",
    "    return wrapper\n",
    "\n",
    "@performance\n",
    "def long_time():\n",
    "    for i in range(10):\n",
    "        i*5\n",
    "\n",
    "long_time()\n",
    "    "
   ]
  },
  {
   "cell_type": "markdown",
   "id": "5b5ef848",
   "metadata": {},
   "source": [
    "# Error Handling"
   ]
  },
  {
   "cell_type": "code",
   "execution_count": 13,
   "id": "8bb5fa3d",
   "metadata": {},
   "outputs": [
    {
     "ename": "NameError",
     "evalue": "name 'li' is not defined",
     "output_type": "error",
     "traceback": [
      "\u001b[1;31m---------------------------------------------------------------------------\u001b[0m",
      "\u001b[1;31mNameError\u001b[0m                                 Traceback (most recent call last)",
      "Cell \u001b[1;32mIn[13], line 3\u001b[0m\n\u001b[0;32m      1\u001b[0m \u001b[38;5;28;01mdef\u001b[39;00m \u001b[38;5;21mho\u001b[39m():\n\u001b[0;32m      2\u001b[0m  li \u001b[38;5;241m=\u001b[39m[\u001b[38;5;241m1\u001b[39m,\u001b[38;5;241m2\u001b[39m,\u001b[38;5;241m3\u001b[39m]\n\u001b[1;32m----> 3\u001b[0m \u001b[43mli\u001b[49m[\u001b[38;5;241m5\u001b[39m]\n\u001b[0;32m      5\u001b[0m ho()\n",
      "\u001b[1;31mNameError\u001b[0m: name 'li' is not defined"
     ]
    }
   ],
   "source": [
    "def ho():\n",
    " li =[1,2,3]\n",
    "li[5]\n",
    "\n",
    "ho()"
   ]
  },
  {
   "cell_type": "code",
   "execution_count": 10,
   "id": "d2d5a7d8",
   "metadata": {},
   "outputs": [
    {
     "ename": "ZeroDivisionError",
     "evalue": "division by zero",
     "output_type": "error",
     "traceback": [
      "\u001b[1;31m---------------------------------------------------------------------------\u001b[0m",
      "\u001b[1;31mZeroDivisionError\u001b[0m                         Traceback (most recent call last)",
      "Cell \u001b[1;32mIn[10], line 1\u001b[0m\n\u001b[1;32m----> 1\u001b[0m \u001b[38;5;28mprint\u001b[39m(\u001b[38;5;241;43m5\u001b[39;49m\u001b[38;5;241;43m/\u001b[39;49m\u001b[38;5;241;43m0\u001b[39;49m)\n",
      "\u001b[1;31mZeroDivisionError\u001b[0m: division by zero"
     ]
    }
   ],
   "source": [
    "print(5/0)"
   ]
  },
  {
   "cell_type": "code",
   "execution_count": 47,
   "id": "5fc7061a",
   "metadata": {},
   "outputs": [
    {
     "name": "stdout",
     "output_type": "stream",
     "text": [
      "what is your age?21\n",
      "Thank You!\n",
      "ok, i am finally done\n"
     ]
    }
   ],
   "source": [
    "# Error handling\n",
    "while True:\n",
    "    try:\n",
    "        age  = int(input('what is your age?'))\n",
    "        10/age\n",
    "        \n",
    "    except ValueError:\n",
    "        print('enter a number')\n",
    "        \n",
    "    except ZeroDivisionError:\n",
    "        print('enter age higher than zero')\n",
    "        \n",
    "    except ValueError:\n",
    "        print('!!!')\n",
    "        \n",
    "    else:\n",
    "        print('Thank You!')\n",
    "        break\n",
    "    finally:\n",
    "        print('ok, i am finally done')"
   ]
  },
  {
   "cell_type": "code",
   "execution_count": 46,
   "id": "1cd3f4ff",
   "metadata": {},
   "outputs": [
    {
     "name": "stdout",
     "output_type": "stream",
     "text": [
      "division by zero\n",
      "please enter number division by zero\n",
      "None\n"
     ]
    }
   ],
   "source": [
    "def sum(num1, num2):\n",
    "    try:\n",
    "        return num1/num2\n",
    "    except (TypeError, ZeroDivisionError) as err:\n",
    "        print(err)\n",
    "        print(f'please enter number {err}' )\n",
    "    \n",
    "\n",
    "print(sum(1, 0))"
   ]
  },
  {
   "cell_type": "code",
   "execution_count": null,
   "id": "7bf4a86d",
   "metadata": {},
   "outputs": [
    {
     "name": "stdout",
     "output_type": "stream",
     "text": [
      "what is your age?f\n",
      "enter a number\n",
      "ok, i am finally done\n"
     ]
    }
   ],
   "source": [
    "# Error handling\n",
    "while True:\n",
    "    try:\n",
    "        age  = int(input('what is your age?'))\n",
    "        10/age\n",
    "        raise ValueError('cut')\n",
    "    except ValueError:\n",
    "        print('enter a number')\n",
    "        continue\n",
    "    except ZeroDivisionError:\n",
    "        print('enter age higher than zero')\n",
    "        break\n",
    "        \n",
    "    except ValueError:\n",
    "        print('!!!')\n",
    "        break\n",
    "        \n",
    "    else:\n",
    "        print('Thank You!')\n",
    "        break\n",
    "    finally:\n",
    "        print('ok, i am finally done')\n",
    "    print('hi')"
   ]
  },
  {
   "cell_type": "markdown",
   "id": "575f0aab",
   "metadata": {},
   "source": [
    "# how to throw your own error"
   ]
  },
  {
   "cell_type": "code",
   "execution_count": 3,
   "id": "7c98ccab",
   "metadata": {},
   "outputs": [
    {
     "name": "stdout",
     "output_type": "stream",
     "text": [
      "what is your age?i\n",
      "ok, i am finally done\n"
     ]
    },
    {
     "ename": "ValueError",
     "evalue": "invalid literal for int() with base 10: 'i'",
     "output_type": "error",
     "traceback": [
      "\u001b[1;31m---------------------------------------------------------------------------\u001b[0m",
      "\u001b[1;31mValueError\u001b[0m                                Traceback (most recent call last)",
      "Cell \u001b[1;32mIn[3], line 4\u001b[0m\n\u001b[0;32m      2\u001b[0m \u001b[38;5;28;01mwhile\u001b[39;00m \u001b[38;5;28;01mTrue\u001b[39;00m:\n\u001b[0;32m      3\u001b[0m     \u001b[38;5;28;01mtry\u001b[39;00m:\n\u001b[1;32m----> 4\u001b[0m         age  \u001b[38;5;241m=\u001b[39m \u001b[38;5;28;43mint\u001b[39;49m\u001b[43m(\u001b[49m\u001b[38;5;28;43minput\u001b[39;49m\u001b[43m(\u001b[49m\u001b[38;5;124;43m'\u001b[39;49m\u001b[38;5;124;43mwhat is your age?\u001b[39;49m\u001b[38;5;124;43m'\u001b[39;49m\u001b[43m)\u001b[49m\u001b[43m)\u001b[49m\n\u001b[0;32m      5\u001b[0m         \u001b[38;5;241m10\u001b[39m\u001b[38;5;241m/\u001b[39mage\n\u001b[0;32m      6\u001b[0m         \u001b[38;5;28;01mraise\u001b[39;00m Exceptionr(\u001b[38;5;124m'\u001b[39m\u001b[38;5;124mthrowing Error\u001b[39m\u001b[38;5;124m'\u001b[39m)\n",
      "\u001b[1;31mValueError\u001b[0m: invalid literal for int() with base 10: 'i'"
     ]
    }
   ],
   "source": [
    "# Error handling\n",
    "while True:\n",
    "    try:\n",
    "        age  = int(input('what is your age?'))\n",
    "        10/age\n",
    "        raise Exceptionr('throwing Error')\n",
    "\n",
    "    except ZeroDivisionError:\n",
    "        print('enter age higher than zero')\n",
    "        break\n",
    "        \n",
    "   # except ValueError:\n",
    "       # print('!!!')\n",
    "       # break\n",
    "        \n",
    "    else:\n",
    "        print('Thank You!')\n",
    "        break\n",
    "    finally:\n",
    "        print('ok, i am finally done')\n",
    "    print('hi')"
   ]
  },
  {
   "cell_type": "code",
   "execution_count": null,
   "id": "84fbec67-3606-44c7-ab71-d302ae78848b",
   "metadata": {},
   "outputs": [],
   "source": []
  },
  {
   "cell_type": "code",
   "execution_count": 12,
   "id": "c5025647",
   "metadata": {
    "collapsed": true
   },
   "outputs": [
    {
     "name": "stdout",
     "output_type": "stream",
     "text": [
      "11\n",
      "11\n",
      "11\n",
      "11\n",
      "[[0, 0, 0], [0, 0, 1], [0, 0, 2], [0, 0, 3], [0, 0, 4], [0, 0, 5], [0, 0, 6], [0, 0, 7], [0, 0, 8], [0, 0, 9], [0, 0, 10], [0, 1, 0], [0, 1, 1], [0, 1, 2], [0, 1, 3], [0, 1, 4], [0, 1, 5], [0, 1, 6], [0, 1, 7], [0, 1, 8], [0, 1, 9], [0, 1, 11], [0, 2, 0], [0, 2, 1], [0, 2, 2], [0, 2, 3], [0, 2, 4], [0, 2, 5], [0, 2, 6], [0, 2, 7], [0, 2, 8], [0, 2, 10], [0, 2, 11], [0, 3, 0], [0, 3, 1], [0, 3, 2], [0, 3, 3], [0, 3, 4], [0, 3, 5], [0, 3, 6], [0, 3, 7], [0, 3, 9], [0, 3, 10], [0, 3, 11], [0, 4, 0], [0, 4, 1], [0, 4, 2], [0, 4, 3], [0, 4, 4], [0, 4, 5], [0, 4, 6], [0, 4, 8], [0, 4, 9], [0, 4, 10], [0, 4, 11], [0, 5, 0], [0, 5, 1], [0, 5, 2], [0, 5, 3], [0, 5, 4], [0, 5, 5], [0, 5, 7], [0, 5, 8], [0, 5, 9], [0, 5, 10], [0, 5, 11], [0, 6, 0], [0, 6, 1], [0, 6, 2], [0, 6, 3], [0, 6, 4], [0, 6, 6], [0, 6, 7], [0, 6, 8], [0, 6, 9], [0, 6, 10], [0, 6, 11], [0, 7, 0], [0, 7, 1], [0, 7, 2], [0, 7, 3], [0, 7, 5], [0, 7, 6], [0, 7, 7], [0, 7, 8], [0, 7, 9], [0, 7, 10], [0, 7, 11], [0, 8, 0], [0, 8, 1], [0, 8, 2], [0, 8, 4], [0, 8, 5], [0, 8, 6], [0, 8, 7], [0, 8, 8], [0, 8, 9], [0, 8, 10], [0, 8, 11], [0, 9, 0], [0, 9, 1], [0, 9, 3], [0, 9, 4], [0, 9, 5], [0, 9, 6], [0, 9, 7], [0, 9, 8], [0, 9, 9], [0, 9, 10], [0, 9, 11], [0, 10, 0], [0, 10, 2], [0, 10, 3], [0, 10, 4], [0, 10, 5], [0, 10, 6], [0, 10, 7], [0, 10, 8], [0, 10, 9], [0, 10, 10], [0, 10, 11], [0, 11, 1], [0, 11, 2], [0, 11, 3], [0, 11, 4], [0, 11, 5], [0, 11, 6], [0, 11, 7], [0, 11, 8], [0, 11, 9], [0, 11, 10], [0, 11, 11], [1, 0, 0], [1, 0, 1], [1, 0, 2], [1, 0, 3], [1, 0, 4], [1, 0, 5], [1, 0, 6], [1, 0, 7], [1, 0, 8], [1, 0, 9], [1, 0, 11], [1, 1, 0], [1, 1, 1], [1, 1, 2], [1, 1, 3], [1, 1, 4], [1, 1, 5], [1, 1, 6], [1, 1, 7], [1, 1, 8], [1, 1, 10], [1, 1, 11], [1, 2, 0], [1, 2, 1], [1, 2, 2], [1, 2, 3], [1, 2, 4], [1, 2, 5], [1, 2, 6], [1, 2, 7], [1, 2, 9], [1, 2, 10], [1, 2, 11], [1, 3, 0], [1, 3, 1], [1, 3, 2], [1, 3, 3], [1, 3, 4], [1, 3, 5], [1, 3, 6], [1, 3, 8], [1, 3, 9], [1, 3, 10], [1, 3, 11], [1, 4, 0], [1, 4, 1], [1, 4, 2], [1, 4, 3], [1, 4, 4], [1, 4, 5], [1, 4, 7], [1, 4, 8], [1, 4, 9], [1, 4, 10], [1, 4, 11], [1, 5, 0], [1, 5, 1], [1, 5, 2], [1, 5, 3], [1, 5, 4], [1, 5, 6], [1, 5, 7], [1, 5, 8], [1, 5, 9], [1, 5, 10], [1, 5, 11], [1, 6, 0], [1, 6, 1], [1, 6, 2], [1, 6, 3], [1, 6, 5], [1, 6, 6], [1, 6, 7], [1, 6, 8], [1, 6, 9], [1, 6, 10], [1, 6, 11], [1, 7, 0], [1, 7, 1], [1, 7, 2], [1, 7, 4], [1, 7, 5], [1, 7, 6], [1, 7, 7], [1, 7, 8], [1, 7, 9], [1, 7, 10], [1, 7, 11], [1, 8, 0], [1, 8, 1], [1, 8, 3], [1, 8, 4], [1, 8, 5], [1, 8, 6], [1, 8, 7], [1, 8, 8], [1, 8, 9], [1, 8, 10], [1, 8, 11], [1, 9, 0], [1, 9, 2], [1, 9, 3], [1, 9, 4], [1, 9, 5], [1, 9, 6], [1, 9, 7], [1, 9, 8], [1, 9, 9], [1, 9, 10], [1, 9, 11], [1, 10, 1], [1, 10, 2], [1, 10, 3], [1, 10, 4], [1, 10, 5], [1, 10, 6], [1, 10, 7], [1, 10, 8], [1, 10, 9], [1, 10, 10], [1, 10, 11], [1, 11, 0], [1, 11, 1], [1, 11, 2], [1, 11, 3], [1, 11, 4], [1, 11, 5], [1, 11, 6], [1, 11, 7], [1, 11, 8], [1, 11, 9], [1, 11, 10], [1, 11, 11], [2, 0, 0], [2, 0, 1], [2, 0, 2], [2, 0, 3], [2, 0, 4], [2, 0, 5], [2, 0, 6], [2, 0, 7], [2, 0, 8], [2, 0, 10], [2, 0, 11], [2, 1, 0], [2, 1, 1], [2, 1, 2], [2, 1, 3], [2, 1, 4], [2, 1, 5], [2, 1, 6], [2, 1, 7], [2, 1, 9], [2, 1, 10], [2, 1, 11], [2, 2, 0], [2, 2, 1], [2, 2, 2], [2, 2, 3], [2, 2, 4], [2, 2, 5], [2, 2, 6], [2, 2, 8], [2, 2, 9], [2, 2, 10], [2, 2, 11], [2, 3, 0], [2, 3, 1], [2, 3, 2], [2, 3, 3], [2, 3, 4], [2, 3, 5], [2, 3, 7], [2, 3, 8], [2, 3, 9], [2, 3, 10], [2, 3, 11], [2, 4, 0], [2, 4, 1], [2, 4, 2], [2, 4, 3], [2, 4, 4], [2, 4, 6], [2, 4, 7], [2, 4, 8], [2, 4, 9], [2, 4, 10], [2, 4, 11], [2, 5, 0], [2, 5, 1], [2, 5, 2], [2, 5, 3], [2, 5, 5], [2, 5, 6], [2, 5, 7], [2, 5, 8], [2, 5, 9], [2, 5, 10], [2, 5, 11], [2, 6, 0], [2, 6, 1], [2, 6, 2], [2, 6, 4], [2, 6, 5], [2, 6, 6], [2, 6, 7], [2, 6, 8], [2, 6, 9], [2, 6, 10], [2, 6, 11], [2, 7, 0], [2, 7, 1], [2, 7, 3], [2, 7, 4], [2, 7, 5], [2, 7, 6], [2, 7, 7], [2, 7, 8], [2, 7, 9], [2, 7, 10], [2, 7, 11], [2, 8, 0], [2, 8, 2], [2, 8, 3], [2, 8, 4], [2, 8, 5], [2, 8, 6], [2, 8, 7], [2, 8, 8], [2, 8, 9], [2, 8, 10], [2, 8, 11], [2, 9, 1], [2, 9, 2], [2, 9, 3], [2, 9, 4], [2, 9, 5], [2, 9, 6], [2, 9, 7], [2, 9, 8], [2, 9, 9], [2, 9, 10], [2, 9, 11], [2, 10, 0], [2, 10, 1], [2, 10, 2], [2, 10, 3], [2, 10, 4], [2, 10, 5], [2, 10, 6], [2, 10, 7], [2, 10, 8], [2, 10, 9], [2, 10, 10], [2, 10, 11], [2, 11, 0], [2, 11, 1], [2, 11, 2], [2, 11, 3], [2, 11, 4], [2, 11, 5], [2, 11, 6], [2, 11, 7], [2, 11, 8], [2, 11, 9], [2, 11, 10], [2, 11, 11], [3, 0, 0], [3, 0, 1], [3, 0, 2], [3, 0, 3], [3, 0, 4], [3, 0, 5], [3, 0, 6], [3, 0, 7], [3, 0, 9], [3, 0, 10], [3, 0, 11], [3, 1, 0], [3, 1, 1], [3, 1, 2], [3, 1, 3], [3, 1, 4], [3, 1, 5], [3, 1, 6], [3, 1, 8], [3, 1, 9], [3, 1, 10], [3, 1, 11], [3, 2, 0], [3, 2, 1], [3, 2, 2], [3, 2, 3], [3, 2, 4], [3, 2, 5], [3, 2, 7], [3, 2, 8], [3, 2, 9], [3, 2, 10], [3, 2, 11], [3, 3, 0], [3, 3, 1], [3, 3, 2], [3, 3, 3], [3, 3, 4], [3, 3, 6], [3, 3, 7], [3, 3, 8], [3, 3, 9], [3, 3, 10], [3, 3, 11], [3, 4, 0], [3, 4, 1], [3, 4, 2], [3, 4, 3], [3, 4, 5], [3, 4, 6], [3, 4, 7], [3, 4, 8], [3, 4, 9], [3, 4, 10], [3, 4, 11], [3, 5, 0], [3, 5, 1], [3, 5, 2], [3, 5, 4], [3, 5, 5], [3, 5, 6], [3, 5, 7], [3, 5, 8], [3, 5, 9], [3, 5, 10], [3, 5, 11], [3, 6, 0], [3, 6, 1], [3, 6, 3], [3, 6, 4], [3, 6, 5], [3, 6, 6], [3, 6, 7], [3, 6, 8], [3, 6, 9], [3, 6, 10], [3, 6, 11], [3, 7, 0], [3, 7, 2], [3, 7, 3], [3, 7, 4], [3, 7, 5], [3, 7, 6], [3, 7, 7], [3, 7, 8], [3, 7, 9], [3, 7, 10], [3, 7, 11], [3, 8, 1], [3, 8, 2], [3, 8, 3], [3, 8, 4], [3, 8, 5], [3, 8, 6], [3, 8, 7], [3, 8, 8], [3, 8, 9], [3, 8, 10], [3, 8, 11], [3, 9, 0], [3, 9, 1], [3, 9, 2], [3, 9, 3], [3, 9, 4], [3, 9, 5], [3, 9, 6], [3, 9, 7], [3, 9, 8], [3, 9, 9], [3, 9, 10], [3, 9, 11], [3, 10, 0], [3, 10, 1], [3, 10, 2], [3, 10, 3], [3, 10, 4], [3, 10, 5], [3, 10, 6], [3, 10, 7], [3, 10, 8], [3, 10, 9], [3, 10, 10], [3, 10, 11], [3, 11, 0], [3, 11, 1], [3, 11, 2], [3, 11, 3], [3, 11, 4], [3, 11, 5], [3, 11, 6], [3, 11, 7], [3, 11, 8], [3, 11, 9], [3, 11, 10], [3, 11, 11], [4, 0, 0], [4, 0, 1], [4, 0, 2], [4, 0, 3], [4, 0, 4], [4, 0, 5], [4, 0, 6], [4, 0, 8], [4, 0, 9], [4, 0, 10], [4, 0, 11], [4, 1, 0], [4, 1, 1], [4, 1, 2], [4, 1, 3], [4, 1, 4], [4, 1, 5], [4, 1, 7], [4, 1, 8], [4, 1, 9], [4, 1, 10], [4, 1, 11], [4, 2, 0], [4, 2, 1], [4, 2, 2], [4, 2, 3], [4, 2, 4], [4, 2, 6], [4, 2, 7], [4, 2, 8], [4, 2, 9], [4, 2, 10], [4, 2, 11], [4, 3, 0], [4, 3, 1], [4, 3, 2], [4, 3, 3], [4, 3, 5], [4, 3, 6], [4, 3, 7], [4, 3, 8], [4, 3, 9], [4, 3, 10], [4, 3, 11], [4, 4, 0], [4, 4, 1], [4, 4, 2], [4, 4, 4], [4, 4, 5], [4, 4, 6], [4, 4, 7], [4, 4, 8], [4, 4, 9], [4, 4, 10], [4, 4, 11], [4, 5, 0], [4, 5, 1], [4, 5, 3], [4, 5, 4], [4, 5, 5], [4, 5, 6], [4, 5, 7], [4, 5, 8], [4, 5, 9], [4, 5, 10], [4, 5, 11], [4, 6, 0], [4, 6, 2], [4, 6, 3], [4, 6, 4], [4, 6, 5], [4, 6, 6], [4, 6, 7], [4, 6, 8], [4, 6, 9], [4, 6, 10], [4, 6, 11], [4, 7, 1], [4, 7, 2], [4, 7, 3], [4, 7, 4], [4, 7, 5], [4, 7, 6], [4, 7, 7], [4, 7, 8], [4, 7, 9], [4, 7, 10], [4, 7, 11], [4, 8, 0], [4, 8, 1], [4, 8, 2], [4, 8, 3], [4, 8, 4], [4, 8, 5], [4, 8, 6], [4, 8, 7], [4, 8, 8], [4, 8, 9], [4, 8, 10], [4, 8, 11], [4, 9, 0], [4, 9, 1], [4, 9, 2], [4, 9, 3], [4, 9, 4], [4, 9, 5], [4, 9, 6], [4, 9, 7], [4, 9, 8], [4, 9, 9], [4, 9, 10], [4, 9, 11], [4, 10, 0], [4, 10, 1], [4, 10, 2], [4, 10, 3], [4, 10, 4], [4, 10, 5], [4, 10, 6], [4, 10, 7], [4, 10, 8], [4, 10, 9], [4, 10, 10], [4, 10, 11], [4, 11, 0], [4, 11, 1], [4, 11, 2], [4, 11, 3], [4, 11, 4], [4, 11, 5], [4, 11, 6], [4, 11, 7], [4, 11, 8], [4, 11, 9], [4, 11, 10], [4, 11, 11], [5, 0, 0], [5, 0, 1], [5, 0, 2], [5, 0, 3], [5, 0, 4], [5, 0, 5], [5, 0, 7], [5, 0, 8], [5, 0, 9], [5, 0, 10], [5, 0, 11], [5, 1, 0], [5, 1, 1], [5, 1, 2], [5, 1, 3], [5, 1, 4], [5, 1, 6], [5, 1, 7], [5, 1, 8], [5, 1, 9], [5, 1, 10], [5, 1, 11], [5, 2, 0], [5, 2, 1], [5, 2, 2], [5, 2, 3], [5, 2, 5], [5, 2, 6], [5, 2, 7], [5, 2, 8], [5, 2, 9], [5, 2, 10], [5, 2, 11], [5, 3, 0], [5, 3, 1], [5, 3, 2], [5, 3, 4], [5, 3, 5], [5, 3, 6], [5, 3, 7], [5, 3, 8], [5, 3, 9], [5, 3, 10], [5, 3, 11], [5, 4, 0], [5, 4, 1], [5, 4, 3], [5, 4, 4], [5, 4, 5], [5, 4, 6], [5, 4, 7], [5, 4, 8], [5, 4, 9], [5, 4, 10], [5, 4, 11], [5, 5, 0], [5, 5, 2], [5, 5, 3], [5, 5, 4], [5, 5, 5], [5, 5, 6], [5, 5, 7], [5, 5, 8], [5, 5, 9], [5, 5, 10], [5, 5, 11], [5, 6, 1], [5, 6, 2], [5, 6, 3], [5, 6, 4], [5, 6, 5], [5, 6, 6], [5, 6, 7], [5, 6, 8], [5, 6, 9], [5, 6, 10], [5, 6, 11], [5, 7, 0], [5, 7, 1], [5, 7, 2], [5, 7, 3], [5, 7, 4], [5, 7, 5], [5, 7, 6], [5, 7, 7], [5, 7, 8], [5, 7, 9], [5, 7, 10], [5, 7, 11], [5, 8, 0], [5, 8, 1], [5, 8, 2], [5, 8, 3], [5, 8, 4], [5, 8, 5], [5, 8, 6], [5, 8, 7], [5, 8, 8], [5, 8, 9], [5, 8, 10], [5, 8, 11], [5, 9, 0], [5, 9, 1], [5, 9, 2], [5, 9, 3], [5, 9, 4], [5, 9, 5], [5, 9, 6], [5, 9, 7], [5, 9, 8], [5, 9, 9], [5, 9, 10], [5, 9, 11], [5, 10, 0], [5, 10, 1], [5, 10, 2], [5, 10, 3], [5, 10, 4], [5, 10, 5], [5, 10, 6], [5, 10, 7], [5, 10, 8], [5, 10, 9], [5, 10, 10], [5, 10, 11], [5, 11, 0], [5, 11, 1], [5, 11, 2], [5, 11, 3], [5, 11, 4], [5, 11, 5], [5, 11, 6], [5, 11, 7], [5, 11, 8], [5, 11, 9], [5, 11, 10], [5, 11, 11], [6, 0, 0], [6, 0, 1], [6, 0, 2], [6, 0, 3], [6, 0, 4], [6, 0, 6], [6, 0, 7], [6, 0, 8], [6, 0, 9], [6, 0, 10], [6, 0, 11], [6, 1, 0], [6, 1, 1], [6, 1, 2], [6, 1, 3], [6, 1, 5], [6, 1, 6], [6, 1, 7], [6, 1, 8], [6, 1, 9], [6, 1, 10], [6, 1, 11], [6, 2, 0], [6, 2, 1], [6, 2, 2], [6, 2, 4], [6, 2, 5], [6, 2, 6], [6, 2, 7], [6, 2, 8], [6, 2, 9], [6, 2, 10], [6, 2, 11], [6, 3, 0], [6, 3, 1], [6, 3, 3], [6, 3, 4], [6, 3, 5], [6, 3, 6], [6, 3, 7], [6, 3, 8], [6, 3, 9], [6, 3, 10], [6, 3, 11], [6, 4, 0], [6, 4, 2], [6, 4, 3], [6, 4, 4], [6, 4, 5], [6, 4, 6], [6, 4, 7], [6, 4, 8], [6, 4, 9], [6, 4, 10], [6, 4, 11], [6, 5, 1], [6, 5, 2], [6, 5, 3], [6, 5, 4], [6, 5, 5], [6, 5, 6], [6, 5, 7], [6, 5, 8], [6, 5, 9], [6, 5, 10], [6, 5, 11], [6, 6, 0], [6, 6, 1], [6, 6, 2], [6, 6, 3], [6, 6, 4], [6, 6, 5], [6, 6, 6], [6, 6, 7], [6, 6, 8], [6, 6, 9], [6, 6, 10], [6, 6, 11], [6, 7, 0], [6, 7, 1], [6, 7, 2], [6, 7, 3], [6, 7, 4], [6, 7, 5], [6, 7, 6], [6, 7, 7], [6, 7, 8], [6, 7, 9], [6, 7, 10], [6, 7, 11], [6, 8, 0], [6, 8, 1], [6, 8, 2], [6, 8, 3], [6, 8, 4], [6, 8, 5], [6, 8, 6], [6, 8, 7], [6, 8, 8], [6, 8, 9], [6, 8, 10], [6, 8, 11], [6, 9, 0], [6, 9, 1], [6, 9, 2], [6, 9, 3], [6, 9, 4], [6, 9, 5], [6, 9, 6], [6, 9, 7], [6, 9, 8], [6, 9, 9], [6, 9, 10], [6, 9, 11], [6, 10, 0], [6, 10, 1], [6, 10, 2], [6, 10, 3], [6, 10, 4], [6, 10, 5], [6, 10, 6], [6, 10, 7], [6, 10, 8], [6, 10, 9], [6, 10, 10], [6, 10, 11], [6, 11, 0], [6, 11, 1], [6, 11, 2], [6, 11, 3], [6, 11, 4], [6, 11, 5], [6, 11, 6], [6, 11, 7], [6, 11, 8], [6, 11, 9], [6, 11, 10], [6, 11, 11], [7, 0, 0], [7, 0, 1], [7, 0, 2], [7, 0, 3], [7, 0, 5], [7, 0, 6], [7, 0, 7], [7, 0, 8], [7, 0, 9], [7, 0, 10], [7, 0, 11], [7, 1, 0], [7, 1, 1], [7, 1, 2], [7, 1, 4], [7, 1, 5], [7, 1, 6], [7, 1, 7], [7, 1, 8], [7, 1, 9], [7, 1, 10], [7, 1, 11], [7, 2, 0], [7, 2, 1], [7, 2, 3], [7, 2, 4], [7, 2, 5], [7, 2, 6], [7, 2, 7], [7, 2, 8], [7, 2, 9], [7, 2, 10], [7, 2, 11], [7, 3, 0], [7, 3, 2], [7, 3, 3], [7, 3, 4], [7, 3, 5], [7, 3, 6], [7, 3, 7], [7, 3, 8], [7, 3, 9], [7, 3, 10], [7, 3, 11], [7, 4, 1], [7, 4, 2], [7, 4, 3], [7, 4, 4], [7, 4, 5], [7, 4, 6], [7, 4, 7], [7, 4, 8], [7, 4, 9], [7, 4, 10], [7, 4, 11], [7, 5, 0], [7, 5, 1], [7, 5, 2], [7, 5, 3], [7, 5, 4], [7, 5, 5], [7, 5, 6], [7, 5, 7], [7, 5, 8], [7, 5, 9], [7, 5, 10], [7, 5, 11], [7, 6, 0], [7, 6, 1], [7, 6, 2], [7, 6, 3], [7, 6, 4], [7, 6, 5], [7, 6, 6], [7, 6, 7], [7, 6, 8], [7, 6, 9], [7, 6, 10], [7, 6, 11], [7, 7, 0], [7, 7, 1], [7, 7, 2], [7, 7, 3], [7, 7, 4], [7, 7, 5], [7, 7, 6], [7, 7, 7], [7, 7, 8], [7, 7, 9], [7, 7, 10], [7, 7, 11], [7, 8, 0], [7, 8, 1], [7, 8, 2], [7, 8, 3], [7, 8, 4], [7, 8, 5], [7, 8, 6], [7, 8, 7], [7, 8, 8], [7, 8, 9], [7, 8, 10], [7, 8, 11], [7, 9, 0], [7, 9, 1], [7, 9, 2], [7, 9, 3], [7, 9, 4], [7, 9, 5], [7, 9, 6], [7, 9, 7], [7, 9, 8], [7, 9, 9], [7, 9, 10], [7, 9, 11], [7, 10, 0], [7, 10, 1], [7, 10, 2], [7, 10, 3], [7, 10, 4], [7, 10, 5], [7, 10, 6], [7, 10, 7], [7, 10, 8], [7, 10, 9], [7, 10, 10], [7, 10, 11], [7, 11, 0], [7, 11, 1], [7, 11, 2], [7, 11, 3], [7, 11, 4], [7, 11, 5], [7, 11, 6], [7, 11, 7], [7, 11, 8], [7, 11, 9], [7, 11, 10], [7, 11, 11], [8, 0, 0], [8, 0, 1], [8, 0, 2], [8, 0, 4], [8, 0, 5], [8, 0, 6], [8, 0, 7], [8, 0, 8], [8, 0, 9], [8, 0, 10], [8, 0, 11], [8, 1, 0], [8, 1, 1], [8, 1, 3], [8, 1, 4], [8, 1, 5], [8, 1, 6], [8, 1, 7], [8, 1, 8], [8, 1, 9], [8, 1, 10], [8, 1, 11], [8, 2, 0], [8, 2, 2], [8, 2, 3], [8, 2, 4], [8, 2, 5], [8, 2, 6], [8, 2, 7], [8, 2, 8], [8, 2, 9], [8, 2, 10], [8, 2, 11], [8, 3, 1], [8, 3, 2], [8, 3, 3], [8, 3, 4], [8, 3, 5], [8, 3, 6], [8, 3, 7], [8, 3, 8], [8, 3, 9], [8, 3, 10], [8, 3, 11], [8, 4, 0], [8, 4, 1], [8, 4, 2], [8, 4, 3], [8, 4, 4], [8, 4, 5], [8, 4, 6], [8, 4, 7], [8, 4, 8], [8, 4, 9], [8, 4, 10], [8, 4, 11], [8, 5, 0], [8, 5, 1], [8, 5, 2], [8, 5, 3], [8, 5, 4], [8, 5, 5], [8, 5, 6], [8, 5, 7], [8, 5, 8], [8, 5, 9], [8, 5, 10], [8, 5, 11], [8, 6, 0], [8, 6, 1], [8, 6, 2], [8, 6, 3], [8, 6, 4], [8, 6, 5], [8, 6, 6], [8, 6, 7], [8, 6, 8], [8, 6, 9], [8, 6, 10], [8, 6, 11], [8, 7, 0], [8, 7, 1], [8, 7, 2], [8, 7, 3], [8, 7, 4], [8, 7, 5], [8, 7, 6], [8, 7, 7], [8, 7, 8], [8, 7, 9], [8, 7, 10], [8, 7, 11], [8, 8, 0], [8, 8, 1], [8, 8, 2], [8, 8, 3], [8, 8, 4], [8, 8, 5], [8, 8, 6], [8, 8, 7], [8, 8, 8], [8, 8, 9], [8, 8, 10], [8, 8, 11], [8, 9, 0], [8, 9, 1], [8, 9, 2], [8, 9, 3], [8, 9, 4], [8, 9, 5], [8, 9, 6], [8, 9, 7], [8, 9, 8], [8, 9, 9], [8, 9, 10], [8, 9, 11], [8, 10, 0], [8, 10, 1], [8, 10, 2], [8, 10, 3], [8, 10, 4], [8, 10, 5], [8, 10, 6], [8, 10, 7], [8, 10, 8], [8, 10, 9], [8, 10, 10], [8, 10, 11], [8, 11, 0], [8, 11, 1], [8, 11, 2], [8, 11, 3], [8, 11, 4], [8, 11, 5], [8, 11, 6], [8, 11, 7], [8, 11, 8], [8, 11, 9], [8, 11, 10], [8, 11, 11], [9, 0, 0], [9, 0, 1], [9, 0, 3], [9, 0, 4], [9, 0, 5], [9, 0, 6], [9, 0, 7], [9, 0, 8], [9, 0, 9], [9, 0, 10], [9, 0, 11], [9, 1, 0], [9, 1, 2], [9, 1, 3], [9, 1, 4], [9, 1, 5], [9, 1, 6], [9, 1, 7], [9, 1, 8], [9, 1, 9], [9, 1, 10], [9, 1, 11], [9, 2, 1], [9, 2, 2], [9, 2, 3], [9, 2, 4], [9, 2, 5], [9, 2, 6], [9, 2, 7], [9, 2, 8], [9, 2, 9], [9, 2, 10], [9, 2, 11], [9, 3, 0], [9, 3, 1], [9, 3, 2], [9, 3, 3], [9, 3, 4], [9, 3, 5], [9, 3, 6], [9, 3, 7], [9, 3, 8], [9, 3, 9], [9, 3, 10], [9, 3, 11], [9, 4, 0], [9, 4, 1], [9, 4, 2], [9, 4, 3], [9, 4, 4], [9, 4, 5], [9, 4, 6], [9, 4, 7], [9, 4, 8], [9, 4, 9], [9, 4, 10], [9, 4, 11], [9, 5, 0], [9, 5, 1], [9, 5, 2], [9, 5, 3], [9, 5, 4], [9, 5, 5], [9, 5, 6], [9, 5, 7], [9, 5, 8], [9, 5, 9], [9, 5, 10], [9, 5, 11], [9, 6, 0], [9, 6, 1], [9, 6, 2], [9, 6, 3], [9, 6, 4], [9, 6, 5], [9, 6, 6], [9, 6, 7], [9, 6, 8], [9, 6, 9], [9, 6, 10], [9, 6, 11], [9, 7, 0], [9, 7, 1], [9, 7, 2], [9, 7, 3], [9, 7, 4], [9, 7, 5], [9, 7, 6], [9, 7, 7], [9, 7, 8], [9, 7, 9], [9, 7, 10], [9, 7, 11], [9, 8, 0], [9, 8, 1], [9, 8, 2], [9, 8, 3], [9, 8, 4], [9, 8, 5], [9, 8, 6], [9, 8, 7], [9, 8, 8], [9, 8, 9], [9, 8, 10], [9, 8, 11], [9, 9, 0], [9, 9, 1], [9, 9, 2], [9, 9, 3], [9, 9, 4], [9, 9, 5], [9, 9, 6], [9, 9, 7], [9, 9, 8], [9, 9, 9], [9, 9, 10], [9, 9, 11], [9, 10, 0], [9, 10, 1], [9, 10, 2], [9, 10, 3], [9, 10, 4], [9, 10, 5], [9, 10, 6], [9, 10, 7], [9, 10, 8], [9, 10, 9], [9, 10, 10], [9, 10, 11], [9, 11, 0], [9, 11, 1], [9, 11, 2], [9, 11, 3], [9, 11, 4], [9, 11, 5], [9, 11, 6], [9, 11, 7], [9, 11, 8], [9, 11, 9], [9, 11, 10], [9, 11, 11], [10, 0, 0], [10, 0, 2], [10, 0, 3], [10, 0, 4], [10, 0, 5], [10, 0, 6], [10, 0, 7], [10, 0, 8], [10, 0, 9], [10, 0, 10], [10, 0, 11], [10, 1, 1], [10, 1, 2], [10, 1, 3], [10, 1, 4], [10, 1, 5], [10, 1, 6], [10, 1, 7], [10, 1, 8], [10, 1, 9], [10, 1, 10], [10, 1, 11], [10, 2, 0], [10, 2, 1], [10, 2, 2], [10, 2, 3], [10, 2, 4], [10, 2, 5], [10, 2, 6], [10, 2, 7], [10, 2, 8], [10, 2, 9], [10, 2, 10], [10, 2, 11], [10, 3, 0], [10, 3, 1], [10, 3, 2], [10, 3, 3], [10, 3, 4], [10, 3, 5], [10, 3, 6], [10, 3, 7], [10, 3, 8], [10, 3, 9], [10, 3, 10], [10, 3, 11], [10, 4, 0], [10, 4, 1], [10, 4, 2], [10, 4, 3], [10, 4, 4], [10, 4, 5], [10, 4, 6], [10, 4, 7], [10, 4, 8], [10, 4, 9], [10, 4, 10], [10, 4, 11], [10, 5, 0], [10, 5, 1], [10, 5, 2], [10, 5, 3], [10, 5, 4], [10, 5, 5], [10, 5, 6], [10, 5, 7], [10, 5, 8], [10, 5, 9], [10, 5, 10], [10, 5, 11], [10, 6, 0], [10, 6, 1], [10, 6, 2], [10, 6, 3], [10, 6, 4], [10, 6, 5], [10, 6, 6], [10, 6, 7], [10, 6, 8], [10, 6, 9], [10, 6, 10], [10, 6, 11], [10, 7, 0], [10, 7, 1], [10, 7, 2], [10, 7, 3], [10, 7, 4], [10, 7, 5], [10, 7, 6], [10, 7, 7], [10, 7, 8], [10, 7, 9], [10, 7, 10], [10, 7, 11], [10, 8, 0], [10, 8, 1], [10, 8, 2], [10, 8, 3], [10, 8, 4], [10, 8, 5], [10, 8, 6], [10, 8, 7], [10, 8, 8], [10, 8, 9], [10, 8, 10], [10, 8, 11], [10, 9, 0], [10, 9, 1], [10, 9, 2], [10, 9, 3], [10, 9, 4], [10, 9, 5], [10, 9, 6], [10, 9, 7], [10, 9, 8], [10, 9, 9], [10, 9, 10], [10, 9, 11], [10, 10, 0], [10, 10, 1], [10, 10, 2], [10, 10, 3], [10, 10, 4], [10, 10, 5], [10, 10, 6], [10, 10, 7], [10, 10, 8], [10, 10, 9], [10, 10, 10], [10, 10, 11], [10, 11, 0], [10, 11, 1], [10, 11, 2], [10, 11, 3], [10, 11, 4], [10, 11, 5], [10, 11, 6], [10, 11, 7], [10, 11, 8], [10, 11, 9], [10, 11, 10], [10, 11, 11], [11, 0, 1], [11, 0, 2], [11, 0, 3], [11, 0, 4], [11, 0, 5], [11, 0, 6], [11, 0, 7], [11, 0, 8], [11, 0, 9], [11, 0, 10], [11, 0, 11], [11, 1, 0], [11, 1, 1], [11, 1, 2], [11, 1, 3], [11, 1, 4], [11, 1, 5], [11, 1, 6], [11, 1, 7], [11, 1, 8], [11, 1, 9], [11, 1, 10], [11, 1, 11], [11, 2, 0], [11, 2, 1], [11, 2, 2], [11, 2, 3], [11, 2, 4], [11, 2, 5], [11, 2, 6], [11, 2, 7], [11, 2, 8], [11, 2, 9], [11, 2, 10], [11, 2, 11], [11, 3, 0], [11, 3, 1], [11, 3, 2], [11, 3, 3], [11, 3, 4], [11, 3, 5], [11, 3, 6], [11, 3, 7], [11, 3, 8], [11, 3, 9], [11, 3, 10], [11, 3, 11], [11, 4, 0], [11, 4, 1], [11, 4, 2], [11, 4, 3], [11, 4, 4], [11, 4, 5], [11, 4, 6], [11, 4, 7], [11, 4, 8], [11, 4, 9], [11, 4, 10], [11, 4, 11], [11, 5, 0], [11, 5, 1], [11, 5, 2], [11, 5, 3], [11, 5, 4], [11, 5, 5], [11, 5, 6], [11, 5, 7], [11, 5, 8], [11, 5, 9], [11, 5, 10], [11, 5, 11], [11, 6, 0], [11, 6, 1], [11, 6, 2], [11, 6, 3], [11, 6, 4], [11, 6, 5], [11, 6, 6], [11, 6, 7], [11, 6, 8], [11, 6, 9], [11, 6, 10], [11, 6, 11], [11, 7, 0], [11, 7, 1], [11, 7, 2], [11, 7, 3], [11, 7, 4], [11, 7, 5], [11, 7, 6], [11, 7, 7], [11, 7, 8], [11, 7, 9], [11, 7, 10], [11, 7, 11], [11, 8, 0], [11, 8, 1], [11, 8, 2], [11, 8, 3], [11, 8, 4], [11, 8, 5], [11, 8, 6], [11, 8, 7], [11, 8, 8], [11, 8, 9], [11, 8, 10], [11, 8, 11], [11, 9, 0], [11, 9, 1], [11, 9, 2], [11, 9, 3], [11, 9, 4], [11, 9, 5], [11, 9, 6], [11, 9, 7], [11, 9, 8], [11, 9, 9], [11, 9, 10], [11, 9, 11], [11, 10, 0], [11, 10, 1], [11, 10, 2], [11, 10, 3], [11, 10, 4], [11, 10, 5], [11, 10, 6], [11, 10, 7], [11, 10, 8], [11, 10, 9], [11, 10, 10], [11, 10, 11], [11, 11, 0], [11, 11, 1], [11, 11, 2], [11, 11, 3], [11, 11, 4], [11, 11, 5], [11, 11, 6], [11, 11, 7], [11, 11, 8], [11, 11, 9], [11, 11, 10], [11, 11, 11]]\n"
     ]
    }
   ],
   "source": [
    "  x, y, z, n = (int(input().strip()) for _ in range(4))\n",
    "    \n",
    "arr_of_n = [[i,j,k] \n",
    "                for i in range(x+1)\n",
    "                for j in range(y+1) \n",
    "                for k in range(z+1) \n",
    "                if i+j+k!=n]\n",
    "print(arr_of_n)"
   ]
  },
  {
   "cell_type": "code",
   "execution_count": 12,
   "id": "90a3a6be",
   "metadata": {},
   "outputs": [
    {
     "name": "stdout",
     "output_type": "stream",
     "text": [
      "1\n",
      "1\n",
      "1\n",
      "1\n",
      "1\n",
      "[[0, 0, 0, 0], [0, 0, 1, 1], [0, 1, 0, 1], [0, 1, 1, 0], [0, 1, 1, 1], [1, 0, 0, 1], [1, 0, 1, 0], [1, 0, 1, 1], [1, 1, 0, 0], [1, 1, 0, 1], [1, 1, 1, 0], [1, 1, 1, 1]]\n"
     ]
    }
   ],
   "source": [
    "x, y, z,m, n = (int(input().strip()) for _ in range(5))\n",
    "\n",
    "arr_of_n = [\n",
    "    [i, j, k,s]\n",
    "    for i in range(x + 1)\n",
    "    for j in range(y + 1)\n",
    "    for k in range(z + 1)\n",
    "    for s in range(m + 1)\n",
    "    \n",
    "    \n",
    "    if i + j + k + s!= n\n",
    "]\n",
    "\n",
    "print(arr_of_n)\n"
   ]
  },
  {
   "cell_type": "code",
   "execution_count": 10,
   "id": "04dd12e5",
   "metadata": {},
   "outputs": [
    {
     "name": "stdout",
     "output_type": "stream",
     "text": [
      "5\n",
      "insert 0 1\n",
      "insert 1 2\n",
      "insert 0 3\n",
      "print\n",
      "[3, 1, 2]\n",
      "sort\n"
     ]
    }
   ],
   "source": [
    "if __name__ == '__main__':\n",
    "\n",
    "    N = int(input())\n",
    "\n",
    "    List=[];\n",
    "    for i in range(N):\n",
    "\n",
    "        command=input().split();\n",
    "\n",
    "        if command[0] == \"insert\":\n",
    "\n",
    "            List.insert(int(command[1]),int(command[2]))\n",
    "\n",
    "        elif command[0] == \"append\":\n",
    "\n",
    "            List.append(int(command[1]))\n",
    "\n",
    "        elif command[0] == \"pop\":\n",
    "\n",
    "            List.pop();\n",
    "\n",
    "        elif command[0] == \"print\":\n",
    "\n",
    "            print(List)\n",
    "\n",
    "        elif command[0] == \"remove\":\n",
    "\n",
    "            List.remove(int(command[1]))\n",
    "\n",
    "        elif command[0] == \"sort\":\n",
    "\n",
    "            List.sort();\n",
    "\n",
    "        else:\n",
    "\n",
    "            List.reverse();"
   ]
  },
  {
   "cell_type": "markdown",
   "id": "85375e6a",
   "metadata": {},
   "source": [
    "# GENERATORS"
   ]
  },
  {
   "cell_type": "code",
   "execution_count": 12,
   "id": "c1b41fb0",
   "metadata": {},
   "outputs": [
    {
     "name": "stdout",
     "output_type": "stream",
     "text": [
      "[0, 1, 2, 3, 4, 5, 6, 7, 8, 9, 10, 11, 12, 13, 14, 15, 16, 17, 18, 19, 20, 21, 22, 23, 24, 25, 26, 27, 28, 29, 30, 31, 32, 33, 34, 35, 36, 37, 38, 39, 40, 41, 42, 43, 44, 45, 46, 47, 48, 49, 50, 51, 52, 53, 54, 55, 56, 57, 58, 59, 60, 61, 62, 63, 64, 65, 66, 67, 68, 69, 70, 71, 72, 73, 74, 75, 76, 77, 78, 79, 80, 81, 82, 83, 84, 85, 86, 87, 88, 89, 90, 91, 92, 93, 94, 95, 96, 97, 98, 99]\n"
     ]
    }
   ],
   "source": [
    " def make_list(num):\n",
    "        result = []\n",
    "        for i in range(num):\n",
    "            result.append(i)\n",
    "        return result\n",
    "        \n",
    "my_list = make_list(100)\n",
    "print(my_list)"
   ]
  },
  {
   "cell_type": "code",
   "execution_count": 6,
   "id": "a93aa6df",
   "metadata": {},
   "outputs": [
    {
     "name": "stdout",
     "output_type": "stream",
     "text": [
      "<generator object generators_function at 0x000001E62039A260>\n"
     ]
    },
    {
     "data": {
      "text/plain": [
       "2"
      ]
     },
     "execution_count": 6,
     "metadata": {},
     "output_type": "execute_result"
    }
   ],
   "source": [
    "def generators_function(num):\n",
    "    for i in range (num):\n",
    "        yield i*2\n",
    "        \n",
    "g  = generators_function(10)\n",
    "print(g)\n",
    "next(g)\n",
    "next(g)\n",
    "\n",
    "        \n",
    "#for item in generators_function(1000):\n",
    "   #print(item)"
   ]
  },
  {
   "cell_type": "markdown",
   "id": "0ef0ae57",
   "metadata": {},
   "source": [
    " # Generators performance\n"
   ]
  },
  {
   "cell_type": "code",
   "execution_count": 18,
   "id": "5ab3eb60",
   "metadata": {},
   "outputs": [],
   "source": [
    "from time import time "
   ]
  },
  {
   "cell_type": "code",
   "execution_count": 22,
   "id": "dc3a535c",
   "metadata": {},
   "outputs": [
    {
     "name": "stdout",
     "output_type": "stream",
     "text": [
      "1\n",
      "Time taken: 1.035961389541626 seconds\n",
      "2\n",
      "Time taken: 1.4233155250549316 seconds\n"
     ]
    }
   ],
   "source": [
    "def performance(fn):\n",
    "    def wrapper():\n",
    "        import time\n",
    "        start = time.time()\n",
    "        fn()\n",
    "        end = time.time()\n",
    "        print(f\"Time taken: {end - start} seconds\")\n",
    "    return wrapper\n",
    "\n",
    "@performance\n",
    "def lomg_time():\n",
    "    print('1')\n",
    "    for i in range(10000000):\n",
    "        i*5\n",
    "\n",
    "@performance\n",
    "def lomg_time2():\n",
    "    print('2')\n",
    "    for i in list(range(10000000)):\n",
    "        i*5\n",
    "\n",
    "lomg_time()\n",
    "lomg_time2()\n"
   ]
  },
  {
   "cell_type": "markdown",
   "id": "a59d717d",
   "metadata": {},
   "source": [
    "# under the hood of generators"
   ]
  },
  {
   "cell_type": "code",
   "execution_count": null,
   "id": "d7aeae46",
   "metadata": {},
   "outputs": [],
   "source": []
  }
 ],
 "metadata": {
  "kernelspec": {
   "display_name": "Python 3 (ipykernel)",
   "language": "python",
   "name": "python3"
  },
  "language_info": {
   "codemirror_mode": {
    "name": "ipython",
    "version": 3
   },
   "file_extension": ".py",
   "mimetype": "text/x-python",
   "name": "python",
   "nbconvert_exporter": "python",
   "pygments_lexer": "ipython3",
   "version": "3.11.2"
  }
 },
 "nbformat": 4,
 "nbformat_minor": 5
}
