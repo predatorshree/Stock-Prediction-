{
 "cells": [
  {
   "cell_type": "code",
   "execution_count": 43,
   "id": "112bf5e0",
   "metadata": {},
   "outputs": [],
   "source": [
    "import numpy as np\n",
    "import pandas as pd \n",
    "import matplotlib.pyplot as plt\n",
    "import pandas_datareader as st\n",
    "import yfinance as yf\n",
    "\n"
   ]
  },
  {
   "cell_type": "code",
   "execution_count": 44,
   "id": "5f1b863f",
   "metadata": {},
   "outputs": [
    {
     "name": "stdout",
     "output_type": "stream",
     "text": [
      "[*********************100%%**********************]  1 of 1 completed\n",
      "                    Open          High           Low         Close  \\\n",
      "Date                                                                 \n",
      "2010-01-04  17473.449219  17582.839844  17378.380859  17558.730469   \n",
      "2010-01-05  17555.769531  17729.779297  17555.769531  17686.240234   \n",
      "2010-01-06  17719.470703  17790.330078  17636.710938  17701.130859   \n",
      "2010-01-07  17701.970703  17733.339844  17566.539062  17615.720703   \n",
      "2010-01-08  17603.869141  17658.119141  17508.960938  17540.289062   \n",
      "\n",
      "               Adj Close  Volume  \n",
      "Date                              \n",
      "2010-01-04  17558.730469   28200  \n",
      "2010-01-05  17686.240234   27000  \n",
      "2010-01-06  17701.130859   21400  \n",
      "2010-01-07  17615.720703   18000  \n",
      "2010-01-08  17540.289062   17200  \n"
     ]
    }
   ],
   "source": [
    "start = '2010-01-01' #yyyy-mm-dd  \n",
    "end = '2023-11-09'   #yyyy-mm-dd\n",
    "\n",
    "\n",
    "df = yf.download('^BSESN', start=start, end=end)\n",
    "print(df.head())"
   ]
  },
  {
   "cell_type": "code",
   "execution_count": 45,
   "id": "5e3ed1b0",
   "metadata": {},
   "outputs": [
    {
     "data": {
      "text/html": [
       "<div>\n",
       "<style scoped>\n",
       "    .dataframe tbody tr th:only-of-type {\n",
       "        vertical-align: middle;\n",
       "    }\n",
       "\n",
       "    .dataframe tbody tr th {\n",
       "        vertical-align: top;\n",
       "    }\n",
       "\n",
       "    .dataframe thead th {\n",
       "        text-align: right;\n",
       "    }\n",
       "</style>\n",
       "<table border=\"1\" class=\"dataframe\">\n",
       "  <thead>\n",
       "    <tr style=\"text-align: right;\">\n",
       "      <th></th>\n",
       "      <th>Date</th>\n",
       "      <th>Open</th>\n",
       "      <th>High</th>\n",
       "      <th>Low</th>\n",
       "      <th>Close</th>\n",
       "      <th>Adj Close</th>\n",
       "      <th>Volume</th>\n",
       "    </tr>\n",
       "  </thead>\n",
       "  <tbody>\n",
       "    <tr>\n",
       "      <th>0</th>\n",
       "      <td>2010-01-04</td>\n",
       "      <td>17473.449219</td>\n",
       "      <td>17582.839844</td>\n",
       "      <td>17378.380859</td>\n",
       "      <td>17558.730469</td>\n",
       "      <td>17558.730469</td>\n",
       "      <td>28200</td>\n",
       "    </tr>\n",
       "    <tr>\n",
       "      <th>1</th>\n",
       "      <td>2010-01-05</td>\n",
       "      <td>17555.769531</td>\n",
       "      <td>17729.779297</td>\n",
       "      <td>17555.769531</td>\n",
       "      <td>17686.240234</td>\n",
       "      <td>17686.240234</td>\n",
       "      <td>27000</td>\n",
       "    </tr>\n",
       "    <tr>\n",
       "      <th>2</th>\n",
       "      <td>2010-01-06</td>\n",
       "      <td>17719.470703</td>\n",
       "      <td>17790.330078</td>\n",
       "      <td>17636.710938</td>\n",
       "      <td>17701.130859</td>\n",
       "      <td>17701.130859</td>\n",
       "      <td>21400</td>\n",
       "    </tr>\n",
       "    <tr>\n",
       "      <th>3</th>\n",
       "      <td>2010-01-07</td>\n",
       "      <td>17701.970703</td>\n",
       "      <td>17733.339844</td>\n",
       "      <td>17566.539062</td>\n",
       "      <td>17615.720703</td>\n",
       "      <td>17615.720703</td>\n",
       "      <td>18000</td>\n",
       "    </tr>\n",
       "    <tr>\n",
       "      <th>4</th>\n",
       "      <td>2010-01-08</td>\n",
       "      <td>17603.869141</td>\n",
       "      <td>17658.119141</td>\n",
       "      <td>17508.960938</td>\n",
       "      <td>17540.289062</td>\n",
       "      <td>17540.289062</td>\n",
       "      <td>17200</td>\n",
       "    </tr>\n",
       "  </tbody>\n",
       "</table>\n",
       "</div>"
      ],
      "text/plain": [
       "        Date          Open          High           Low         Close  \\\n",
       "0 2010-01-04  17473.449219  17582.839844  17378.380859  17558.730469   \n",
       "1 2010-01-05  17555.769531  17729.779297  17555.769531  17686.240234   \n",
       "2 2010-01-06  17719.470703  17790.330078  17636.710938  17701.130859   \n",
       "3 2010-01-07  17701.970703  17733.339844  17566.539062  17615.720703   \n",
       "4 2010-01-08  17603.869141  17658.119141  17508.960938  17540.289062   \n",
       "\n",
       "      Adj Close  Volume  \n",
       "0  17558.730469   28200  \n",
       "1  17686.240234   27000  \n",
       "2  17701.130859   21400  \n",
       "3  17615.720703   18000  \n",
       "4  17540.289062   17200  "
      ]
     },
     "execution_count": 45,
     "metadata": {},
     "output_type": "execute_result"
    }
   ],
   "source": [
    "df = df.reset_index()\n",
    "df.head()\n"
   ]
  },
  {
   "cell_type": "code",
   "execution_count": 46,
   "id": "7ea0cc63",
   "metadata": {},
   "outputs": [
    {
     "data": {
      "text/html": [
       "<div>\n",
       "<style scoped>\n",
       "    .dataframe tbody tr th:only-of-type {\n",
       "        vertical-align: middle;\n",
       "    }\n",
       "\n",
       "    .dataframe tbody tr th {\n",
       "        vertical-align: top;\n",
       "    }\n",
       "\n",
       "    .dataframe thead th {\n",
       "        text-align: right;\n",
       "    }\n",
       "</style>\n",
       "<table border=\"1\" class=\"dataframe\">\n",
       "  <thead>\n",
       "    <tr style=\"text-align: right;\">\n",
       "      <th></th>\n",
       "      <th>Open</th>\n",
       "      <th>High</th>\n",
       "      <th>Low</th>\n",
       "      <th>Close</th>\n",
       "      <th>Volume</th>\n",
       "    </tr>\n",
       "  </thead>\n",
       "  <tbody>\n",
       "    <tr>\n",
       "      <th>0</th>\n",
       "      <td>17473.449219</td>\n",
       "      <td>17582.839844</td>\n",
       "      <td>17378.380859</td>\n",
       "      <td>17558.730469</td>\n",
       "      <td>28200</td>\n",
       "    </tr>\n",
       "    <tr>\n",
       "      <th>1</th>\n",
       "      <td>17555.769531</td>\n",
       "      <td>17729.779297</td>\n",
       "      <td>17555.769531</td>\n",
       "      <td>17686.240234</td>\n",
       "      <td>27000</td>\n",
       "    </tr>\n",
       "    <tr>\n",
       "      <th>2</th>\n",
       "      <td>17719.470703</td>\n",
       "      <td>17790.330078</td>\n",
       "      <td>17636.710938</td>\n",
       "      <td>17701.130859</td>\n",
       "      <td>21400</td>\n",
       "    </tr>\n",
       "    <tr>\n",
       "      <th>3</th>\n",
       "      <td>17701.970703</td>\n",
       "      <td>17733.339844</td>\n",
       "      <td>17566.539062</td>\n",
       "      <td>17615.720703</td>\n",
       "      <td>18000</td>\n",
       "    </tr>\n",
       "    <tr>\n",
       "      <th>4</th>\n",
       "      <td>17603.869141</td>\n",
       "      <td>17658.119141</td>\n",
       "      <td>17508.960938</td>\n",
       "      <td>17540.289062</td>\n",
       "      <td>17200</td>\n",
       "    </tr>\n",
       "  </tbody>\n",
       "</table>\n",
       "</div>"
      ],
      "text/plain": [
       "           Open          High           Low         Close  Volume\n",
       "0  17473.449219  17582.839844  17378.380859  17558.730469   28200\n",
       "1  17555.769531  17729.779297  17555.769531  17686.240234   27000\n",
       "2  17719.470703  17790.330078  17636.710938  17701.130859   21400\n",
       "3  17701.970703  17733.339844  17566.539062  17615.720703   18000\n",
       "4  17603.869141  17658.119141  17508.960938  17540.289062   17200"
      ]
     },
     "execution_count": 46,
     "metadata": {},
     "output_type": "execute_result"
    }
   ],
   "source": [
    "df = df.drop(['Date','Adj Close'],axis = 1)\n",
    "df.head()"
   ]
  },
  {
   "cell_type": "code",
   "execution_count": 47,
   "id": "0720fcbd",
   "metadata": {},
   "outputs": [
    {
     "data": {
      "text/plain": [
       "[<matplotlib.lines.Line2D at 0x2d38defa650>]"
      ]
     },
     "execution_count": 47,
     "metadata": {},
     "output_type": "execute_result"
    },
    {
     "data": {
      "image/png": "[encoded data removed]",
      "text/plain": [
       "<Figure size 640x480 with 1 Axes>"
      ]
     },
     "metadata": {},
     "output_type": "display_data"
    }
   ],
   "source": [
    "plt.plot(df.Close)"
   ]
  },
  {
   "cell_type": "code",
   "execution_count": 48,
   "id": "3fb75ce0",
   "metadata": {},
   "outputs": [
    {
     "data": {
      "text/html": [
       "<div>\n",
       "<style scoped>\n",
       "    .dataframe tbody tr th:only-of-type {\n",
       "        vertical-align: middle;\n",
       "    }\n",
       "\n",
       "    .dataframe tbody tr th {\n",
       "        vertical-align: top;\n",
       "    }\n",
       "\n",
       "    .dataframe thead th {\n",
       "        text-align: right;\n",
       "    }\n",
       "</style>\n",
       "<table border=\"1\" class=\"dataframe\">\n",
       "  <thead>\n",
       "    <tr style=\"text-align: right;\">\n",
       "      <th></th>\n",
       "      <th>Open</th>\n",
       "      <th>High</th>\n",
       "      <th>Low</th>\n",
       "      <th>Close</th>\n",
       "      <th>Volume</th>\n",
       "    </tr>\n",
       "  </thead>\n",
       "  <tbody>\n",
       "    <tr>\n",
       "      <th>0</th>\n",
       "      <td>17473.449219</td>\n",
       "      <td>17582.839844</td>\n",
       "      <td>17378.380859</td>\n",
       "      <td>17558.730469</td>\n",
       "      <td>28200</td>\n",
       "    </tr>\n",
       "    <tr>\n",
       "      <th>1</th>\n",
       "      <td>17555.769531</td>\n",
       "      <td>17729.779297</td>\n",
       "      <td>17555.769531</td>\n",
       "      <td>17686.240234</td>\n",
       "      <td>27000</td>\n",
       "    </tr>\n",
       "    <tr>\n",
       "      <th>2</th>\n",
       "      <td>17719.470703</td>\n",
       "      <td>17790.330078</td>\n",
       "      <td>17636.710938</td>\n",
       "      <td>17701.130859</td>\n",
       "      <td>21400</td>\n",
       "    </tr>\n",
       "    <tr>\n",
       "      <th>3</th>\n",
       "      <td>17701.970703</td>\n",
       "      <td>17733.339844</td>\n",
       "      <td>17566.539062</td>\n",
       "      <td>17615.720703</td>\n",
       "      <td>18000</td>\n",
       "    </tr>\n",
       "    <tr>\n",
       "      <th>4</th>\n",
       "      <td>17603.869141</td>\n",
       "      <td>17658.119141</td>\n",
       "      <td>17508.960938</td>\n",
       "      <td>17540.289062</td>\n",
       "      <td>17200</td>\n",
       "    </tr>\n",
       "    <tr>\n",
       "      <th>...</th>\n",
       "      <td>...</td>\n",
       "      <td>...</td>\n",
       "      <td>...</td>\n",
       "      <td>...</td>\n",
       "      <td>...</td>\n",
       "    </tr>\n",
       "    <tr>\n",
       "      <th>3402</th>\n",
       "      <td>64033.398438</td>\n",
       "      <td>64202.640625</td>\n",
       "      <td>63815.351562</td>\n",
       "      <td>64080.898438</td>\n",
       "      <td>6400</td>\n",
       "    </tr>\n",
       "    <tr>\n",
       "      <th>3403</th>\n",
       "      <td>64444.898438</td>\n",
       "      <td>64535.191406</td>\n",
       "      <td>64275.390625</td>\n",
       "      <td>64363.781250</td>\n",
       "      <td>16100</td>\n",
       "    </tr>\n",
       "    <tr>\n",
       "      <th>3404</th>\n",
       "      <td>64835.230469</td>\n",
       "      <td>64992.539062</td>\n",
       "      <td>64617.480469</td>\n",
       "      <td>64958.691406</td>\n",
       "      <td>8100</td>\n",
       "    </tr>\n",
       "    <tr>\n",
       "      <th>3405</th>\n",
       "      <td>65021.289062</td>\n",
       "      <td>65021.289062</td>\n",
       "      <td>64638.101562</td>\n",
       "      <td>64942.398438</td>\n",
       "      <td>7700</td>\n",
       "    </tr>\n",
       "    <tr>\n",
       "      <th>3406</th>\n",
       "      <td>65101.949219</td>\n",
       "      <td>65124.000000</td>\n",
       "      <td>64851.058594</td>\n",
       "      <td>64975.609375</td>\n",
       "      <td>6400</td>\n",
       "    </tr>\n",
       "  </tbody>\n",
       "</table>\n",
       "<p>3407 rows × 5 columns</p>\n",
       "</div>"
      ],
      "text/plain": [
       "              Open          High           Low         Close  Volume\n",
       "0     17473.449219  17582.839844  17378.380859  17558.730469   28200\n",
       "1     17555.769531  17729.779297  17555.769531  17686.240234   27000\n",
       "2     17719.470703  17790.330078  17636.710938  17701.130859   21400\n",
       "3     17701.970703  17733.339844  17566.539062  17615.720703   18000\n",
       "4     17603.869141  17658.119141  17508.960938  17540.289062   17200\n",
       "...            ...           ...           ...           ...     ...\n",
       "3402  64033.398438  64202.640625  63815.351562  64080.898438    6400\n",
       "3403  64444.898438  64535.191406  64275.390625  64363.781250   16100\n",
       "3404  64835.230469  64992.539062  64617.480469  64958.691406    8100\n",
       "3405  65021.289062  65021.289062  64638.101562  64942.398438    7700\n",
       "3406  65101.949219  65124.000000  64851.058594  64975.609375    6400\n",
       "\n",
       "[3407 rows x 5 columns]"
      ]
     },
     "execution_count": 48,
     "metadata": {},
     "output_type": "execute_result"
    }
   ],
   "source": [
    "df"
   ]
  },
  {
   "cell_type": "code",
   "execution_count": 49,
   "id": "ea5f648c",
   "metadata": {},
   "outputs": [
    {
     "data": {
      "text/plain": [
       "0                NaN\n",
       "1                NaN\n",
       "2                NaN\n",
       "3                NaN\n",
       "4                NaN\n",
       "            ...     \n",
       "3402    65392.525586\n",
       "3403    65409.907109\n",
       "3404    65432.246914\n",
       "3405    65450.239297\n",
       "3406    65467.710273\n",
       "Name: Close, Length: 3407, dtype: float64"
      ]
     },
     "execution_count": 49,
     "metadata": {},
     "output_type": "execute_result"
    }
   ],
   "source": [
    "ma100 = df.Close.rolling(100).mean()\n",
    "ma100 "
   ]
  },
  {
   "cell_type": "code",
   "execution_count": 50,
   "id": "c4929367",
   "metadata": {},
   "outputs": [
    {
     "data": {
      "text/plain": [
       "[<matplotlib.lines.Line2D at 0x2d38df7de10>]"
      ]
     },
     "execution_count": 50,
     "metadata": {},
     "output_type": "execute_result"
    },
    {
     "data": {
      "image/png": "[encoded data removed]",
      "text/plain": [
       "<Figure size 1200x600 with 1 Axes>"
      ]
     },
     "metadata": {},
     "output_type": "display_data"
    }
   ],
   "source": [
    "plt.figure(figsize = (12,6))\n",
    "plt.plot(df.Close)\n",
    "plt.plot(ma100,'r')"
   ]
  },
  {
   "cell_type": "code",
   "execution_count": 51,
   "id": "c0b419fd",
   "metadata": {},
   "outputs": [
    {
     "data": {
      "text/plain": [
       "0                NaN\n",
       "1                NaN\n",
       "2                NaN\n",
       "3                NaN\n",
       "4                NaN\n",
       "            ...     \n",
       "3402    62889.283789\n",
       "3403    62910.575195\n",
       "3404    62935.578496\n",
       "3405    62958.984590\n",
       "3406    62983.397793\n",
       "Name: Close, Length: 3407, dtype: float64"
      ]
     },
     "execution_count": 51,
     "metadata": {},
     "output_type": "execute_result"
    }
   ],
   "source": [
    "ma200 = df.Close.rolling(200).mean()\n",
    "ma200"
   ]
  },
  {
   "cell_type": "code",
   "execution_count": 52,
   "id": "a92145f7",
   "metadata": {},
   "outputs": [
    {
     "data": {
      "text/plain": [
       "[<matplotlib.lines.Line2D at 0x2d38dc2cbd0>]"
      ]
     },
     "execution_count": 52,
     "metadata": {},
     "output_type": "execute_result"
    },
    {
     "data": {
      "image/png": "[encoded data removed]",
      "text/plain": [
       "<Figure size 1200x600 with 1 Axes>"
      ]
     },
     "metadata": {},
     "output_type": "display_data"
    }
   ],
   "source": [
    "plt.figure(figsize = (12,6))\n",
    "plt.plot(df.Close)\n",
    "plt.plot(ma100,'r')\n",
    "plt.plot(ma200,'g')"
   ]
  },
  {
   "cell_type": "code",
   "execution_count": 53,
   "id": "72452734",
   "metadata": {},
   "outputs": [
    {
     "data": {
      "text/plain": [
       "(3407, 5)"
      ]
     },
     "execution_count": 53,
     "metadata": {},
     "output_type": "execute_result"
    }
   ],
   "source": [
    "df.shape"
   ]
  },
  {
   "cell_type": "code",
   "execution_count": 54,
   "id": "d4543fcd",
   "metadata": {},
   "outputs": [
    {
     "name": "stdout",
     "output_type": "stream",
     "text": [
      "(2384, 1)\n",
      "(1023, 1)\n"
     ]
    }
   ],
   "source": [
    " # spliting data into Training and Testing\n",
    "Data_training = pd.DataFrame(df['Close'][0:int(len(df)* 0.70)])\n",
    "Data_testing = pd.DataFrame(df['Close'][int(len(df)*0.70): int(len(df))])\n",
    "\n",
    "print(Data_training.shape)\n",
    "print(Data_testing.shape)"
   ]
  },
  {
   "cell_type": "code",
   "execution_count": 55,
   "id": "93e0629c",
   "metadata": {},
   "outputs": [
    {
     "data": {
      "text/html": [
       "<div>\n",
       "<style scoped>\n",
       "    .dataframe tbody tr th:only-of-type {\n",
       "        vertical-align: middle;\n",
       "    }\n",
       "\n",
       "    .dataframe tbody tr th {\n",
       "        vertical-align: top;\n",
       "    }\n",
       "\n",
       "    .dataframe thead th {\n",
       "        text-align: right;\n",
       "    }\n",
       "</style>\n",
       "<table border=\"1\" class=\"dataframe\">\n",
       "  <thead>\n",
       "    <tr style=\"text-align: right;\">\n",
       "      <th></th>\n",
       "      <th>Close</th>\n",
       "    </tr>\n",
       "  </thead>\n",
       "  <tbody>\n",
       "    <tr>\n",
       "      <th>0</th>\n",
       "      <td>17558.730469</td>\n",
       "    </tr>\n",
       "    <tr>\n",
       "      <th>1</th>\n",
       "      <td>17686.240234</td>\n",
       "    </tr>\n",
       "    <tr>\n",
       "      <th>2</th>\n",
       "      <td>17701.130859</td>\n",
       "    </tr>\n",
       "    <tr>\n",
       "      <th>3</th>\n",
       "      <td>17615.720703</td>\n",
       "    </tr>\n",
       "    <tr>\n",
       "      <th>4</th>\n",
       "      <td>17540.289062</td>\n",
       "    </tr>\n",
       "  </tbody>\n",
       "</table>\n",
       "</div>"
      ],
      "text/plain": [
       "          Close\n",
       "0  17558.730469\n",
       "1  17686.240234\n",
       "2  17701.130859\n",
       "3  17615.720703\n",
       "4  17540.289062"
      ]
     },
     "execution_count": 55,
     "metadata": {},
     "output_type": "execute_result"
    }
   ],
   "source": [
    "Data_training.head()"
   ]
  },
  {
   "cell_type": "code",
   "execution_count": 56,
   "id": "ade68f9b",
   "metadata": {},
   "outputs": [
    {
     "data": {
      "text/html": [
       "<div>\n",
       "<style scoped>\n",
       "    .dataframe tbody tr th:only-of-type {\n",
       "        vertical-align: middle;\n",
       "    }\n",
       "\n",
       "    .dataframe tbody tr th {\n",
       "        vertical-align: top;\n",
       "    }\n",
       "\n",
       "    .dataframe thead th {\n",
       "        text-align: right;\n",
       "    }\n",
       "</style>\n",
       "<table border=\"1\" class=\"dataframe\">\n",
       "  <thead>\n",
       "    <tr style=\"text-align: right;\">\n",
       "      <th></th>\n",
       "      <th>Close</th>\n",
       "    </tr>\n",
       "  </thead>\n",
       "  <tbody>\n",
       "    <tr>\n",
       "      <th>2384</th>\n",
       "      <td>36093.468750</td>\n",
       "    </tr>\n",
       "    <tr>\n",
       "      <th>2385</th>\n",
       "      <td>38014.621094</td>\n",
       "    </tr>\n",
       "    <tr>\n",
       "      <th>2386</th>\n",
       "      <td>39090.031250</td>\n",
       "    </tr>\n",
       "    <tr>\n",
       "      <th>2387</th>\n",
       "      <td>39097.140625</td>\n",
       "    </tr>\n",
       "    <tr>\n",
       "      <th>2388</th>\n",
       "      <td>38593.519531</td>\n",
       "    </tr>\n",
       "  </tbody>\n",
       "</table>\n",
       "</div>"
      ],
      "text/plain": [
       "             Close\n",
       "2384  36093.468750\n",
       "2385  38014.621094\n",
       "2386  39090.031250\n",
       "2387  39097.140625\n",
       "2388  38593.519531"
      ]
     },
     "execution_count": 56,
     "metadata": {},
     "output_type": "execute_result"
    }
   ],
   "source": [
    "Data_testing.head()"
   ]
  },
  {
   "cell_type": "code",
   "execution_count": 57,
   "id": "429e0e11",
   "metadata": {},
   "outputs": [],
   "source": [
    "from sklearn.preprocessing import MinMaxScaler\n",
    "scaler = MinMaxScaler(feature_range=(0,1))"
   ]
  },
  {
   "cell_type": "code",
   "execution_count": 58,
   "id": "bb22a5ad",
   "metadata": {},
   "outputs": [
    {
     "data": {
      "text/plain": [
       "array([[0.09499438],\n",
       "       [0.10007596],\n",
       "       [0.10066939],\n",
       "       ...,\n",
       "       [0.87469135],\n",
       "       [0.84909734],\n",
       "       [0.85239669]])"
      ]
     },
     "execution_count": 58,
     "metadata": {},
     "output_type": "execute_result"
    }
   ],
   "source": [
    "Data_training_array = scaler.fit_transform(Data_training)\n",
    "Data_training_array"
   ]
  },
  {
   "cell_type": "code",
   "execution_count": 59,
   "id": "d79a9504",
   "metadata": {},
   "outputs": [
    {
     "data": {
      "text/plain": [
       "(2384, 1)"
      ]
     },
     "execution_count": 59,
     "metadata": {},
     "output_type": "execute_result"
    }
   ],
   "source": [
    "Data_training_array.shape"
   ]
  },
  {
   "cell_type": "code",
   "execution_count": 60,
   "id": "8fe0a54e",
   "metadata": {},
   "outputs": [],
   "source": [
    "X_train = []\n",
    "y_train = []\n",
    "\n",
    "for i in range (100,Data_training_array.shape[0]):\n",
    "    X_train.append(Data_training_array[i-100:i])\n",
    "    y_train.append(Data_training_array[i,0])\n",
    "    \n",
    "    \n",
    "X_train,y_train = np.array(X_train), np.array(y_train)   "
   ]
  },
  {
   "cell_type": "code",
   "execution_count": 61,
   "id": "cb2c8e7c",
   "metadata": {},
   "outputs": [
    {
     "data": {
      "text/plain": [
       "(2284, 100, 1)"
      ]
     },
     "execution_count": 61,
     "metadata": {},
     "output_type": "execute_result"
    }
   ],
   "source": [
    "X_train.shape"
   ]
  },
  {
   "cell_type": "code",
   "execution_count": 62,
   "id": "22292cc2",
   "metadata": {},
   "outputs": [],
   "source": [
    "#ml model"
   ]
  },
  {
   "cell_type": "code",
   "execution_count": 63,
   "id": "c55b6e98",
   "metadata": {},
   "outputs": [],
   "source": [
    "from keras.layers import Dense, Dropout, LSTM\n",
    "from keras.models import Sequential"
   ]
  },
  {
   "cell_type": "code",
   "execution_count": 64,
   "id": "4364bc1c",
   "metadata": {},
   "outputs": [],
   "source": [
    "model = Sequential()\n",
    "model.add(LSTM(units = 50, activation ='relu',return_sequences = True,\n",
    "          input_shape= (X_train.shape[1],1)))\n",
    "model.add(Dropout(0.2))\n",
    "\n",
    "\n",
    "model = Sequential()\n",
    "model.add(LSTM(units = 60, activation ='relu',return_sequences = True))\n",
    "model.add(Dropout(0.3))\n",
    "\n",
    "\n",
    "model.add(LSTM(units = 80, activation ='relu',return_sequences = True))\n",
    "model.add(Dropout(0.4))\n",
    "\n",
    "\n",
    "model.add(LSTM(units = 120, activation ='relu'))\n",
    "model.add(Dropout(0.5))\n",
    "\n",
    "\n",
    "model.add(Dense(units = 1))\n",
    "\n",
    "model.build(input_shape=(None, X_train.shape[1], 1))\n"
   ]
  },
  {
   "cell_type": "code",
   "execution_count": 65,
   "id": "c203deb2",
   "metadata": {},
   "outputs": [
    {
     "name": "stdout",
     "output_type": "stream",
     "text": [
      "Model: \"sequential_3\"\n",
      "_________________________________________________________________\n",
      " Layer (type)                Output Shape              Param #   \n",
      "=================================================================\n",
      " lstm_5 (LSTM)               (None, 100, 60)           14880     \n",
      "                                                                 \n",
      " dropout_5 (Dropout)         (None, 100, 60)           0         \n",
      "                                                                 \n",
      " lstm_6 (LSTM)               (None, 100, 80)           45120     \n",
      "                                                                 \n",
      " dropout_6 (Dropout)         (None, 100, 80)           0         \n",
      "                                                                 \n",
      " lstm_7 (LSTM)               (None, 120)               96480     \n",
      "                                                                 \n",
      " dropout_7 (Dropout)         (None, 120)               0         \n",
      "                                                                 \n",
      " dense_1 (Dense)             (None, 1)                 121       \n",
      "                                                                 \n",
      "=================================================================\n",
      "Total params: 156,601\n",
      "Trainable params: 156,601\n",
      "Non-trainable params: 0\n",
      "_________________________________________________________________\n"
     ]
    }
   ],
   "source": [
    "model.summary()"
   ]
  },
  {
   "cell_type": "code",
   "execution_count": 66,
   "id": "c4597b08",
   "metadata": {},
   "outputs": [
    {
     "name": "stdout",
     "output_type": "stream",
     "text": [
      "Epoch 1/50\n",
      "72/72 [==============================] - 38s 356ms/step - loss: 0.0343\n",
      "Epoch 2/50\n",
      "72/72 [==============================] - 26s 364ms/step - loss: 0.0078\n",
      "Epoch 3/50\n",
      "72/72 [==============================] - 25s 350ms/step - loss: 0.0061\n",
      "Epoch 4/50\n",
      "72/72 [==============================] - 27s 369ms/step - loss: 0.0063\n",
      "Epoch 5/50\n",
      "72/72 [==============================] - 25s 349ms/step - loss: 0.0065\n",
      "Epoch 6/50\n",
      "72/72 [==============================] - 25s 347ms/step - loss: 0.0056\n",
      "Epoch 7/50\n",
      "72/72 [==============================] - 25s 350ms/step - loss: 0.0059\n",
      "Epoch 8/50\n",
      "72/72 [==============================] - 24s 329ms/step - loss: 0.0055\n",
      "Epoch 9/50\n",
      "72/72 [==============================] - 25s 350ms/step - loss: 0.0045\n",
      "Epoch 10/50\n",
      "72/72 [==============================] - 26s 365ms/step - loss: 0.0046\n",
      "Epoch 11/50\n",
      "72/72 [==============================] - 26s 356ms/step - loss: 0.0045\n",
      "Epoch 12/50\n",
      "72/72 [==============================] - 25s 348ms/step - loss: 0.0041\n",
      "Epoch 13/50\n",
      "72/72 [==============================] - 24s 329ms/step - loss: 0.0044\n",
      "Epoch 14/50\n",
      "72/72 [==============================] - 25s 353ms/step - loss: 0.0040\n",
      "Epoch 15/50\n",
      "72/72 [==============================] - 26s 360ms/step - loss: 0.0039\n",
      "Epoch 16/50\n",
      "72/72 [==============================] - 28s 388ms/step - loss: 0.0038\n",
      "Epoch 17/50\n",
      "72/72 [==============================] - 26s 368ms/step - loss: 0.0043\n",
      "Epoch 18/50\n",
      "72/72 [==============================] - 24s 337ms/step - loss: 0.0034\n",
      "Epoch 19/50\n",
      "72/72 [==============================] - 25s 350ms/step - loss: 0.0035\n",
      "Epoch 20/50\n",
      "72/72 [==============================] - 25s 350ms/step - loss: 0.0034\n",
      "Epoch 21/50\n",
      "72/72 [==============================] - 26s 360ms/step - loss: 0.0030\n",
      "Epoch 22/50\n",
      "72/72 [==============================] - 26s 355ms/step - loss: 0.0029\n",
      "Epoch 23/50\n",
      "72/72 [==============================] - 24s 334ms/step - loss: 0.0029\n",
      "Epoch 24/50\n",
      "72/72 [==============================] - 27s 369ms/step - loss: 0.0028\n",
      "Epoch 25/50\n",
      "72/72 [==============================] - 25s 352ms/step - loss: 0.0032\n",
      "Epoch 26/50\n",
      "72/72 [==============================] - 26s 364ms/step - loss: 0.0030\n",
      "Epoch 27/50\n",
      "72/72 [==============================] - 25s 346ms/step - loss: 0.0030\n",
      "Epoch 28/50\n",
      "72/72 [==============================] - 25s 350ms/step - loss: 0.0027\n",
      "Epoch 29/50\n",
      "72/72 [==============================] - 25s 344ms/step - loss: 0.0031\n",
      "Epoch 30/50\n",
      "72/72 [==============================] - 28s 394ms/step - loss: 0.0025\n",
      "Epoch 31/50\n",
      "72/72 [==============================] - 26s 357ms/step - loss: 0.0028\n",
      "Epoch 32/50\n",
      "72/72 [==============================] - 24s 332ms/step - loss: 0.0027\n",
      "Epoch 33/50\n",
      "72/72 [==============================] - 24s 336ms/step - loss: 0.0025\n",
      "Epoch 34/50\n",
      "72/72 [==============================] - 24s 338ms/step - loss: 0.0026\n",
      "Epoch 35/50\n",
      "72/72 [==============================] - 25s 346ms/step - loss: 0.0025\n",
      "Epoch 36/50\n",
      "72/72 [==============================] - 24s 340ms/step - loss: 0.0024\n",
      "Epoch 37/50\n",
      "72/72 [==============================] - 24s 337ms/step - loss: 0.0026\n",
      "Epoch 38/50\n",
      "72/72 [==============================] - 26s 361ms/step - loss: 0.0026\n",
      "Epoch 39/50\n",
      "72/72 [==============================] - 26s 364ms/step - loss: 0.0026\n",
      "Epoch 40/50\n",
      "72/72 [==============================] - 26s 357ms/step - loss: 0.0026\n",
      "Epoch 41/50\n",
      "72/72 [==============================] - 25s 349ms/step - loss: 0.0025\n",
      "Epoch 42/50\n",
      "72/72 [==============================] - 27s 369ms/step - loss: 0.0025\n",
      "Epoch 43/50\n",
      "72/72 [==============================] - 26s 360ms/step - loss: 0.0023\n",
      "Epoch 44/50\n",
      "72/72 [==============================] - 25s 346ms/step - loss: 0.0023\n",
      "Epoch 45/50\n",
      "72/72 [==============================] - 23s 324ms/step - loss: 0.0026\n",
      "Epoch 46/50\n",
      "72/72 [==============================] - 26s 355ms/step - loss: 0.0023\n",
      "Epoch 47/50\n",
      "72/72 [==============================] - 23s 326ms/step - loss: 0.0025\n",
      "Epoch 48/50\n",
      "72/72 [==============================] - 25s 342ms/step - loss: 0.0022\n",
      "Epoch 49/50\n",
      "72/72 [==============================] - 25s 343ms/step - loss: 0.0023\n",
      "Epoch 50/50\n",
      "72/72 [==============================] - 21s 290ms/step - loss: 0.0024\n"
     ]
    },
    {
     "data": {
      "text/plain": [
       "<keras.callbacks.History at 0x2d38dceca10>"
      ]
     },
     "execution_count": 66,
     "metadata": {},
     "output_type": "execute_result"
    }
   ],
   "source": [
    "model.compile(optimizer='adam', loss='mean_squared_error')\n",
    "model.fit(X_train,y_train ,epochs=50)"
   ]
  },
  {
   "cell_type": "code",
   "execution_count": 67,
   "id": "28fb53df",
   "metadata": {},
   "outputs": [],
   "source": [
    "model.save('sensex_keras_model.h5')"
   ]
  },
  {
   "cell_type": "code",
   "execution_count": 68,
   "id": "170c09d8",
   "metadata": {},
   "outputs": [
    {
     "data": {
      "text/html": [
       "<div>\n",
       "<style scoped>\n",
       "    .dataframe tbody tr th:only-of-type {\n",
       "        vertical-align: middle;\n",
       "    }\n",
       "\n",
       "    .dataframe tbody tr th {\n",
       "        vertical-align: top;\n",
       "    }\n",
       "\n",
       "    .dataframe thead th {\n",
       "        text-align: right;\n",
       "    }\n",
       "</style>\n",
       "<table border=\"1\" class=\"dataframe\">\n",
       "  <thead>\n",
       "    <tr style=\"text-align: right;\">\n",
       "      <th></th>\n",
       "      <th>Close</th>\n",
       "    </tr>\n",
       "  </thead>\n",
       "  <tbody>\n",
       "    <tr>\n",
       "      <th>2384</th>\n",
       "      <td>36093.468750</td>\n",
       "    </tr>\n",
       "    <tr>\n",
       "      <th>2385</th>\n",
       "      <td>38014.621094</td>\n",
       "    </tr>\n",
       "    <tr>\n",
       "      <th>2386</th>\n",
       "      <td>39090.031250</td>\n",
       "    </tr>\n",
       "    <tr>\n",
       "      <th>2387</th>\n",
       "      <td>39097.140625</td>\n",
       "    </tr>\n",
       "    <tr>\n",
       "      <th>2388</th>\n",
       "      <td>38593.519531</td>\n",
       "    </tr>\n",
       "  </tbody>\n",
       "</table>\n",
       "</div>"
      ],
      "text/plain": [
       "             Close\n",
       "2384  36093.468750\n",
       "2385  38014.621094\n",
       "2386  39090.031250\n",
       "2387  39097.140625\n",
       "2388  38593.519531"
      ]
     },
     "execution_count": 68,
     "metadata": {},
     "output_type": "execute_result"
    }
   ],
   "source": [
    "Data_testing.head()"
   ]
  },
  {
   "cell_type": "code",
   "execution_count": 69,
   "id": "67d628f2",
   "metadata": {},
   "outputs": [],
   "source": [
    "past_100_days = Data_training.tail(100)"
   ]
  },
  {
   "cell_type": "code",
   "execution_count": 70,
   "id": "623b33b7",
   "metadata": {},
   "outputs": [],
   "source": [
    "final_df = pd.concat([past_100_days,Data_testing],ignore_index= True)"
   ]
  },
  {
   "cell_type": "code",
   "execution_count": 71,
   "id": "78ccb539",
   "metadata": {},
   "outputs": [
    {
     "data": {
      "text/html": [
       "<div>\n",
       "<style scoped>\n",
       "    .dataframe tbody tr th:only-of-type {\n",
       "        vertical-align: middle;\n",
       "    }\n",
       "\n",
       "    .dataframe tbody tr th {\n",
       "        vertical-align: top;\n",
       "    }\n",
       "\n",
       "    .dataframe thead th {\n",
       "        text-align: right;\n",
       "    }\n",
       "</style>\n",
       "<table border=\"1\" class=\"dataframe\">\n",
       "  <thead>\n",
       "    <tr style=\"text-align: right;\">\n",
       "      <th></th>\n",
       "      <th>Close</th>\n",
       "    </tr>\n",
       "  </thead>\n",
       "  <tbody>\n",
       "    <tr>\n",
       "      <th>0</th>\n",
       "      <td>38564.878906</td>\n",
       "    </tr>\n",
       "    <tr>\n",
       "      <th>1</th>\n",
       "      <td>39054.679688</td>\n",
       "    </tr>\n",
       "    <tr>\n",
       "      <th>2</th>\n",
       "      <td>38730.859375</td>\n",
       "    </tr>\n",
       "    <tr>\n",
       "      <th>3</th>\n",
       "      <td>39067.328125</td>\n",
       "    </tr>\n",
       "    <tr>\n",
       "      <th>4</th>\n",
       "      <td>39031.550781</td>\n",
       "    </tr>\n",
       "  </tbody>\n",
       "</table>\n",
       "</div>"
      ],
      "text/plain": [
       "          Close\n",
       "0  38564.878906\n",
       "1  39054.679688\n",
       "2  38730.859375\n",
       "3  39067.328125\n",
       "4  39031.550781"
      ]
     },
     "execution_count": 71,
     "metadata": {},
     "output_type": "execute_result"
    }
   ],
   "source": [
    "final_df.head()"
   ]
  },
  {
   "cell_type": "code",
   "execution_count": 72,
   "id": "be8c042d",
   "metadata": {},
   "outputs": [
    {
     "data": {
      "text/plain": [
       "array([[0.30063121],\n",
       "       [0.31233287],\n",
       "       [0.30459659],\n",
       "       ...,\n",
       "       [0.93119635],\n",
       "       [0.9308071 ],\n",
       "       [0.93160053]])"
      ]
     },
     "execution_count": 72,
     "metadata": {},
     "output_type": "execute_result"
    }
   ],
   "source": [
    "input_data = scaler.fit_transform(final_df)\n",
    "input_data"
   ]
  },
  {
   "cell_type": "code",
   "execution_count": 73,
   "id": "46746c5f",
   "metadata": {},
   "outputs": [
    {
     "data": {
      "text/plain": [
       "(1123, 1)"
      ]
     },
     "execution_count": 73,
     "metadata": {},
     "output_type": "execute_result"
    }
   ],
   "source": [
    "input_data.shape"
   ]
  },
  {
   "cell_type": "code",
   "execution_count": 74,
   "id": "f2813b14",
   "metadata": {},
   "outputs": [],
   "source": [
    "x_test = []\n",
    "y_test = []\n",
    "for i in range(100, input_data.shape[0]):\n",
    "    x_test.append(input_data[i-100:i])\n",
    "    y_test.append(input_data[i,0])"
   ]
  },
  {
   "cell_type": "code",
   "execution_count": 75,
   "id": "aaa77269",
   "metadata": {},
   "outputs": [
    {
     "name": "stdout",
     "output_type": "stream",
     "text": [
      "(1023, 100, 1)\n",
      "(1023,)\n"
     ]
    }
   ],
   "source": [
    "x_test,y_test = np.array(x_test), np.array(y_test)\n",
    "print(x_test.shape)\n",
    "print(y_test.shape)"
   ]
  },
  {
   "cell_type": "code",
   "execution_count": 76,
   "id": "3f7d4e8c",
   "metadata": {},
   "outputs": [
    {
     "name": "stdout",
     "output_type": "stream",
     "text": [
      "32/32 [==============================] - 5s 133ms/step\n"
     ]
    }
   ],
   "source": [
    "# making predication\n",
    "\n",
    "y_predicated = model.predict(x_test)"
   ]
  },
  {
   "cell_type": "code",
   "execution_count": 77,
   "id": "a8e3e23a",
   "metadata": {},
   "outputs": [
    {
     "data": {
      "text/plain": [
       "(1023, 1)"
      ]
     },
     "execution_count": 77,
     "metadata": {},
     "output_type": "execute_result"
    }
   ],
   "source": [
    "y_predicated.shape"
   ]
  },
  {
   "cell_type": "code",
   "execution_count": 78,
   "id": "48d86c6d",
   "metadata": {},
   "outputs": [
    {
     "data": {
      "text/plain": [
       "array([0.24158764, 0.2874852 , 0.31317744, ..., 0.93119635, 0.9308071 ,\n",
       "       0.93160053])"
      ]
     },
     "execution_count": 78,
     "metadata": {},
     "output_type": "execute_result"
    }
   ],
   "source": [
    "y_test"
   ]
  },
  {
   "cell_type": "code",
   "execution_count": 79,
   "id": "a79d2d5c",
   "metadata": {},
   "outputs": [
    {
     "data": {
      "text/plain": [
       "array([[0.31918776],\n",
       "       [0.31805584],\n",
       "       [0.31738517],\n",
       "       ...,\n",
       "       [0.8894996 ],\n",
       "       [0.88901466],\n",
       "       [0.8900364 ]], dtype=float32)"
      ]
     },
     "execution_count": 79,
     "metadata": {},
     "output_type": "execute_result"
    }
   ],
   "source": [
    "y_predicated"
   ]
  },
  {
   "cell_type": "code",
   "execution_count": 80,
   "id": "fd31b29c",
   "metadata": {},
   "outputs": [
    {
     "data": {
      "text/plain": [
       "array([2.38906425e-05])"
      ]
     },
     "execution_count": 80,
     "metadata": {},
     "output_type": "execute_result"
    }
   ],
   "source": [
    "scaler.scale_"
   ]
  },
  {
   "cell_type": "code",
   "execution_count": 81,
   "id": "34994f20",
   "metadata": {},
   "outputs": [],
   "source": [
    "scale_factor = 1/0.01566171\n",
    "y_predicated = y_predicated * scale_factor\n",
    "y_test = y_test * scale_factor"
   ]
  },
  {
   "cell_type": "code",
   "execution_count": 84,
   "id": "93bc8e6f",
   "metadata": {},
   "outputs": [
    {
     "data": {
      "image/png": "[encoded data removed]",
      "text/plain": [
       "<Figure size 1200x600 with 1 Axes>"
      ]
     },
     "metadata": {},
     "output_type": "display_data"
    }
   ],
   "source": [
    "plt.figure(figsize=(12,6))\n",
    "plt.plot(y_test,'b',label ='original price')\n",
    "plt.plot(y_predicated,'r',label ='Predicated price')\n",
    "plt.xlabel('Time')\n",
    "plt.ylabel('Price')\n",
    "plt.legend()\n",
    "plt.show()"
   ]
  },
  {
   "cell_type": "code",
   "execution_count": null,
   "id": "4f670247",
   "metadata": {},
   "outputs": [],
   "source": []
  }
 ],
 "metadata": {
  "kernelspec": {
   "display_name": "Python 3 (ipykernel)",
   "language": "python",
   "name": "python3"
  },
  "language_info": {
   "codemirror_mode": {
    "name": "ipython",
    "version": 3
   },
   "file_extension": ".py",
   "mimetype": "text/x-python",
   "name": "python",
   "nbconvert_exporter": "python",
   "pygments_lexer": "ipython3",
   "version": "3.11.2"
  }
 },
 "nbformat": 4,
 "nbformat_minor": 5
}
