{
 "cells": [
  {
   "cell_type": "code",
   "execution_count": 100,
   "id": "112bf5e0",
   "metadata": {},
   "outputs": [],
   "source": [
    "import numpy as np\n",
    "import pandas as pd \n",
    "import matplotlib.pyplot as plt\n",
    "import pandas_datareader as st\n",
    "import yfinance as yf\n",
    "\n"
   ]
  },
  {
   "cell_type": "code",
   "execution_count": 142,
   "id": "5f1b863f",
   "metadata": {},
   "outputs": [
    {
     "name": "stdout",
     "output_type": "stream",
     "text": [
      "[*********************100%%**********************]  1 of 1 completed\n",
      "                  Open        High         Low       Close   Adj Close  \\\n",
      "Date                                                                     \n",
      "2010-01-04  498.814209  498.814209  467.155457  491.682404  440.421967   \n",
      "2010-01-05  525.695618  525.695618  487.065033  489.488007  438.456299   \n",
      "2010-01-06  493.693939  500.368591  489.465149  497.397003  445.540863   \n",
      "2010-01-07  497.397003  509.740479  492.825348  505.648834  452.932343   \n",
      "2010-01-08  506.540314  509.191895  501.054321  504.323059  451.744751   \n",
      "\n",
      "              Volume  \n",
      "Date                  \n",
      "2010-01-04  38323043  \n",
      "2010-01-05  10696412  \n",
      "2010-01-06  11845880  \n",
      "2010-01-07  13098960  \n",
      "2010-01-08   7555074  \n"
     ]
    }
   ],
   "source": [
    "start = '2010-01-01' #yyyy-mm-dd  \n",
    "end = '2024-02-27'   #yyyy-mm-dd\n",
    "\n",
    "\n",
    "df = yf.download('RELIANCE.NS', start=start, end=end)\n",
    "print(df.head())"
   ]
  },
  {
   "cell_type": "code",
   "execution_count": 143,
   "id": "5e3ed1b0",
   "metadata": {},
   "outputs": [
    {
     "data": {
      "text/html": [
       "<div>\n",
       "<style scoped>\n",
       "    .dataframe tbody tr th:only-of-type {\n",
       "        vertical-align: middle;\n",
       "    }\n",
       "\n",
       "    .dataframe tbody tr th {\n",
       "        vertical-align: top;\n",
       "    }\n",
       "\n",
       "    .dataframe thead th {\n",
       "        text-align: right;\n",
       "    }\n",
       "</style>\n",
       "<table border=\"1\" class=\"dataframe\">\n",
       "  <thead>\n",
       "    <tr style=\"text-align: right;\">\n",
       "      <th></th>\n",
       "      <th>Date</th>\n",
       "      <th>Open</th>\n",
       "      <th>High</th>\n",
       "      <th>Low</th>\n",
       "      <th>Close</th>\n",
       "      <th>Adj Close</th>\n",
       "      <th>Volume</th>\n",
       "    </tr>\n",
       "  </thead>\n",
       "  <tbody>\n",
       "    <tr>\n",
       "      <th>0</th>\n",
       "      <td>2010-01-04</td>\n",
       "      <td>498.814209</td>\n",
       "      <td>498.814209</td>\n",
       "      <td>467.155457</td>\n",
       "      <td>491.682404</td>\n",
       "      <td>440.421967</td>\n",
       "      <td>38323043</td>\n",
       "    </tr>\n",
       "    <tr>\n",
       "      <th>1</th>\n",
       "      <td>2010-01-05</td>\n",
       "      <td>525.695618</td>\n",
       "      <td>525.695618</td>\n",
       "      <td>487.065033</td>\n",
       "      <td>489.488007</td>\n",
       "      <td>438.456299</td>\n",
       "      <td>10696412</td>\n",
       "    </tr>\n",
       "    <tr>\n",
       "      <th>2</th>\n",
       "      <td>2010-01-06</td>\n",
       "      <td>493.693939</td>\n",
       "      <td>500.368591</td>\n",
       "      <td>489.465149</td>\n",
       "      <td>497.397003</td>\n",
       "      <td>445.540863</td>\n",
       "      <td>11845880</td>\n",
       "    </tr>\n",
       "    <tr>\n",
       "      <th>3</th>\n",
       "      <td>2010-01-07</td>\n",
       "      <td>497.397003</td>\n",
       "      <td>509.740479</td>\n",
       "      <td>492.825348</td>\n",
       "      <td>505.648834</td>\n",
       "      <td>452.932343</td>\n",
       "      <td>13098960</td>\n",
       "    </tr>\n",
       "    <tr>\n",
       "      <th>4</th>\n",
       "      <td>2010-01-08</td>\n",
       "      <td>506.540314</td>\n",
       "      <td>509.191895</td>\n",
       "      <td>501.054321</td>\n",
       "      <td>504.323059</td>\n",
       "      <td>451.744751</td>\n",
       "      <td>7555074</td>\n",
       "    </tr>\n",
       "  </tbody>\n",
       "</table>\n",
       "</div>"
      ],
      "text/plain": [
       "        Date        Open        High         Low       Close   Adj Close  \\\n",
       "0 2010-01-04  498.814209  498.814209  467.155457  491.682404  440.421967   \n",
       "1 2010-01-05  525.695618  525.695618  487.065033  489.488007  438.456299   \n",
       "2 2010-01-06  493.693939  500.368591  489.465149  497.397003  445.540863   \n",
       "3 2010-01-07  497.397003  509.740479  492.825348  505.648834  452.932343   \n",
       "4 2010-01-08  506.540314  509.191895  501.054321  504.323059  451.744751   \n",
       "\n",
       "     Volume  \n",
       "0  38323043  \n",
       "1  10696412  \n",
       "2  11845880  \n",
       "3  13098960  \n",
       "4   7555074  "
      ]
     },
     "execution_count": 143,
     "metadata": {},
     "output_type": "execute_result"
    }
   ],
   "source": [
    "df = df.reset_index()\n",
    "df.head()\n"
   ]
  },
  {
   "cell_type": "code",
   "execution_count": 144,
   "id": "7ea0cc63",
   "metadata": {},
   "outputs": [
    {
     "data": {
      "text/html": [
       "<div>\n",
       "<style scoped>\n",
       "    .dataframe tbody tr th:only-of-type {\n",
       "        vertical-align: middle;\n",
       "    }\n",
       "\n",
       "    .dataframe tbody tr th {\n",
       "        vertical-align: top;\n",
       "    }\n",
       "\n",
       "    .dataframe thead th {\n",
       "        text-align: right;\n",
       "    }\n",
       "</style>\n",
       "<table border=\"1\" class=\"dataframe\">\n",
       "  <thead>\n",
       "    <tr style=\"text-align: right;\">\n",
       "      <th></th>\n",
       "      <th>Open</th>\n",
       "      <th>High</th>\n",
       "      <th>Low</th>\n",
       "      <th>Close</th>\n",
       "      <th>Volume</th>\n",
       "    </tr>\n",
       "  </thead>\n",
       "  <tbody>\n",
       "    <tr>\n",
       "      <th>0</th>\n",
       "      <td>498.814209</td>\n",
       "      <td>498.814209</td>\n",
       "      <td>467.155457</td>\n",
       "      <td>491.682404</td>\n",
       "      <td>38323043</td>\n",
       "    </tr>\n",
       "    <tr>\n",
       "      <th>1</th>\n",
       "      <td>525.695618</td>\n",
       "      <td>525.695618</td>\n",
       "      <td>487.065033</td>\n",
       "      <td>489.488007</td>\n",
       "      <td>10696412</td>\n",
       "    </tr>\n",
       "    <tr>\n",
       "      <th>2</th>\n",
       "      <td>493.693939</td>\n",
       "      <td>500.368591</td>\n",
       "      <td>489.465149</td>\n",
       "      <td>497.397003</td>\n",
       "      <td>11845880</td>\n",
       "    </tr>\n",
       "    <tr>\n",
       "      <th>3</th>\n",
       "      <td>497.397003</td>\n",
       "      <td>509.740479</td>\n",
       "      <td>492.825348</td>\n",
       "      <td>505.648834</td>\n",
       "      <td>13098960</td>\n",
       "    </tr>\n",
       "    <tr>\n",
       "      <th>4</th>\n",
       "      <td>506.540314</td>\n",
       "      <td>509.191895</td>\n",
       "      <td>501.054321</td>\n",
       "      <td>504.323059</td>\n",
       "      <td>7555074</td>\n",
       "    </tr>\n",
       "  </tbody>\n",
       "</table>\n",
       "</div>"
      ],
      "text/plain": [
       "         Open        High         Low       Close    Volume\n",
       "0  498.814209  498.814209  467.155457  491.682404  38323043\n",
       "1  525.695618  525.695618  487.065033  489.488007  10696412\n",
       "2  493.693939  500.368591  489.465149  497.397003  11845880\n",
       "3  497.397003  509.740479  492.825348  505.648834  13098960\n",
       "4  506.540314  509.191895  501.054321  504.323059   7555074"
      ]
     },
     "execution_count": 144,
     "metadata": {},
     "output_type": "execute_result"
    }
   ],
   "source": [
    "df = df.drop(['Date','Adj Close'],axis = 1)\n",
    "df.head()"
   ]
  },
  {
   "cell_type": "code",
   "execution_count": 145,
   "id": "0720fcbd",
   "metadata": {},
   "outputs": [
    {
     "data": {
      "text/plain": [
       "[<matplotlib.lines.Line2D at 0x152bc402ad0>]"
      ]
     },
     "execution_count": 145,
     "metadata": {},
     "output_type": "execute_result"
    },
    {
     "data": {
      "image/png": "[encoded data removed]",
      "text/plain": [
       "<Figure size 640x480 with 1 Axes>"
      ]
     },
     "metadata": {},
     "output_type": "display_data"
    }
   ],
   "source": [
    "plt.plot(df.Close)"
   ]
  },
  {
   "cell_type": "code",
   "execution_count": 146,
   "id": "3fb75ce0",
   "metadata": {},
   "outputs": [
    {
     "data": {
      "text/html": [
       "<div>\n",
       "<style scoped>\n",
       "    .dataframe tbody tr th:only-of-type {\n",
       "        vertical-align: middle;\n",
       "    }\n",
       "\n",
       "    .dataframe tbody tr th {\n",
       "        vertical-align: top;\n",
       "    }\n",
       "\n",
       "    .dataframe thead th {\n",
       "        text-align: right;\n",
       "    }\n",
       "</style>\n",
       "<table border=\"1\" class=\"dataframe\">\n",
       "  <thead>\n",
       "    <tr style=\"text-align: right;\">\n",
       "      <th></th>\n",
       "      <th>Open</th>\n",
       "      <th>High</th>\n",
       "      <th>Low</th>\n",
       "      <th>Close</th>\n",
       "      <th>Volume</th>\n",
       "    </tr>\n",
       "  </thead>\n",
       "  <tbody>\n",
       "    <tr>\n",
       "      <th>0</th>\n",
       "      <td>498.814209</td>\n",
       "      <td>498.814209</td>\n",
       "      <td>467.155457</td>\n",
       "      <td>491.682404</td>\n",
       "      <td>38323043</td>\n",
       "    </tr>\n",
       "    <tr>\n",
       "      <th>1</th>\n",
       "      <td>525.695618</td>\n",
       "      <td>525.695618</td>\n",
       "      <td>487.065033</td>\n",
       "      <td>489.488007</td>\n",
       "      <td>10696412</td>\n",
       "    </tr>\n",
       "    <tr>\n",
       "      <th>2</th>\n",
       "      <td>493.693939</td>\n",
       "      <td>500.368591</td>\n",
       "      <td>489.465149</td>\n",
       "      <td>497.397003</td>\n",
       "      <td>11845880</td>\n",
       "    </tr>\n",
       "    <tr>\n",
       "      <th>3</th>\n",
       "      <td>497.397003</td>\n",
       "      <td>509.740479</td>\n",
       "      <td>492.825348</td>\n",
       "      <td>505.648834</td>\n",
       "      <td>13098960</td>\n",
       "    </tr>\n",
       "    <tr>\n",
       "      <th>4</th>\n",
       "      <td>506.540314</td>\n",
       "      <td>509.191895</td>\n",
       "      <td>501.054321</td>\n",
       "      <td>504.323059</td>\n",
       "      <td>7555074</td>\n",
       "    </tr>\n",
       "    <tr>\n",
       "      <th>...</th>\n",
       "      <td>...</td>\n",
       "      <td>...</td>\n",
       "      <td>...</td>\n",
       "      <td>...</td>\n",
       "      <td>...</td>\n",
       "    </tr>\n",
       "    <tr>\n",
       "      <th>3488</th>\n",
       "      <td>2950.050049</td>\n",
       "      <td>2951.000000</td>\n",
       "      <td>2923.600098</td>\n",
       "      <td>2942.050049</td>\n",
       "      <td>3558748</td>\n",
       "    </tr>\n",
       "    <tr>\n",
       "      <th>3489</th>\n",
       "      <td>2948.000000</td>\n",
       "      <td>2977.050049</td>\n",
       "      <td>2915.100098</td>\n",
       "      <td>2935.399902</td>\n",
       "      <td>6360146</td>\n",
       "    </tr>\n",
       "    <tr>\n",
       "      <th>3490</th>\n",
       "      <td>2936.300049</td>\n",
       "      <td>2969.899902</td>\n",
       "      <td>2916.000000</td>\n",
       "      <td>2963.500000</td>\n",
       "      <td>9246864</td>\n",
       "    </tr>\n",
       "    <tr>\n",
       "      <th>3491</th>\n",
       "      <td>2979.000000</td>\n",
       "      <td>2995.100098</td>\n",
       "      <td>2966.699951</td>\n",
       "      <td>2987.250000</td>\n",
       "      <td>7219292</td>\n",
       "    </tr>\n",
       "    <tr>\n",
       "      <th>3492</th>\n",
       "      <td>2987.100098</td>\n",
       "      <td>2989.050049</td>\n",
       "      <td>2965.000000</td>\n",
       "      <td>2974.649902</td>\n",
       "      <td>3756553</td>\n",
       "    </tr>\n",
       "  </tbody>\n",
       "</table>\n",
       "<p>3493 rows × 5 columns</p>\n",
       "</div>"
      ],
      "text/plain": [
       "             Open         High          Low        Close    Volume\n",
       "0      498.814209   498.814209   467.155457   491.682404  38323043\n",
       "1      525.695618   525.695618   487.065033   489.488007  10696412\n",
       "2      493.693939   500.368591   489.465149   497.397003  11845880\n",
       "3      497.397003   509.740479   492.825348   505.648834  13098960\n",
       "4      506.540314   509.191895   501.054321   504.323059   7555074\n",
       "...           ...          ...          ...          ...       ...\n",
       "3488  2950.050049  2951.000000  2923.600098  2942.050049   3558748\n",
       "3489  2948.000000  2977.050049  2915.100098  2935.399902   6360146\n",
       "3490  2936.300049  2969.899902  2916.000000  2963.500000   9246864\n",
       "3491  2979.000000  2995.100098  2966.699951  2987.250000   7219292\n",
       "3492  2987.100098  2989.050049  2965.000000  2974.649902   3756553\n",
       "\n",
       "[3493 rows x 5 columns]"
      ]
     },
     "execution_count": 146,
     "metadata": {},
     "output_type": "execute_result"
    }
   ],
   "source": [
    "df"
   ]
  },
  {
   "cell_type": "code",
   "execution_count": 147,
   "id": "ea5f648c",
   "metadata": {},
   "outputs": [
    {
     "data": {
      "text/plain": [
       "0               NaN\n",
       "1               NaN\n",
       "2               NaN\n",
       "3               NaN\n",
       "4               NaN\n",
       "           ...     \n",
       "3488    2522.821492\n",
       "3489    2528.770991\n",
       "3490    2534.980991\n",
       "3491    2541.164492\n",
       "3492    2547.569990\n",
       "Name: Close, Length: 3493, dtype: float64"
      ]
     },
     "execution_count": 147,
     "metadata": {},
     "output_type": "execute_result"
    }
   ],
   "source": [
    "ma100 = df.Close.rolling(100).mean()\n",
    "ma100 "
   ]
  },
  {
   "cell_type": "code",
   "execution_count": 148,
   "id": "c4929367",
   "metadata": {},
   "outputs": [
    {
     "data": {
      "text/plain": [
       "[<matplotlib.lines.Line2D at 0x152c0b8b050>]"
      ]
     },
     "execution_count": 148,
     "metadata": {},
     "output_type": "execute_result"
    },
    {
     "data": {
      "image/png": "[encoded data removed]",
      "text/plain": [
       "<Figure size 1200x600 with 1 Axes>"
      ]
     },
     "metadata": {},
     "output_type": "display_data"
    }
   ],
   "source": [
    "plt.figure(figsize = (12,6))\n",
    "plt.plot(df.Close)\n",
    "plt.plot(ma100,'r')"
   ]
  },
  {
   "cell_type": "code",
   "execution_count": 149,
   "id": "c0b419fd",
   "metadata": {},
   "outputs": [
    {
     "data": {
      "text/plain": [
       "0               NaN\n",
       "1               NaN\n",
       "2               NaN\n",
       "3               NaN\n",
       "4               NaN\n",
       "           ...     \n",
       "3488    2465.430348\n",
       "3489    2468.938590\n",
       "3490    2472.458574\n",
       "3491    2476.126152\n",
       "3492    2479.591587\n",
       "Name: Close, Length: 3493, dtype: float64"
      ]
     },
     "execution_count": 149,
     "metadata": {},
     "output_type": "execute_result"
    }
   ],
   "source": [
    "ma200 = df.Close.rolling(200).mean()\n",
    "ma200"
   ]
  },
  {
   "cell_type": "code",
   "execution_count": 150,
   "id": "a92145f7",
   "metadata": {},
   "outputs": [
    {
     "data": {
      "text/plain": [
       "[<matplotlib.lines.Line2D at 0x152c0bb8e50>]"
      ]
     },
     "execution_count": 150,
     "metadata": {},
     "output_type": "execute_result"
    },
    {
     "data": {
      "image/png": "[encoded data removed]",
      "text/plain": [
       "<Figure size 1200x600 with 1 Axes>"
      ]
     },
     "metadata": {},
     "output_type": "display_data"
    }
   ],
   "source": [
    "plt.figure(figsize = (12,6))\n",
    "plt.plot(df.Close)\n",
    "plt.plot(ma100,'r')\n",
    "plt.plot(ma200,'g')"
   ]
  },
  {
   "cell_type": "code",
   "execution_count": 151,
   "id": "72452734",
   "metadata": {},
   "outputs": [
    {
     "data": {
      "text/plain": [
       "(3493, 5)"
      ]
     },
     "execution_count": 151,
     "metadata": {},
     "output_type": "execute_result"
    }
   ],
   "source": [
    "df.shape"
   ]
  },
  {
   "cell_type": "code",
   "execution_count": 152,
   "id": "d4543fcd",
   "metadata": {},
   "outputs": [
    {
     "name": "stdout",
     "output_type": "stream",
     "text": [
      "(2445, 1)\n",
      "(1048, 1)\n"
     ]
    }
   ],
   "source": [
    " # spliting data into Training and Testing\n",
    "Data_training = pd.DataFrame(df['Close'][0:int(len(df)* 0.70)])\n",
    "Data_testing = pd.DataFrame(df['Close'][int(len(df)*0.70): int(len(df))])\n",
    "\n",
    "print(Data_training.shape)\n",
    "print(Data_testing.shape)"
   ]
  },
  {
   "cell_type": "code",
   "execution_count": 153,
   "id": "93e0629c",
   "metadata": {},
   "outputs": [
    {
     "data": {
      "text/html": [
       "<div>\n",
       "<style scoped>\n",
       "    .dataframe tbody tr th:only-of-type {\n",
       "        vertical-align: middle;\n",
       "    }\n",
       "\n",
       "    .dataframe tbody tr th {\n",
       "        vertical-align: top;\n",
       "    }\n",
       "\n",
       "    .dataframe thead th {\n",
       "        text-align: right;\n",
       "    }\n",
       "</style>\n",
       "<table border=\"1\" class=\"dataframe\">\n",
       "  <thead>\n",
       "    <tr style=\"text-align: right;\">\n",
       "      <th></th>\n",
       "      <th>Close</th>\n",
       "    </tr>\n",
       "  </thead>\n",
       "  <tbody>\n",
       "    <tr>\n",
       "      <th>0</th>\n",
       "      <td>491.682404</td>\n",
       "    </tr>\n",
       "    <tr>\n",
       "      <th>1</th>\n",
       "      <td>489.488007</td>\n",
       "    </tr>\n",
       "    <tr>\n",
       "      <th>2</th>\n",
       "      <td>497.397003</td>\n",
       "    </tr>\n",
       "    <tr>\n",
       "      <th>3</th>\n",
       "      <td>505.648834</td>\n",
       "    </tr>\n",
       "    <tr>\n",
       "      <th>4</th>\n",
       "      <td>504.323059</td>\n",
       "    </tr>\n",
       "  </tbody>\n",
       "</table>\n",
       "</div>"
      ],
      "text/plain": [
       "        Close\n",
       "0  491.682404\n",
       "1  489.488007\n",
       "2  497.397003\n",
       "3  505.648834\n",
       "4  504.323059"
      ]
     },
     "execution_count": 153,
     "metadata": {},
     "output_type": "execute_result"
    }
   ],
   "source": [
    "Data_training.head()"
   ]
  },
  {
   "cell_type": "code",
   "execution_count": 154,
   "id": "ade68f9b",
   "metadata": {},
   "outputs": [
    {
     "data": {
      "text/html": [
       "<div>\n",
       "<style scoped>\n",
       "    .dataframe tbody tr th:only-of-type {\n",
       "        vertical-align: middle;\n",
       "    }\n",
       "\n",
       "    .dataframe tbody tr th {\n",
       "        vertical-align: top;\n",
       "    }\n",
       "\n",
       "    .dataframe thead th {\n",
       "        text-align: right;\n",
       "    }\n",
       "</style>\n",
       "<table border=\"1\" class=\"dataframe\">\n",
       "  <thead>\n",
       "    <tr style=\"text-align: right;\">\n",
       "      <th></th>\n",
       "      <th>Close</th>\n",
       "    </tr>\n",
       "  </thead>\n",
       "  <tbody>\n",
       "    <tr>\n",
       "      <th>2445</th>\n",
       "      <td>1421.695923</td>\n",
       "    </tr>\n",
       "    <tr>\n",
       "      <th>2446</th>\n",
       "      <td>1437.879639</td>\n",
       "    </tr>\n",
       "    <tr>\n",
       "      <th>2447</th>\n",
       "      <td>1428.141968</td>\n",
       "    </tr>\n",
       "    <tr>\n",
       "      <th>2448</th>\n",
       "      <td>1428.553467</td>\n",
       "    </tr>\n",
       "    <tr>\n",
       "      <th>2449</th>\n",
       "      <td>1433.856567</td>\n",
       "    </tr>\n",
       "  </tbody>\n",
       "</table>\n",
       "</div>"
      ],
      "text/plain": [
       "            Close\n",
       "2445  1421.695923\n",
       "2446  1437.879639\n",
       "2447  1428.141968\n",
       "2448  1428.553467\n",
       "2449  1433.856567"
      ]
     },
     "execution_count": 154,
     "metadata": {},
     "output_type": "execute_result"
    }
   ],
   "source": [
    "Data_testing.head()"
   ]
  },
  {
   "cell_type": "code",
   "execution_count": 155,
   "id": "429e0e11",
   "metadata": {},
   "outputs": [],
   "source": [
    "from sklearn.preprocessing import MinMaxScaler\n",
    "scaler = MinMaxScaler(feature_range=(0,1))"
   ]
  },
  {
   "cell_type": "code",
   "execution_count": 156,
   "id": "bb22a5ad",
   "metadata": {},
   "outputs": [
    {
     "data": {
      "text/plain": [
       "array([[0.15995833],\n",
       "       [0.15803595],\n",
       "       [0.16496456],\n",
       "       ...,\n",
       "       [0.99391241],\n",
       "       [0.97292645],\n",
       "       [0.9714446 ]])"
      ]
     },
     "execution_count": 156,
     "metadata": {},
     "output_type": "execute_result"
    }
   ],
   "source": [
    "Data_training_array = scaler.fit_transform(Data_training)\n",
    "Data_training_array"
   ]
  },
  {
   "cell_type": "code",
   "execution_count": 157,
   "id": "d79a9504",
   "metadata": {},
   "outputs": [
    {
     "data": {
      "text/plain": [
       "(2445, 1)"
      ]
     },
     "execution_count": 157,
     "metadata": {},
     "output_type": "execute_result"
    }
   ],
   "source": [
    "Data_training_array.shape"
   ]
  },
  {
   "cell_type": "code",
   "execution_count": 158,
   "id": "8fe0a54e",
   "metadata": {},
   "outputs": [],
   "source": [
    "X_train = []\n",
    "y_train = []\n",
    "\n",
    "for i in range (100,Data_training_array.shape[0]):\n",
    "    X_train.append(Data_training_array[i-100:i])\n",
    "    y_train.append(Data_training_array[i,0])\n",
    "    \n",
    "    \n",
    "X_train,y_train = np.array(X_train), np.array(y_train)   "
   ]
  },
  {
   "cell_type": "code",
   "execution_count": 159,
   "id": "cb2c8e7c",
   "metadata": {},
   "outputs": [
    {
     "data": {
      "text/plain": [
       "(2345, 100, 1)"
      ]
     },
     "execution_count": 159,
     "metadata": {},
     "output_type": "execute_result"
    }
   ],
   "source": [
    "X_train.shape"
   ]
  },
  {
   "cell_type": "code",
   "execution_count": 160,
   "id": "22292cc2",
   "metadata": {},
   "outputs": [],
   "source": [
    "#ml model"
   ]
  },
  {
   "cell_type": "code",
   "execution_count": 161,
   "id": "c55b6e98",
   "metadata": {},
   "outputs": [],
   "source": [
    "from keras.layers import Dense, Dropout, LSTM\n",
    "from keras.models import Sequential"
   ]
  },
  {
   "cell_type": "code",
   "execution_count": 162,
   "id": "4364bc1c",
   "metadata": {},
   "outputs": [],
   "source": [
    "model = Sequential()\n",
    "model.add(LSTM(units = 50, activation ='relu',return_sequences = True,\n",
    "          input_shape= (X_train.shape[1],1)))\n",
    "model.add(Dropout(0.2))\n",
    "\n",
    "\n",
    "model = Sequential()\n",
    "model.add(LSTM(units = 60, activation ='relu',return_sequences = True))\n",
    "model.add(Dropout(0.3))\n",
    "\n",
    "\n",
    "model.add(LSTM(units = 80, activation ='relu',return_sequences = True))\n",
    "model.add(Dropout(0.4))\n",
    "\n",
    "\n",
    "model.add(LSTM(units = 120, activation ='relu'))\n",
    "model.add(Dropout(0.5))\n",
    "\n",
    "\n",
    "model.add(Dense(units = 1))\n",
    "\n",
    "model.build(input_shape=(None, X_train.shape[1], 1))\n"
   ]
  },
  {
   "cell_type": "code",
   "execution_count": 163,
   "id": "c203deb2",
   "metadata": {},
   "outputs": [
    {
     "name": "stdout",
     "output_type": "stream",
     "text": [
      "Model: \"sequential_7\"\n",
      "_________________________________________________________________\n",
      " Layer (type)                Output Shape              Param #   \n",
      "=================================================================\n",
      " lstm_13 (LSTM)              (None, 100, 60)           14880     \n",
      "                                                                 \n",
      " dropout_13 (Dropout)        (None, 100, 60)           0         \n",
      "                                                                 \n",
      " lstm_14 (LSTM)              (None, 100, 80)           45120     \n",
      "                                                                 \n",
      " dropout_14 (Dropout)        (None, 100, 80)           0         \n",
      "                                                                 \n",
      " lstm_15 (LSTM)              (None, 120)               96480     \n",
      "                                                                 \n",
      " dropout_15 (Dropout)        (None, 120)               0         \n",
      "                                                                 \n",
      " dense_3 (Dense)             (None, 1)                 121       \n",
      "                                                                 \n",
      "=================================================================\n",
      "Total params: 156,601\n",
      "Trainable params: 156,601\n",
      "Non-trainable params: 0\n",
      "_________________________________________________________________\n"
     ]
    }
   ],
   "source": [
    "model.summary()"
   ]
  },
  {
   "cell_type": "code",
   "execution_count": 164,
   "id": "c4597b08",
   "metadata": {},
   "outputs": [
    {
     "name": "stdout",
     "output_type": "stream",
     "text": [
      "Epoch 1/70\n",
      "74/74 [==============================] - 36s 316ms/step - loss: 0.0167\n",
      "Epoch 2/70\n",
      "74/74 [==============================] - 24s 327ms/step - loss: 0.0047\n",
      "Epoch 3/70\n",
      "74/74 [==============================] - 25s 336ms/step - loss: 0.0040\n",
      "Epoch 4/70\n",
      "74/74 [==============================] - 25s 336ms/step - loss: 0.0043\n",
      "Epoch 5/70\n",
      "74/74 [==============================] - 25s 337ms/step - loss: 0.0036\n",
      "Epoch 6/70\n",
      "74/74 [==============================] - 25s 332ms/step - loss: 0.0031\n",
      "Epoch 7/70\n",
      "74/74 [==============================] - 24s 329ms/step - loss: 0.0035\n",
      "Epoch 8/70\n",
      "74/74 [==============================] - 24s 327ms/step - loss: 0.0029\n",
      "Epoch 9/70\n",
      "74/74 [==============================] - 24s 326ms/step - loss: 0.0028\n",
      "Epoch 10/70\n",
      "74/74 [==============================] - 24s 320ms/step - loss: 0.0026\n",
      "Epoch 11/70\n",
      "74/74 [==============================] - 25s 338ms/step - loss: 0.0024\n",
      "Epoch 12/70\n",
      "74/74 [==============================] - 25s 342ms/step - loss: 0.0027\n",
      "Epoch 13/70\n",
      "74/74 [==============================] - 27s 360ms/step - loss: 0.0026\n",
      "Epoch 14/70\n",
      "74/74 [==============================] - 27s 360ms/step - loss: 0.0025\n",
      "Epoch 15/70\n",
      "74/74 [==============================] - 24s 328ms/step - loss: 0.0024\n",
      "Epoch 16/70\n",
      "74/74 [==============================] - 24s 331ms/step - loss: 0.0024\n",
      "Epoch 17/70\n",
      "74/74 [==============================] - 24s 329ms/step - loss: 0.0022\n",
      "Epoch 18/70\n",
      "74/74 [==============================] - 24s 327ms/step - loss: 0.0021\n",
      "Epoch 19/70\n",
      "74/74 [==============================] - 24s 318ms/step - loss: 0.0024\n",
      "Epoch 20/70\n",
      "74/74 [==============================] - 25s 340ms/step - loss: 0.0023\n",
      "Epoch 21/70\n",
      "74/74 [==============================] - 25s 336ms/step - loss: 0.0022\n",
      "Epoch 22/70\n",
      "74/74 [==============================] - 23s 312ms/step - loss: 0.0020\n",
      "Epoch 23/70\n",
      "74/74 [==============================] - 18s 246ms/step - loss: 0.0024\n",
      "Epoch 24/70\n",
      "74/74 [==============================] - 17s 235ms/step - loss: 0.0022\n",
      "Epoch 25/70\n",
      "74/74 [==============================] - 17s 225ms/step - loss: 0.0022\n",
      "Epoch 26/70\n",
      "74/74 [==============================] - 16s 220ms/step - loss: 0.0019\n",
      "Epoch 27/70\n",
      "74/74 [==============================] - 17s 233ms/step - loss: 0.0021\n",
      "Epoch 28/70\n",
      "74/74 [==============================] - 18s 250ms/step - loss: 0.0022\n",
      "Epoch 29/70\n",
      "74/74 [==============================] - 17s 235ms/step - loss: 0.0023\n",
      "Epoch 30/70\n",
      "74/74 [==============================] - 17s 228ms/step - loss: 0.0020\n",
      "Epoch 31/70\n",
      "74/74 [==============================] - 17s 234ms/step - loss: 0.0019\n",
      "Epoch 32/70\n",
      "74/74 [==============================] - 17s 235ms/step - loss: 0.0019\n",
      "Epoch 33/70\n",
      "74/74 [==============================] - 18s 241ms/step - loss: 0.0020\n",
      "Epoch 34/70\n",
      "74/74 [==============================] - 17s 235ms/step - loss: 0.0019\n",
      "Epoch 35/70\n",
      "74/74 [==============================] - 17s 233ms/step - loss: 0.0017\n",
      "Epoch 36/70\n",
      "74/74 [==============================] - 17s 225ms/step - loss: 0.0020\n",
      "Epoch 37/70\n",
      "74/74 [==============================] - 17s 228ms/step - loss: 0.0022\n",
      "Epoch 38/70\n",
      "74/74 [==============================] - 18s 238ms/step - loss: 0.0019\n",
      "Epoch 39/70\n",
      "74/74 [==============================] - 17s 233ms/step - loss: 0.0019\n",
      "Epoch 40/70\n",
      "74/74 [==============================] - 17s 227ms/step - loss: 0.0019\n",
      "Epoch 41/70\n",
      "74/74 [==============================] - 17s 231ms/step - loss: 0.0018\n",
      "Epoch 42/70\n",
      "74/74 [==============================] - 17s 232ms/step - loss: 0.0020\n",
      "Epoch 43/70\n",
      "74/74 [==============================] - 17s 230ms/step - loss: 0.0019\n",
      "Epoch 44/70\n",
      "74/74 [==============================] - 17s 231ms/step - loss: 0.0020\n",
      "Epoch 45/70\n",
      "74/74 [==============================] - 18s 243ms/step - loss: 0.0022\n",
      "Epoch 46/70\n",
      "74/74 [==============================] - 17s 232ms/step - loss: 0.0022\n",
      "Epoch 47/70\n",
      "74/74 [==============================] - 18s 244ms/step - loss: 0.0019\n",
      "Epoch 48/70\n",
      "74/74 [==============================] - 18s 246ms/step - loss: 0.0020\n",
      "Epoch 49/70\n",
      "74/74 [==============================] - 18s 243ms/step - loss: 0.0019\n",
      "Epoch 50/70\n",
      "74/74 [==============================] - 18s 240ms/step - loss: 0.0020\n",
      "Epoch 51/70\n",
      "74/74 [==============================] - 18s 249ms/step - loss: 0.0021\n",
      "Epoch 52/70\n",
      "74/74 [==============================] - 19s 251ms/step - loss: 0.0020\n",
      "Epoch 53/70\n",
      "74/74 [==============================] - 18s 242ms/step - loss: 0.0023\n",
      "Epoch 54/70\n",
      "74/74 [==============================] - 19s 262ms/step - loss: 0.0018\n",
      "Epoch 55/70\n",
      "74/74 [==============================] - 19s 257ms/step - loss: 0.0021\n",
      "Epoch 56/70\n",
      "74/74 [==============================] - 17s 227ms/step - loss: 0.0020\n",
      "Epoch 57/70\n",
      "74/74 [==============================] - 19s 250ms/step - loss: 0.0019\n",
      "Epoch 58/70\n",
      "74/74 [==============================] - 20s 271ms/step - loss: 0.0019\n",
      "Epoch 59/70\n",
      "74/74 [==============================] - 20s 264ms/step - loss: 0.0018\n",
      "Epoch 60/70\n",
      "74/74 [==============================] - 18s 248ms/step - loss: 0.0019\n",
      "Epoch 61/70\n",
      "74/74 [==============================] - 19s 259ms/step - loss: 0.0019\n",
      "Epoch 62/70\n",
      "74/74 [==============================] - 19s 256ms/step - loss: 0.0020\n",
      "Epoch 63/70\n",
      "74/74 [==============================] - 18s 246ms/step - loss: 0.0018\n",
      "Epoch 64/70\n",
      "74/74 [==============================] - 18s 247ms/step - loss: 0.0019\n",
      "Epoch 65/70\n",
      "74/74 [==============================] - 19s 253ms/step - loss: 0.0018\n",
      "Epoch 66/70\n",
      "74/74 [==============================] - 18s 243ms/step - loss: 0.0017\n",
      "Epoch 67/70\n",
      "74/74 [==============================] - 18s 241ms/step - loss: 0.0017\n",
      "Epoch 68/70\n",
      "74/74 [==============================] - 18s 239ms/step - loss: 0.0018\n",
      "Epoch 69/70\n",
      "74/74 [==============================] - 18s 245ms/step - loss: 0.0017\n",
      "Epoch 70/70\n",
      "74/74 [==============================] - 18s 244ms/step - loss: 0.0017\n"
     ]
    },
    {
     "data": {
      "text/plain": [
       "<keras.callbacks.History at 0x152b6a7b090>"
      ]
     },
     "execution_count": 164,
     "metadata": {},
     "output_type": "execute_result"
    }
   ],
   "source": [
    "model.compile(optimizer='adam', loss='mean_squared_error')\n",
    "model.fit(X_train,y_train ,epochs=110)"
   ]
  },
  {
   "cell_type": "code",
   "execution_count": 165,
   "id": "28fb53df",
   "metadata": {},
   "outputs": [],
   "source": [
    "model.save('RELIANCE.NS10.NS_keras_model.h5')"
   ]
  },
  {
   "cell_type": "code",
   "execution_count": 166,
   "id": "170c09d8",
   "metadata": {},
   "outputs": [
    {
     "data": {
      "text/html": [
       "<div>\n",
       "<style scoped>\n",
       "    .dataframe tbody tr th:only-of-type {\n",
       "        vertical-align: middle;\n",
       "    }\n",
       "\n",
       "    .dataframe tbody tr th {\n",
       "        vertical-align: top;\n",
       "    }\n",
       "\n",
       "    .dataframe thead th {\n",
       "        text-align: right;\n",
       "    }\n",
       "</style>\n",
       "<table border=\"1\" class=\"dataframe\">\n",
       "  <thead>\n",
       "    <tr style=\"text-align: right;\">\n",
       "      <th></th>\n",
       "      <th>Close</th>\n",
       "    </tr>\n",
       "  </thead>\n",
       "  <tbody>\n",
       "    <tr>\n",
       "      <th>2445</th>\n",
       "      <td>1421.695923</td>\n",
       "    </tr>\n",
       "    <tr>\n",
       "      <th>2446</th>\n",
       "      <td>1437.879639</td>\n",
       "    </tr>\n",
       "    <tr>\n",
       "      <th>2447</th>\n",
       "      <td>1428.141968</td>\n",
       "    </tr>\n",
       "    <tr>\n",
       "      <th>2448</th>\n",
       "      <td>1428.553467</td>\n",
       "    </tr>\n",
       "    <tr>\n",
       "      <th>2449</th>\n",
       "      <td>1433.856567</td>\n",
       "    </tr>\n",
       "  </tbody>\n",
       "</table>\n",
       "</div>"
      ],
      "text/plain": [
       "            Close\n",
       "2445  1421.695923\n",
       "2446  1437.879639\n",
       "2447  1428.141968\n",
       "2448  1428.553467\n",
       "2449  1433.856567"
      ]
     },
     "execution_count": 166,
     "metadata": {},
     "output_type": "execute_result"
    }
   ],
   "source": [
    "Data_testing.head()"
   ]
  },
  {
   "cell_type": "code",
   "execution_count": 167,
   "id": "67d628f2",
   "metadata": {},
   "outputs": [],
   "source": [
    "past_100_days = Data_training.tail(100)"
   ]
  },
  {
   "cell_type": "code",
   "execution_count": 168,
   "id": "623b33b7",
   "metadata": {},
   "outputs": [],
   "source": [
    "final_df = pd.concat([past_100_days,Data_testing],ignore_index= True)"
   ]
  },
  {
   "cell_type": "code",
   "execution_count": 169,
   "id": "78ccb539",
   "metadata": {},
   "outputs": [
    {
     "data": {
      "text/html": [
       "<div>\n",
       "<style scoped>\n",
       "    .dataframe tbody tr th:only-of-type {\n",
       "        vertical-align: middle;\n",
       "    }\n",
       "\n",
       "    .dataframe tbody tr th {\n",
       "        vertical-align: top;\n",
       "    }\n",
       "\n",
       "    .dataframe thead th {\n",
       "        text-align: right;\n",
       "    }\n",
       "</style>\n",
       "<table border=\"1\" class=\"dataframe\">\n",
       "  <thead>\n",
       "    <tr style=\"text-align: right;\">\n",
       "      <th></th>\n",
       "      <th>Close</th>\n",
       "    </tr>\n",
       "  </thead>\n",
       "  <tbody>\n",
       "    <tr>\n",
       "      <th>0</th>\n",
       "      <td>1170.437256</td>\n",
       "    </tr>\n",
       "    <tr>\n",
       "      <th>1</th>\n",
       "      <td>1169.294434</td>\n",
       "    </tr>\n",
       "    <tr>\n",
       "      <th>2</th>\n",
       "      <td>1171.763062</td>\n",
       "    </tr>\n",
       "    <tr>\n",
       "      <th>3</th>\n",
       "      <td>1170.803101</td>\n",
       "    </tr>\n",
       "    <tr>\n",
       "      <th>4</th>\n",
       "      <td>1166.780029</td>\n",
       "    </tr>\n",
       "  </tbody>\n",
       "</table>\n",
       "</div>"
      ],
      "text/plain": [
       "         Close\n",
       "0  1170.437256\n",
       "1  1169.294434\n",
       "2  1171.763062\n",
       "3  1170.803101\n",
       "4  1166.780029"
      ]
     },
     "execution_count": 169,
     "metadata": {},
     "output_type": "execute_result"
    }
   ],
   "source": [
    "final_df.head()"
   ]
  },
  {
   "cell_type": "code",
   "execution_count": 170,
   "id": "be8c042d",
   "metadata": {},
   "outputs": [
    {
     "data": {
      "text/plain": [
       "array([[0.16619199],\n",
       "       [0.1656675 ],\n",
       "       [0.16680045],\n",
       "       ...,\n",
       "       [0.98910018],\n",
       "       [1.        ],\n",
       "       [0.99421731]])"
      ]
     },
     "execution_count": 170,
     "metadata": {},
     "output_type": "execute_result"
    }
   ],
   "source": [
    "input_data = scaler.fit_transform(final_df)\n",
    "input_data"
   ]
  },
  {
   "cell_type": "code",
   "execution_count": 171,
   "id": "46746c5f",
   "metadata": {},
   "outputs": [
    {
     "data": {
      "text/plain": [
       "(1148, 1)"
      ]
     },
     "execution_count": 171,
     "metadata": {},
     "output_type": "execute_result"
    }
   ],
   "source": [
    "input_data.shape"
   ]
  },
  {
   "cell_type": "code",
   "execution_count": 172,
   "id": "f2813b14",
   "metadata": {},
   "outputs": [],
   "source": [
    "x_test = []\n",
    "y_test = []\n",
    "for i in range(100, input_data.shape[0]):\n",
    "    x_test.append(input_data[i-100:i])\n",
    "    y_test.append(input_data[i,0])"
   ]
  },
  {
   "cell_type": "code",
   "execution_count": 173,
   "id": "aaa77269",
   "metadata": {},
   "outputs": [
    {
     "name": "stdout",
     "output_type": "stream",
     "text": [
      "(1048, 100, 1)\n",
      "(1048,)\n"
     ]
    }
   ],
   "source": [
    "x_test,y_test = np.array(x_test), np.array(y_test)\n",
    "print(x_test.shape)\n",
    "print(y_test.shape)"
   ]
  },
  {
   "cell_type": "code",
   "execution_count": 174,
   "id": "3f7d4e8c",
   "metadata": {},
   "outputs": [
    {
     "name": "stdout",
     "output_type": "stream",
     "text": [
      "33/33 [==============================] - 4s 104ms/step\n"
     ]
    }
   ],
   "source": [
    "# making predication\n",
    "\n",
    "y_predicated = model.predict(x_test)"
   ]
  },
  {
   "cell_type": "code",
   "execution_count": 175,
   "id": "a8e3e23a",
   "metadata": {},
   "outputs": [
    {
     "data": {
      "text/plain": [
       "(1048, 1)"
      ]
     },
     "execution_count": 175,
     "metadata": {},
     "output_type": "execute_result"
    }
   ],
   "source": [
    "y_predicated.shape"
   ]
  },
  {
   "cell_type": "code",
   "execution_count": 176,
   "id": "48d86c6d",
   "metadata": {},
   "outputs": [
    {
     "data": {
      "text/plain": [
       "array([0.28150464, 0.28893199, 0.28446299, ..., 0.98910018, 1.        ,\n",
       "       0.99421731])"
      ]
     },
     "execution_count": 176,
     "metadata": {},
     "output_type": "execute_result"
    }
   ],
   "source": [
    "y_test"
   ]
  },
  {
   "cell_type": "code",
   "execution_count": 177,
   "id": "a79d2d5c",
   "metadata": {},
   "outputs": [
    {
     "data": {
      "text/plain": [
       "array([[0.26774064],\n",
       "       [0.26822093],\n",
       "       [0.26863873],\n",
       "       ...,\n",
       "       [0.9433076 ],\n",
       "       [0.94465613],\n",
       "       [0.94742197]], dtype=float32)"
      ]
     },
     "execution_count": 177,
     "metadata": {},
     "output_type": "execute_result"
    }
   ],
   "source": [
    "y_predicated"
   ]
  },
  {
   "cell_type": "code",
   "execution_count": 178,
   "id": "fd31b29c",
   "metadata": {},
   "outputs": [
    {
     "data": {
      "text/plain": [
       "array([0.00045894])"
      ]
     },
     "execution_count": 178,
     "metadata": {},
     "output_type": "execute_result"
    }
   ],
   "source": [
    "scaler.scale_"
   ]
  },
  {
   "cell_type": "code",
   "execution_count": 179,
   "id": "34994f20",
   "metadata": {},
   "outputs": [],
   "source": [
    "scale_factor = 1/0.01566171\n",
    "y_predicated = y_predicated * scale_factor\n",
    "y_test = y_test * scale_factor"
   ]
  },
  {
   "cell_type": "code",
   "execution_count": 180,
   "id": "93bc8e6f",
   "metadata": {},
   "outputs": [
    {
     "data": {
      "image/png": "[encoded data removed]",
      "text/plain": [
       "<Figure size 1200x600 with 1 Axes>"
      ]
     },
     "metadata": {},
     "output_type": "display_data"
    }
   ],
   "source": [
    "plt.figure(figsize=(12,6))\n",
    "plt.plot(y_test,'b',label ='original price')\n",
    "plt.plot(y_predicated,'r',label ='Predicated price')\n",
    "plt.xlabel('Time')\n",
    "plt.ylabel('Price')\n",
    "plt.legend()\n",
    "plt.show()"
   ]
  },
  {
   "cell_type": "code",
   "execution_count": null,
   "id": "4f670247",
   "metadata": {},
   "outputs": [],
   "source": []
  },
  {
   "cell_type": "code",
   "execution_count": null,
   "id": "772351d0",
   "metadata": {},
   "outputs": [],
   "source": []
  },
  {
   "cell_type": "code",
   "execution_count": null,
   "id": "e0d44e03",
   "metadata": {},
   "outputs": [],
   "source": []
  },
  {
   "cell_type": "code",
   "execution_count": null,
   "id": "5c69d44f",
   "metadata": {},
   "outputs": [],
   "source": []
  },
  {
   "cell_type": "code",
   "execution_count": null,
   "id": "d3d3a963",
   "metadata": {},
   "outputs": [],
   "source": []
  },
  {
   "cell_type": "code",
   "execution_count": 90,
   "id": "e9c42998",
   "metadata": {},
   "outputs": [
    {
     "name": "stdout",
     "output_type": "stream",
     "text": [
      "Enter the stock ticker symbol: POWERGRID.NS\n",
      "Enter the P/E ratio: 15.73\n",
      "Enter the earnings per share (EPS): 17.35\n",
      "Intrinsic Value: 272.92\n",
      "Current Price: 273.00\n",
      "Stock is overvalued\n"
     ]
    }
   ],
   "source": [
    "import yfinance as yf\n",
    "\n",
    "# Function to calculate intrinsic value based on user-provided P/E ratio and EPS\n",
    "def calculate_intrinsic_value(ticker, pe, eps):\n",
    "    # Fetch current market price\n",
    "    stock = yf.Ticker(ticker)\n",
    "    current_price = stock.history(period=\"1d\")[\"Close\"].iloc[-1]\n",
    "\n",
    "    # Calculate intrinsic value\n",
    "    intrinsic_value = pe * eps\n",
    "\n",
    "    # Compare intrinsic value with current price\n",
    "    if intrinsic_value > current_price:\n",
    "        status = 'undervalued'\n",
    "    elif intrinsic_value < current_price:\n",
    "        status = 'overvalued'\n",
    "    else:\n",
    "        status = 'fairly valued'\n",
    "\n",
    "    return intrinsic_value, current_price, status\n",
    "\n",
    "# Input function to get PE and EPS from the user\n",
    "def get_input():\n",
    "    ticker = input(\"Enter the stock ticker symbol: \")\n",
    "    pe = float(input(\"Enter the P/E ratio: \"))\n",
    "    eps = float(input(\"Enter the earnings per share (EPS): \"))\n",
    "    return ticker, pe, eps\n",
    "\n",
    "# Example usage\n",
    "ticker, pe, eps = get_input()\n",
    "intrinsic_value, current_price, status = calculate_intrinsic_value(ticker, pe, eps)\n",
    "print(f'Intrinsic Value: {intrinsic_value:.2f}')\n",
    "print(f'Current Price: {current_price:.2f}')\n",
    "print(f'Stock is {status}')\n"
   ]
  },
  {
   "cell_type": "code",
   "execution_count": 91,
   "id": "fca59317",
   "metadata": {},
   "outputs": [
    {
     "name": "stdout",
     "output_type": "stream",
     "text": [
      "Enter the stock ticker symbol: POWERGRID.NS\n",
      "Enter the start date (YYYY-MM-DD): 2021-01-01\n",
      "Enter the end date (YYYY-MM-DD): 2024-02-09\n",
      "Enter the P/E ratio: 15.73\n",
      "Enter the earnings per share (EPS): 17.35\n",
      "[*********************100%%**********************]  1 of 1 completed\n",
      "Intrinsic Value: 272.92\n",
      "Current Price: 276.20\n",
      "Stock is overvalued\n"
     ]
    }
   ],
   "source": [
    "import yfinance as yf\n",
    "\n",
    "# Function to calculate intrinsic value based on historical data and user-provided P/E ratio and EPS\n",
    "def calculate_intrinsic_value(ticker, start_date, end_date, pe, eps):\n",
    "    # Fetch historical stock data for the specified period\n",
    "    stock_data = yf.download(ticker, start=start_date, end=end_date)\n",
    "    if stock_data.empty:\n",
    "        return None, None, None, \"Failed to fetch historical data\"\n",
    "\n",
    "    # Fetch current market price\n",
    "    current_price = stock_data['Close'].iloc[-1]\n",
    "\n",
    "    # Calculate intrinsic value\n",
    "    intrinsic_value = pe * eps\n",
    "\n",
    "    # Compare intrinsic value with current price\n",
    "    if intrinsic_value > current_price:\n",
    "        status = 'undervalued'\n",
    "    elif intrinsic_value < current_price:\n",
    "        status = 'overvalued'\n",
    "    else:\n",
    "        status = 'fairly valued'\n",
    "\n",
    "    return intrinsic_value, current_price, status, None\n",
    "\n",
    "# Input function to get PE and EPS from the user, along with start and end dates\n",
    "def get_input():\n",
    "    ticker = input(\"Enter the stock ticker symbol: \")\n",
    "    start_date = input(\"Enter the start date (YYYY-MM-DD): \")\n",
    "    end_date = input(\"Enter the end date (YYYY-MM-DD): \")\n",
    "    pe = float(input(\"Enter the P/E ratio: \"))\n",
    "    eps = float(input(\"Enter the earnings per share (EPS): \"))\n",
    "    return ticker, start_date, end_date, pe, eps\n",
    "\n",
    "# Example usage\n",
    "ticker, start_date, end_date, pe, eps = get_input()\n",
    "intrinsic_value, current_price, status, error = calculate_intrinsic_value(ticker, start_date, end_date, pe, eps)\n",
    "if error:\n",
    "    print(error)\n",
    "else:\n",
    "    print(f'Intrinsic Value: {intrinsic_value:.2f}')\n",
    "    print(f'Current Price: {current_price:.2f}')\n",
    "    print(f'Stock is {status}')\n"
   ]
  },
  {
   "cell_type": "code",
   "execution_count": 99,
   "id": "5d82e9e4",
   "metadata": {},
   "outputs": [
    {
     "name": "stdout",
     "output_type": "stream",
     "text": [
      "Enter the stock ticker symbol: POWERGRID.NS\n",
      "Enter the start year: 2021\n",
      "Enter the end year: 2024\n",
      "Enter the P/E ratio: 15.73\n",
      "Enter the earnings per share (EPS): 17.35\n",
      "[*********************100%%**********************]  1 of 1 completed\n",
      "Intrinsic Value: 272.92\n",
      "Current Price: 273.00\n",
      "Stock is overvalued\n"
     ]
    }
   ],
   "source": [
    "import yfinance as yf\n",
    "\n",
    "# Function to calculate intrinsic value based on user-provided P/E ratio and EPS\n",
    "def calculate_intrinsic_value(ticker, start_year, end_year, pe, eps):\n",
    "    # Fetch historical stock data for the specified period\n",
    "    start_date = f\"{start_year}-01-01\"\n",
    "    end_date = f\"{end_year}-12-31\"\n",
    "    stock_data = yf.download(ticker, start=start_date, end=end_date)\n",
    "    if stock_data.empty:\n",
    "        return None, None, None, \"Failed to fetch historical data\"\n",
    "\n",
    "    # Calculate intrinsic value using the user-provided P/E ratio and EPS\n",
    "    intrinsic_value = pe * eps\n",
    "\n",
    "    # Fetch current market price\n",
    "    current_price = stock_data['Close'].iloc[-1]\n",
    "\n",
    "    # Compare intrinsic value with current price\n",
    "    if intrinsic_value > current_price:\n",
    "        status = 'undervalued'\n",
    "    elif intrinsic_value < current_price:\n",
    "        status = 'overvalued'\n",
    "    else:\n",
    "        status = 'fairly valued'\n",
    "\n",
    "    return intrinsic_value, current_price, status, None\n",
    "\n",
    "# Input function to get user-provided data\n",
    "def get_input():\n",
    "    ticker = input(\"Enter the stock ticker symbol: \")\n",
    "    start_year = int(input(\"Enter the start year: \"))\n",
    "    end_year = int(input(\"Enter the end year: \"))\n",
    "    pe = float(input(\"Enter the P/E ratio: \"))\n",
    "    eps = float(input(\"Enter the earnings per share (EPS): \"))\n",
    "    return ticker, start_year, end_year, pe, eps\n",
    "\n",
    "# Example usage\n",
    "ticker, start_year, end_year, pe, eps = get_input()\n",
    "intrinsic_value, current_price, status, error = calculate_intrinsic_value(ticker, start_year, end_year, pe, eps)\n",
    "if error:\n",
    "    print(error)\n",
    "else:\n",
    "    print(f'Intrinsic Value: {intrinsic_value:.2f}')\n",
    "    print(f'Current Price: {current_price:.2f}')\n",
    "    print(f'Stock is {status}')\n"
   ]
  },
  {
   "cell_type": "code",
   "execution_count": 96,
   "id": "3a8d5392",
   "metadata": {},
   "outputs": [
    {
     "name": "stdout",
     "output_type": "stream",
     "text": [
      "4.0200000000000005\n"
     ]
    }
   ],
   "source": [
    "w = 20.1\n",
    "t = 5\n",
    "print(w/t)"
   ]
  },
  {
   "cell_type": "code",
   "execution_count": null,
   "id": "4822157c",
   "metadata": {},
   "outputs": [],
   "source": []
  }
 ],
 "metadata": {
  "kernelspec": {
   "display_name": "Python 3 (ipykernel)",
   "language": "python",
   "name": "python3"
  },
  "language_info": {
   "codemirror_mode": {
    "name": "ipython",
    "version": 3
   },
   "file_extension": ".py",
   "mimetype": "text/x-python",
   "name": "python",
   "nbconvert_exporter": "python",
   "pygments_lexer": "ipython3",
   "version": "3.11.2"
  }
 },
 "nbformat": 4,
 "nbformat_minor": 5
}
